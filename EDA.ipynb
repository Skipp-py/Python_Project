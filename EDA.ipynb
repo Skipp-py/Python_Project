{
 "cells": [
  {
   "cell_type": "code",
   "execution_count": 1,
   "id": "42bdeeef",
   "metadata": {},
   "outputs": [],
   "source": [
    "import numpy as np\n",
    "import pandas as pd\n",
    "import matplotlib.pyplot as plt\n",
    "import plotly.express as px\n",
    "\n",
    "unfiltered = pd.read_csv('./Data/unfiltered_experiences.csv')\n",
    "experiences = pd.read_csv('./Data/Online_Experiences.csv')"
   ]
  },
  {
   "cell_type": "code",
   "execution_count": 2,
   "id": "06a329be",
   "metadata": {
    "scrolled": true
   },
   "outputs": [
    {
     "data": {
      "text/html": [
       "<div>\n",
       "<style scoped>\n",
       "    .dataframe tbody tr th:only-of-type {\n",
       "        vertical-align: middle;\n",
       "    }\n",
       "\n",
       "    .dataframe tbody tr th {\n",
       "        vertical-align: top;\n",
       "    }\n",
       "\n",
       "    .dataframe thead th {\n",
       "        text-align: right;\n",
       "    }\n",
       "</style>\n",
       "<table border=\"1\" class=\"dataframe\">\n",
       "  <thead>\n",
       "    <tr style=\"text-align: right;\">\n",
       "      <th></th>\n",
       "      <th>Cost</th>\n",
       "      <th>Duration</th>\n",
       "      <th>Group_Limit</th>\n",
       "      <th>Group_Start_Cost</th>\n",
       "      <th>Rating</th>\n",
       "      <th>Reviews</th>\n",
       "    </tr>\n",
       "    <tr>\n",
       "      <th>Country</th>\n",
       "      <th></th>\n",
       "      <th></th>\n",
       "      <th></th>\n",
       "      <th></th>\n",
       "      <th></th>\n",
       "      <th></th>\n",
       "    </tr>\n",
       "  </thead>\n",
       "  <tbody>\n",
       "    <tr>\n",
       "      <th>Afghanistan</th>\n",
       "      <td>30.000000</td>\n",
       "      <td>60.000000</td>\n",
       "      <td>30.000000</td>\n",
       "      <td>25.000000</td>\n",
       "      <td>5.000000</td>\n",
       "      <td>6.000000</td>\n",
       "    </tr>\n",
       "    <tr>\n",
       "      <th>Argentina</th>\n",
       "      <td>14.137931</td>\n",
       "      <td>60.000000</td>\n",
       "      <td>66.000000</td>\n",
       "      <td>96.827586</td>\n",
       "      <td>4.943600</td>\n",
       "      <td>186.200000</td>\n",
       "    </tr>\n",
       "    <tr>\n",
       "      <th>Australia</th>\n",
       "      <td>30.555556</td>\n",
       "      <td>65.000000</td>\n",
       "      <td>162.958333</td>\n",
       "      <td>191.750000</td>\n",
       "      <td>4.926111</td>\n",
       "      <td>60.166667</td>\n",
       "    </tr>\n",
       "    <tr>\n",
       "      <th>Austria</th>\n",
       "      <td>18.166667</td>\n",
       "      <td>80.000000</td>\n",
       "      <td>23.333333</td>\n",
       "      <td>139.166667</td>\n",
       "      <td>4.910000</td>\n",
       "      <td>43.000000</td>\n",
       "    </tr>\n",
       "    <tr>\n",
       "      <th>Bahamas</th>\n",
       "      <td>30.000000</td>\n",
       "      <td>45.000000</td>\n",
       "      <td>500.000000</td>\n",
       "      <td>1250.000000</td>\n",
       "      <td>5.000000</td>\n",
       "      <td>6.000000</td>\n",
       "    </tr>\n",
       "    <tr>\n",
       "      <th>...</th>\n",
       "      <td>...</td>\n",
       "      <td>...</td>\n",
       "      <td>...</td>\n",
       "      <td>...</td>\n",
       "      <td>...</td>\n",
       "      <td>...</td>\n",
       "    </tr>\n",
       "    <tr>\n",
       "      <th>United Arab Emirates</th>\n",
       "      <td>41.250000</td>\n",
       "      <td>48.750000</td>\n",
       "      <td>82.500000</td>\n",
       "      <td>85.750000</td>\n",
       "      <td>4.965000</td>\n",
       "      <td>172.500000</td>\n",
       "    </tr>\n",
       "    <tr>\n",
       "      <th>United Kingdom</th>\n",
       "      <td>26.594203</td>\n",
       "      <td>70.434783</td>\n",
       "      <td>131.153846</td>\n",
       "      <td>251.246154</td>\n",
       "      <td>4.970000</td>\n",
       "      <td>167.303030</td>\n",
       "    </tr>\n",
       "    <tr>\n",
       "      <th>United States</th>\n",
       "      <td>33.327485</td>\n",
       "      <td>67.602339</td>\n",
       "      <td>56.987654</td>\n",
       "      <td>215.382716</td>\n",
       "      <td>4.972590</td>\n",
       "      <td>109.122302</td>\n",
       "    </tr>\n",
       "    <tr>\n",
       "      <th>Uruguay</th>\n",
       "      <td>14.000000</td>\n",
       "      <td>75.000000</td>\n",
       "      <td>30.000000</td>\n",
       "      <td>124.000000</td>\n",
       "      <td>5.000000</td>\n",
       "      <td>22.000000</td>\n",
       "    </tr>\n",
       "    <tr>\n",
       "      <th>Vietnam</th>\n",
       "      <td>13.625000</td>\n",
       "      <td>76.875000</td>\n",
       "      <td>15.375000</td>\n",
       "      <td>72.750000</td>\n",
       "      <td>4.957143</td>\n",
       "      <td>71.142857</td>\n",
       "    </tr>\n",
       "  </tbody>\n",
       "</table>\n",
       "<p>75 rows × 6 columns</p>\n",
       "</div>"
      ],
      "text/plain": [
       "                           Cost   Duration  Group_Limit  Group_Start_Cost  \\\n",
       "Country                                                                     \n",
       "Afghanistan           30.000000  60.000000    30.000000         25.000000   \n",
       "Argentina             14.137931  60.000000    66.000000         96.827586   \n",
       "Australia             30.555556  65.000000   162.958333        191.750000   \n",
       "Austria               18.166667  80.000000    23.333333        139.166667   \n",
       "Bahamas               30.000000  45.000000   500.000000       1250.000000   \n",
       "...                         ...        ...          ...               ...   \n",
       "United Arab Emirates  41.250000  48.750000    82.500000         85.750000   \n",
       "United Kingdom        26.594203  70.434783   131.153846        251.246154   \n",
       "United States         33.327485  67.602339    56.987654        215.382716   \n",
       "Uruguay               14.000000  75.000000    30.000000        124.000000   \n",
       "Vietnam               13.625000  76.875000    15.375000         72.750000   \n",
       "\n",
       "                        Rating     Reviews  \n",
       "Country                                     \n",
       "Afghanistan           5.000000    6.000000  \n",
       "Argentina             4.943600  186.200000  \n",
       "Australia             4.926111   60.166667  \n",
       "Austria               4.910000   43.000000  \n",
       "Bahamas               5.000000    6.000000  \n",
       "...                        ...         ...  \n",
       "United Arab Emirates  4.965000  172.500000  \n",
       "United Kingdom        4.970000  167.303030  \n",
       "United States         4.972590  109.122302  \n",
       "Uruguay               5.000000   22.000000  \n",
       "Vietnam               4.957143   71.142857  \n",
       "\n",
       "[75 rows x 6 columns]"
      ]
     },
     "execution_count": 2,
     "metadata": {},
     "output_type": "execute_result"
    }
   ],
   "source": [
    "experiences.pivot_table(values=['Rating','Reviews','Duration','Cost','Group_Limit','Group_Start_Cost'],index='Country')"
   ]
  },
  {
   "cell_type": "code",
   "execution_count": 9,
   "id": "ea70590a",
   "metadata": {},
   "outputs": [
    {
     "data": {
      "text/plain": [
       "United States     171\n",
       "Italy             100\n",
       "United Kingdom     69\n",
       "Japan              68\n",
       "Spain              48\n",
       "                 ... \n",
       "Mozambique          1\n",
       "Guatemala           1\n",
       "Afghanistan         1\n",
       "Cyprus              1\n",
       "Belgium             1\n",
       "Name: Country, Length: 75, dtype: int64"
      ]
     },
     "execution_count": 9,
     "metadata": {},
     "output_type": "execute_result"
    }
   ],
   "source": [
    "experiences['Country'].value_counts()"
   ]
  },
  {
   "cell_type": "code",
   "execution_count": 10,
   "id": "a57bb96c",
   "metadata": {},
   "outputs": [
    {
     "data": {
      "application/vnd.plotly.v1+json": {
       "config": {
        "plotlyServerURL": "https://plot.ly"
       },
       "data": [
        {
         "alignmentgroup": "True",
         "bingroup": "x",
         "histfunc": "sum",
         "hovertemplate": "Country=%{x}<br>sum of Values=%{y}<extra></extra>",
         "legendgroup": "United States",
         "marker": {
          "color": "#636efa",
          "pattern": {
           "shape": ""
          }
         },
         "name": "United States",
         "offsetgroup": "United States",
         "orientation": "v",
         "showlegend": true,
         "type": "histogram",
         "x": [
          "United States"
         ],
         "xaxis": "x",
         "y": [
          171
         ],
         "yaxis": "y"
        },
        {
         "alignmentgroup": "True",
         "bingroup": "x",
         "histfunc": "sum",
         "hovertemplate": "Country=%{x}<br>sum of Values=%{y}<extra></extra>",
         "legendgroup": "Italy",
         "marker": {
          "color": "#EF553B",
          "pattern": {
           "shape": ""
          }
         },
         "name": "Italy",
         "offsetgroup": "Italy",
         "orientation": "v",
         "showlegend": true,
         "type": "histogram",
         "x": [
          "Italy"
         ],
         "xaxis": "x",
         "y": [
          100
         ],
         "yaxis": "y"
        },
        {
         "alignmentgroup": "True",
         "bingroup": "x",
         "histfunc": "sum",
         "hovertemplate": "Country=%{x}<br>sum of Values=%{y}<extra></extra>",
         "legendgroup": "United Kingdom",
         "marker": {
          "color": "#00cc96",
          "pattern": {
           "shape": ""
          }
         },
         "name": "United Kingdom",
         "offsetgroup": "United Kingdom",
         "orientation": "v",
         "showlegend": true,
         "type": "histogram",
         "x": [
          "United Kingdom"
         ],
         "xaxis": "x",
         "y": [
          69
         ],
         "yaxis": "y"
        },
        {
         "alignmentgroup": "True",
         "bingroup": "x",
         "histfunc": "sum",
         "hovertemplate": "Country=%{x}<br>sum of Values=%{y}<extra></extra>",
         "legendgroup": "Japan",
         "marker": {
          "color": "#ab63fa",
          "pattern": {
           "shape": ""
          }
         },
         "name": "Japan",
         "offsetgroup": "Japan",
         "orientation": "v",
         "showlegend": true,
         "type": "histogram",
         "x": [
          "Japan"
         ],
         "xaxis": "x",
         "y": [
          68
         ],
         "yaxis": "y"
        },
        {
         "alignmentgroup": "True",
         "bingroup": "x",
         "histfunc": "sum",
         "hovertemplate": "Country=%{x}<br>sum of Values=%{y}<extra></extra>",
         "legendgroup": "India ",
         "marker": {
          "color": "#FFA15A",
          "pattern": {
           "shape": ""
          }
         },
         "name": "India ",
         "offsetgroup": "India ",
         "orientation": "v",
         "showlegend": true,
         "type": "histogram",
         "x": [
          "India "
         ],
         "xaxis": "x",
         "y": [
          48
         ],
         "yaxis": "y"
        },
        {
         "alignmentgroup": "True",
         "bingroup": "x",
         "histfunc": "sum",
         "hovertemplate": "Country=%{x}<br>sum of Values=%{y}<extra></extra>",
         "legendgroup": "Spain ",
         "marker": {
          "color": "#19d3f3",
          "pattern": {
           "shape": ""
          }
         },
         "name": "Spain ",
         "offsetgroup": "Spain ",
         "orientation": "v",
         "showlegend": true,
         "type": "histogram",
         "x": [
          "Spain "
         ],
         "xaxis": "x",
         "y": [
          48
         ],
         "yaxis": "y"
        },
        {
         "alignmentgroup": "True",
         "bingroup": "x",
         "histfunc": "sum",
         "hovertemplate": "Country=%{x}<br>sum of Values=%{y}<extra></extra>",
         "legendgroup": "Mexico ",
         "marker": {
          "color": "#FF6692",
          "pattern": {
           "shape": ""
          }
         },
         "name": "Mexico ",
         "offsetgroup": "Mexico ",
         "orientation": "v",
         "showlegend": true,
         "type": "histogram",
         "x": [
          "Mexico "
         ],
         "xaxis": "x",
         "y": [
          39
         ],
         "yaxis": "y"
        },
        {
         "alignmentgroup": "True",
         "bingroup": "x",
         "histfunc": "sum",
         "hovertemplate": "Country=%{x}<br>sum of Values=%{y}<extra></extra>",
         "legendgroup": "Canada",
         "marker": {
          "color": "#B6E880",
          "pattern": {
           "shape": ""
          }
         },
         "name": "Canada",
         "offsetgroup": "Canada",
         "orientation": "v",
         "showlegend": true,
         "type": "histogram",
         "x": [
          "Canada"
         ],
         "xaxis": "x",
         "y": [
          34
         ],
         "yaxis": "y"
        },
        {
         "alignmentgroup": "True",
         "bingroup": "x",
         "histfunc": "sum",
         "hovertemplate": "Country=%{x}<br>sum of Values=%{y}<extra></extra>",
         "legendgroup": "France ",
         "marker": {
          "color": "#FF97FF",
          "pattern": {
           "shape": ""
          }
         },
         "name": "France ",
         "offsetgroup": "France ",
         "orientation": "v",
         "showlegend": true,
         "type": "histogram",
         "x": [
          "France "
         ],
         "xaxis": "x",
         "y": [
          31
         ],
         "yaxis": "y"
        },
        {
         "alignmentgroup": "True",
         "bingroup": "x",
         "histfunc": "sum",
         "hovertemplate": "Country=%{x}<br>sum of Values=%{y}<extra></extra>",
         "legendgroup": "Argentina",
         "marker": {
          "color": "#FECB52",
          "pattern": {
           "shape": ""
          }
         },
         "name": "Argentina",
         "offsetgroup": "Argentina",
         "orientation": "v",
         "showlegend": true,
         "type": "histogram",
         "x": [
          "Argentina"
         ],
         "xaxis": "x",
         "y": [
          29
         ],
         "yaxis": "y"
        },
        {
         "alignmentgroup": "True",
         "bingroup": "x",
         "histfunc": "sum",
         "hovertemplate": "Country=%{x}<br>sum of Values=%{y}<extra></extra>",
         "legendgroup": "Australia",
         "marker": {
          "color": "#636efa",
          "pattern": {
           "shape": ""
          }
         },
         "name": "Australia",
         "offsetgroup": "Australia",
         "orientation": "v",
         "showlegend": true,
         "type": "histogram",
         "x": [
          "Australia"
         ],
         "xaxis": "x",
         "y": [
          27
         ],
         "yaxis": "y"
        },
        {
         "alignmentgroup": "True",
         "bingroup": "x",
         "histfunc": "sum",
         "hovertemplate": "Country=%{x}<br>sum of Values=%{y}<extra></extra>",
         "legendgroup": "Portugal",
         "marker": {
          "color": "#EF553B",
          "pattern": {
           "shape": ""
          }
         },
         "name": "Portugal",
         "offsetgroup": "Portugal",
         "orientation": "v",
         "showlegend": true,
         "type": "histogram",
         "x": [
          "Portugal"
         ],
         "xaxis": "x",
         "y": [
          23
         ],
         "yaxis": "y"
        },
        {
         "alignmentgroup": "True",
         "bingroup": "x",
         "histfunc": "sum",
         "hovertemplate": "Country=%{x}<br>sum of Values=%{y}<extra></extra>",
         "legendgroup": "Brazil",
         "marker": {
          "color": "#00cc96",
          "pattern": {
           "shape": ""
          }
         },
         "name": "Brazil",
         "offsetgroup": "Brazil",
         "orientation": "v",
         "showlegend": true,
         "type": "histogram",
         "x": [
          "Brazil"
         ],
         "xaxis": "x",
         "y": [
          19
         ],
         "yaxis": "y"
        },
        {
         "alignmentgroup": "True",
         "bingroup": "x",
         "histfunc": "sum",
         "hovertemplate": "Country=%{x}<br>sum of Values=%{y}<extra></extra>",
         "legendgroup": "Indonesia",
         "marker": {
          "color": "#ab63fa",
          "pattern": {
           "shape": ""
          }
         },
         "name": "Indonesia",
         "offsetgroup": "Indonesia",
         "orientation": "v",
         "showlegend": true,
         "type": "histogram",
         "x": [
          "Indonesia"
         ],
         "xaxis": "x",
         "y": [
          19
         ],
         "yaxis": "y"
        },
        {
         "alignmentgroup": "True",
         "bingroup": "x",
         "histfunc": "sum",
         "hovertemplate": "Country=%{x}<br>sum of Values=%{y}<extra></extra>",
         "legendgroup": "China",
         "marker": {
          "color": "#FFA15A",
          "pattern": {
           "shape": ""
          }
         },
         "name": "China",
         "offsetgroup": "China",
         "orientation": "v",
         "showlegend": true,
         "type": "histogram",
         "x": [
          "China"
         ],
         "xaxis": "x",
         "y": [
          18
         ],
         "yaxis": "y"
        },
        {
         "alignmentgroup": "True",
         "bingroup": "x",
         "histfunc": "sum",
         "hovertemplate": "Country=%{x}<br>sum of Values=%{y}<extra></extra>",
         "legendgroup": "Germany",
         "marker": {
          "color": "#19d3f3",
          "pattern": {
           "shape": ""
          }
         },
         "name": "Germany",
         "offsetgroup": "Germany",
         "orientation": "v",
         "showlegend": true,
         "type": "histogram",
         "x": [
          "Germany"
         ],
         "xaxis": "x",
         "y": [
          16
         ],
         "yaxis": "y"
        },
        {
         "alignmentgroup": "True",
         "bingroup": "x",
         "histfunc": "sum",
         "hovertemplate": "Country=%{x}<br>sum of Values=%{y}<extra></extra>",
         "legendgroup": "New Zealand",
         "marker": {
          "color": "#FF6692",
          "pattern": {
           "shape": ""
          }
         },
         "name": "New Zealand",
         "offsetgroup": "New Zealand",
         "orientation": "v",
         "showlegend": true,
         "type": "histogram",
         "x": [
          "New Zealand"
         ],
         "xaxis": "x",
         "y": [
          15
         ],
         "yaxis": "y"
        },
        {
         "alignmentgroup": "True",
         "bingroup": "x",
         "histfunc": "sum",
         "hovertemplate": "Country=%{x}<br>sum of Values=%{y}<extra></extra>",
         "legendgroup": "South Korea",
         "marker": {
          "color": "#B6E880",
          "pattern": {
           "shape": ""
          }
         },
         "name": "South Korea",
         "offsetgroup": "South Korea",
         "orientation": "v",
         "showlegend": true,
         "type": "histogram",
         "x": [
          "South Korea"
         ],
         "xaxis": "x",
         "y": [
          15
         ],
         "yaxis": "y"
        },
        {
         "alignmentgroup": "True",
         "bingroup": "x",
         "histfunc": "sum",
         "hovertemplate": "Country=%{x}<br>sum of Values=%{y}<extra></extra>",
         "legendgroup": "Singapore",
         "marker": {
          "color": "#FF97FF",
          "pattern": {
           "shape": ""
          }
         },
         "name": "Singapore",
         "offsetgroup": "Singapore",
         "orientation": "v",
         "showlegend": true,
         "type": "histogram",
         "x": [
          "Singapore"
         ],
         "xaxis": "x",
         "y": [
          14
         ],
         "yaxis": "y"
        },
        {
         "alignmentgroup": "True",
         "bingroup": "x",
         "histfunc": "sum",
         "hovertemplate": "Country=%{x}<br>sum of Values=%{y}<extra></extra>",
         "legendgroup": "South Africa",
         "marker": {
          "color": "#FECB52",
          "pattern": {
           "shape": ""
          }
         },
         "name": "South Africa",
         "offsetgroup": "South Africa",
         "orientation": "v",
         "showlegend": true,
         "type": "histogram",
         "x": [
          "South Africa"
         ],
         "xaxis": "x",
         "y": [
          14
         ],
         "yaxis": "y"
        }
       ],
       "layout": {
        "barmode": "relative",
        "legend": {
         "title": {
          "text": "Country"
         },
         "tracegroupgap": 0
        },
        "template": {
         "data": {
          "bar": [
           {
            "error_x": {
             "color": "#2a3f5f"
            },
            "error_y": {
             "color": "#2a3f5f"
            },
            "marker": {
             "line": {
              "color": "#E5ECF6",
              "width": 0.5
             },
             "pattern": {
              "fillmode": "overlay",
              "size": 10,
              "solidity": 0.2
             }
            },
            "type": "bar"
           }
          ],
          "barpolar": [
           {
            "marker": {
             "line": {
              "color": "#E5ECF6",
              "width": 0.5
             },
             "pattern": {
              "fillmode": "overlay",
              "size": 10,
              "solidity": 0.2
             }
            },
            "type": "barpolar"
           }
          ],
          "carpet": [
           {
            "aaxis": {
             "endlinecolor": "#2a3f5f",
             "gridcolor": "white",
             "linecolor": "white",
             "minorgridcolor": "white",
             "startlinecolor": "#2a3f5f"
            },
            "baxis": {
             "endlinecolor": "#2a3f5f",
             "gridcolor": "white",
             "linecolor": "white",
             "minorgridcolor": "white",
             "startlinecolor": "#2a3f5f"
            },
            "type": "carpet"
           }
          ],
          "choropleth": [
           {
            "colorbar": {
             "outlinewidth": 0,
             "ticks": ""
            },
            "type": "choropleth"
           }
          ],
          "contour": [
           {
            "colorbar": {
             "outlinewidth": 0,
             "ticks": ""
            },
            "colorscale": [
             [
              0,
              "#0d0887"
             ],
             [
              0.1111111111111111,
              "#46039f"
             ],
             [
              0.2222222222222222,
              "#7201a8"
             ],
             [
              0.3333333333333333,
              "#9c179e"
             ],
             [
              0.4444444444444444,
              "#bd3786"
             ],
             [
              0.5555555555555556,
              "#d8576b"
             ],
             [
              0.6666666666666666,
              "#ed7953"
             ],
             [
              0.7777777777777778,
              "#fb9f3a"
             ],
             [
              0.8888888888888888,
              "#fdca26"
             ],
             [
              1,
              "#f0f921"
             ]
            ],
            "type": "contour"
           }
          ],
          "contourcarpet": [
           {
            "colorbar": {
             "outlinewidth": 0,
             "ticks": ""
            },
            "type": "contourcarpet"
           }
          ],
          "heatmap": [
           {
            "colorbar": {
             "outlinewidth": 0,
             "ticks": ""
            },
            "colorscale": [
             [
              0,
              "#0d0887"
             ],
             [
              0.1111111111111111,
              "#46039f"
             ],
             [
              0.2222222222222222,
              "#7201a8"
             ],
             [
              0.3333333333333333,
              "#9c179e"
             ],
             [
              0.4444444444444444,
              "#bd3786"
             ],
             [
              0.5555555555555556,
              "#d8576b"
             ],
             [
              0.6666666666666666,
              "#ed7953"
             ],
             [
              0.7777777777777778,
              "#fb9f3a"
             ],
             [
              0.8888888888888888,
              "#fdca26"
             ],
             [
              1,
              "#f0f921"
             ]
            ],
            "type": "heatmap"
           }
          ],
          "heatmapgl": [
           {
            "colorbar": {
             "outlinewidth": 0,
             "ticks": ""
            },
            "colorscale": [
             [
              0,
              "#0d0887"
             ],
             [
              0.1111111111111111,
              "#46039f"
             ],
             [
              0.2222222222222222,
              "#7201a8"
             ],
             [
              0.3333333333333333,
              "#9c179e"
             ],
             [
              0.4444444444444444,
              "#bd3786"
             ],
             [
              0.5555555555555556,
              "#d8576b"
             ],
             [
              0.6666666666666666,
              "#ed7953"
             ],
             [
              0.7777777777777778,
              "#fb9f3a"
             ],
             [
              0.8888888888888888,
              "#fdca26"
             ],
             [
              1,
              "#f0f921"
             ]
            ],
            "type": "heatmapgl"
           }
          ],
          "histogram": [
           {
            "marker": {
             "pattern": {
              "fillmode": "overlay",
              "size": 10,
              "solidity": 0.2
             }
            },
            "type": "histogram"
           }
          ],
          "histogram2d": [
           {
            "colorbar": {
             "outlinewidth": 0,
             "ticks": ""
            },
            "colorscale": [
             [
              0,
              "#0d0887"
             ],
             [
              0.1111111111111111,
              "#46039f"
             ],
             [
              0.2222222222222222,
              "#7201a8"
             ],
             [
              0.3333333333333333,
              "#9c179e"
             ],
             [
              0.4444444444444444,
              "#bd3786"
             ],
             [
              0.5555555555555556,
              "#d8576b"
             ],
             [
              0.6666666666666666,
              "#ed7953"
             ],
             [
              0.7777777777777778,
              "#fb9f3a"
             ],
             [
              0.8888888888888888,
              "#fdca26"
             ],
             [
              1,
              "#f0f921"
             ]
            ],
            "type": "histogram2d"
           }
          ],
          "histogram2dcontour": [
           {
            "colorbar": {
             "outlinewidth": 0,
             "ticks": ""
            },
            "colorscale": [
             [
              0,
              "#0d0887"
             ],
             [
              0.1111111111111111,
              "#46039f"
             ],
             [
              0.2222222222222222,
              "#7201a8"
             ],
             [
              0.3333333333333333,
              "#9c179e"
             ],
             [
              0.4444444444444444,
              "#bd3786"
             ],
             [
              0.5555555555555556,
              "#d8576b"
             ],
             [
              0.6666666666666666,
              "#ed7953"
             ],
             [
              0.7777777777777778,
              "#fb9f3a"
             ],
             [
              0.8888888888888888,
              "#fdca26"
             ],
             [
              1,
              "#f0f921"
             ]
            ],
            "type": "histogram2dcontour"
           }
          ],
          "mesh3d": [
           {
            "colorbar": {
             "outlinewidth": 0,
             "ticks": ""
            },
            "type": "mesh3d"
           }
          ],
          "parcoords": [
           {
            "line": {
             "colorbar": {
              "outlinewidth": 0,
              "ticks": ""
             }
            },
            "type": "parcoords"
           }
          ],
          "pie": [
           {
            "automargin": true,
            "type": "pie"
           }
          ],
          "scatter": [
           {
            "marker": {
             "colorbar": {
              "outlinewidth": 0,
              "ticks": ""
             }
            },
            "type": "scatter"
           }
          ],
          "scatter3d": [
           {
            "line": {
             "colorbar": {
              "outlinewidth": 0,
              "ticks": ""
             }
            },
            "marker": {
             "colorbar": {
              "outlinewidth": 0,
              "ticks": ""
             }
            },
            "type": "scatter3d"
           }
          ],
          "scattercarpet": [
           {
            "marker": {
             "colorbar": {
              "outlinewidth": 0,
              "ticks": ""
             }
            },
            "type": "scattercarpet"
           }
          ],
          "scattergeo": [
           {
            "marker": {
             "colorbar": {
              "outlinewidth": 0,
              "ticks": ""
             }
            },
            "type": "scattergeo"
           }
          ],
          "scattergl": [
           {
            "marker": {
             "colorbar": {
              "outlinewidth": 0,
              "ticks": ""
             }
            },
            "type": "scattergl"
           }
          ],
          "scattermapbox": [
           {
            "marker": {
             "colorbar": {
              "outlinewidth": 0,
              "ticks": ""
             }
            },
            "type": "scattermapbox"
           }
          ],
          "scatterpolar": [
           {
            "marker": {
             "colorbar": {
              "outlinewidth": 0,
              "ticks": ""
             }
            },
            "type": "scatterpolar"
           }
          ],
          "scatterpolargl": [
           {
            "marker": {
             "colorbar": {
              "outlinewidth": 0,
              "ticks": ""
             }
            },
            "type": "scatterpolargl"
           }
          ],
          "scatterternary": [
           {
            "marker": {
             "colorbar": {
              "outlinewidth": 0,
              "ticks": ""
             }
            },
            "type": "scatterternary"
           }
          ],
          "surface": [
           {
            "colorbar": {
             "outlinewidth": 0,
             "ticks": ""
            },
            "colorscale": [
             [
              0,
              "#0d0887"
             ],
             [
              0.1111111111111111,
              "#46039f"
             ],
             [
              0.2222222222222222,
              "#7201a8"
             ],
             [
              0.3333333333333333,
              "#9c179e"
             ],
             [
              0.4444444444444444,
              "#bd3786"
             ],
             [
              0.5555555555555556,
              "#d8576b"
             ],
             [
              0.6666666666666666,
              "#ed7953"
             ],
             [
              0.7777777777777778,
              "#fb9f3a"
             ],
             [
              0.8888888888888888,
              "#fdca26"
             ],
             [
              1,
              "#f0f921"
             ]
            ],
            "type": "surface"
           }
          ],
          "table": [
           {
            "cells": {
             "fill": {
              "color": "#EBF0F8"
             },
             "line": {
              "color": "white"
             }
            },
            "header": {
             "fill": {
              "color": "#C8D4E3"
             },
             "line": {
              "color": "white"
             }
            },
            "type": "table"
           }
          ]
         },
         "layout": {
          "annotationdefaults": {
           "arrowcolor": "#2a3f5f",
           "arrowhead": 0,
           "arrowwidth": 1
          },
          "autotypenumbers": "strict",
          "coloraxis": {
           "colorbar": {
            "outlinewidth": 0,
            "ticks": ""
           }
          },
          "colorscale": {
           "diverging": [
            [
             0,
             "#8e0152"
            ],
            [
             0.1,
             "#c51b7d"
            ],
            [
             0.2,
             "#de77ae"
            ],
            [
             0.3,
             "#f1b6da"
            ],
            [
             0.4,
             "#fde0ef"
            ],
            [
             0.5,
             "#f7f7f7"
            ],
            [
             0.6,
             "#e6f5d0"
            ],
            [
             0.7,
             "#b8e186"
            ],
            [
             0.8,
             "#7fbc41"
            ],
            [
             0.9,
             "#4d9221"
            ],
            [
             1,
             "#276419"
            ]
           ],
           "sequential": [
            [
             0,
             "#0d0887"
            ],
            [
             0.1111111111111111,
             "#46039f"
            ],
            [
             0.2222222222222222,
             "#7201a8"
            ],
            [
             0.3333333333333333,
             "#9c179e"
            ],
            [
             0.4444444444444444,
             "#bd3786"
            ],
            [
             0.5555555555555556,
             "#d8576b"
            ],
            [
             0.6666666666666666,
             "#ed7953"
            ],
            [
             0.7777777777777778,
             "#fb9f3a"
            ],
            [
             0.8888888888888888,
             "#fdca26"
            ],
            [
             1,
             "#f0f921"
            ]
           ],
           "sequentialminus": [
            [
             0,
             "#0d0887"
            ],
            [
             0.1111111111111111,
             "#46039f"
            ],
            [
             0.2222222222222222,
             "#7201a8"
            ],
            [
             0.3333333333333333,
             "#9c179e"
            ],
            [
             0.4444444444444444,
             "#bd3786"
            ],
            [
             0.5555555555555556,
             "#d8576b"
            ],
            [
             0.6666666666666666,
             "#ed7953"
            ],
            [
             0.7777777777777778,
             "#fb9f3a"
            ],
            [
             0.8888888888888888,
             "#fdca26"
            ],
            [
             1,
             "#f0f921"
            ]
           ]
          },
          "colorway": [
           "#636efa",
           "#EF553B",
           "#00cc96",
           "#ab63fa",
           "#FFA15A",
           "#19d3f3",
           "#FF6692",
           "#B6E880",
           "#FF97FF",
           "#FECB52"
          ],
          "font": {
           "color": "#2a3f5f"
          },
          "geo": {
           "bgcolor": "white",
           "lakecolor": "white",
           "landcolor": "#E5ECF6",
           "showlakes": true,
           "showland": true,
           "subunitcolor": "white"
          },
          "hoverlabel": {
           "align": "left"
          },
          "hovermode": "closest",
          "mapbox": {
           "style": "light"
          },
          "paper_bgcolor": "white",
          "plot_bgcolor": "#E5ECF6",
          "polar": {
           "angularaxis": {
            "gridcolor": "white",
            "linecolor": "white",
            "ticks": ""
           },
           "bgcolor": "#E5ECF6",
           "radialaxis": {
            "gridcolor": "white",
            "linecolor": "white",
            "ticks": ""
           }
          },
          "scene": {
           "xaxis": {
            "backgroundcolor": "#E5ECF6",
            "gridcolor": "white",
            "gridwidth": 2,
            "linecolor": "white",
            "showbackground": true,
            "ticks": "",
            "zerolinecolor": "white"
           },
           "yaxis": {
            "backgroundcolor": "#E5ECF6",
            "gridcolor": "white",
            "gridwidth": 2,
            "linecolor": "white",
            "showbackground": true,
            "ticks": "",
            "zerolinecolor": "white"
           },
           "zaxis": {
            "backgroundcolor": "#E5ECF6",
            "gridcolor": "white",
            "gridwidth": 2,
            "linecolor": "white",
            "showbackground": true,
            "ticks": "",
            "zerolinecolor": "white"
           }
          },
          "shapedefaults": {
           "line": {
            "color": "#2a3f5f"
           }
          },
          "ternary": {
           "aaxis": {
            "gridcolor": "white",
            "linecolor": "white",
            "ticks": ""
           },
           "baxis": {
            "gridcolor": "white",
            "linecolor": "white",
            "ticks": ""
           },
           "bgcolor": "#E5ECF6",
           "caxis": {
            "gridcolor": "white",
            "linecolor": "white",
            "ticks": ""
           }
          },
          "title": {
           "x": 0.05
          },
          "xaxis": {
           "automargin": true,
           "gridcolor": "white",
           "linecolor": "white",
           "ticks": "",
           "title": {
            "standoff": 15
           },
           "zerolinecolor": "white",
           "zerolinewidth": 2
          },
          "yaxis": {
           "automargin": true,
           "gridcolor": "white",
           "linecolor": "white",
           "ticks": "",
           "title": {
            "standoff": 15
           },
           "zerolinecolor": "white",
           "zerolinewidth": 2
          }
         }
        },
        "title": {
         "text": "Experiences By Country"
        },
        "xaxis": {
         "anchor": "y",
         "categoryarray": [
          "United States",
          "Italy",
          "United Kingdom",
          "Japan",
          "India ",
          "Spain ",
          "Mexico ",
          "Canada",
          "France ",
          "Argentina",
          "Australia",
          "Portugal",
          "Brazil",
          "Indonesia",
          "China",
          "Germany",
          "New Zealand",
          "South Korea",
          "Singapore",
          "South Africa"
         ],
         "categoryorder": "total descending",
         "domain": [
          0,
          1
         ],
         "title": {
          "text": "Country"
         }
        },
        "yaxis": {
         "anchor": "x",
         "domain": [
          0,
          1
         ],
         "title": {
          "text": "sum of Values"
         }
        }
       }
      },
      "text/html": [
       "<div>                            <div id=\"df408c94-c71a-4888-8e0e-34ac2f9f04fe\" class=\"plotly-graph-div\" style=\"height:525px; width:100%;\"></div>            <script type=\"text/javascript\">                require([\"plotly\"], function(Plotly) {                    window.PLOTLYENV=window.PLOTLYENV || {};                                    if (document.getElementById(\"df408c94-c71a-4888-8e0e-34ac2f9f04fe\")) {                    Plotly.newPlot(                        \"df408c94-c71a-4888-8e0e-34ac2f9f04fe\",                        [{\"alignmentgroup\":\"True\",\"bingroup\":\"x\",\"histfunc\":\"sum\",\"hovertemplate\":\"Country=%{x}<br>sum of Values=%{y}<extra></extra>\",\"legendgroup\":\"United States\",\"marker\":{\"color\":\"#636efa\",\"pattern\":{\"shape\":\"\"}},\"name\":\"United States\",\"offsetgroup\":\"United States\",\"orientation\":\"v\",\"showlegend\":true,\"type\":\"histogram\",\"x\":[\"United States\"],\"xaxis\":\"x\",\"y\":[171],\"yaxis\":\"y\"},{\"alignmentgroup\":\"True\",\"bingroup\":\"x\",\"histfunc\":\"sum\",\"hovertemplate\":\"Country=%{x}<br>sum of Values=%{y}<extra></extra>\",\"legendgroup\":\"Italy\",\"marker\":{\"color\":\"#EF553B\",\"pattern\":{\"shape\":\"\"}},\"name\":\"Italy\",\"offsetgroup\":\"Italy\",\"orientation\":\"v\",\"showlegend\":true,\"type\":\"histogram\",\"x\":[\"Italy\"],\"xaxis\":\"x\",\"y\":[100],\"yaxis\":\"y\"},{\"alignmentgroup\":\"True\",\"bingroup\":\"x\",\"histfunc\":\"sum\",\"hovertemplate\":\"Country=%{x}<br>sum of Values=%{y}<extra></extra>\",\"legendgroup\":\"United Kingdom\",\"marker\":{\"color\":\"#00cc96\",\"pattern\":{\"shape\":\"\"}},\"name\":\"United Kingdom\",\"offsetgroup\":\"United Kingdom\",\"orientation\":\"v\",\"showlegend\":true,\"type\":\"histogram\",\"x\":[\"United Kingdom\"],\"xaxis\":\"x\",\"y\":[69],\"yaxis\":\"y\"},{\"alignmentgroup\":\"True\",\"bingroup\":\"x\",\"histfunc\":\"sum\",\"hovertemplate\":\"Country=%{x}<br>sum of Values=%{y}<extra></extra>\",\"legendgroup\":\"Japan\",\"marker\":{\"color\":\"#ab63fa\",\"pattern\":{\"shape\":\"\"}},\"name\":\"Japan\",\"offsetgroup\":\"Japan\",\"orientation\":\"v\",\"showlegend\":true,\"type\":\"histogram\",\"x\":[\"Japan\"],\"xaxis\":\"x\",\"y\":[68],\"yaxis\":\"y\"},{\"alignmentgroup\":\"True\",\"bingroup\":\"x\",\"histfunc\":\"sum\",\"hovertemplate\":\"Country=%{x}<br>sum of Values=%{y}<extra></extra>\",\"legendgroup\":\"India \",\"marker\":{\"color\":\"#FFA15A\",\"pattern\":{\"shape\":\"\"}},\"name\":\"India \",\"offsetgroup\":\"India \",\"orientation\":\"v\",\"showlegend\":true,\"type\":\"histogram\",\"x\":[\"India \"],\"xaxis\":\"x\",\"y\":[48],\"yaxis\":\"y\"},{\"alignmentgroup\":\"True\",\"bingroup\":\"x\",\"histfunc\":\"sum\",\"hovertemplate\":\"Country=%{x}<br>sum of Values=%{y}<extra></extra>\",\"legendgroup\":\"Spain \",\"marker\":{\"color\":\"#19d3f3\",\"pattern\":{\"shape\":\"\"}},\"name\":\"Spain \",\"offsetgroup\":\"Spain \",\"orientation\":\"v\",\"showlegend\":true,\"type\":\"histogram\",\"x\":[\"Spain \"],\"xaxis\":\"x\",\"y\":[48],\"yaxis\":\"y\"},{\"alignmentgroup\":\"True\",\"bingroup\":\"x\",\"histfunc\":\"sum\",\"hovertemplate\":\"Country=%{x}<br>sum of Values=%{y}<extra></extra>\",\"legendgroup\":\"Mexico \",\"marker\":{\"color\":\"#FF6692\",\"pattern\":{\"shape\":\"\"}},\"name\":\"Mexico \",\"offsetgroup\":\"Mexico \",\"orientation\":\"v\",\"showlegend\":true,\"type\":\"histogram\",\"x\":[\"Mexico \"],\"xaxis\":\"x\",\"y\":[39],\"yaxis\":\"y\"},{\"alignmentgroup\":\"True\",\"bingroup\":\"x\",\"histfunc\":\"sum\",\"hovertemplate\":\"Country=%{x}<br>sum of Values=%{y}<extra></extra>\",\"legendgroup\":\"Canada\",\"marker\":{\"color\":\"#B6E880\",\"pattern\":{\"shape\":\"\"}},\"name\":\"Canada\",\"offsetgroup\":\"Canada\",\"orientation\":\"v\",\"showlegend\":true,\"type\":\"histogram\",\"x\":[\"Canada\"],\"xaxis\":\"x\",\"y\":[34],\"yaxis\":\"y\"},{\"alignmentgroup\":\"True\",\"bingroup\":\"x\",\"histfunc\":\"sum\",\"hovertemplate\":\"Country=%{x}<br>sum of Values=%{y}<extra></extra>\",\"legendgroup\":\"France \",\"marker\":{\"color\":\"#FF97FF\",\"pattern\":{\"shape\":\"\"}},\"name\":\"France \",\"offsetgroup\":\"France \",\"orientation\":\"v\",\"showlegend\":true,\"type\":\"histogram\",\"x\":[\"France \"],\"xaxis\":\"x\",\"y\":[31],\"yaxis\":\"y\"},{\"alignmentgroup\":\"True\",\"bingroup\":\"x\",\"histfunc\":\"sum\",\"hovertemplate\":\"Country=%{x}<br>sum of Values=%{y}<extra></extra>\",\"legendgroup\":\"Argentina\",\"marker\":{\"color\":\"#FECB52\",\"pattern\":{\"shape\":\"\"}},\"name\":\"Argentina\",\"offsetgroup\":\"Argentina\",\"orientation\":\"v\",\"showlegend\":true,\"type\":\"histogram\",\"x\":[\"Argentina\"],\"xaxis\":\"x\",\"y\":[29],\"yaxis\":\"y\"},{\"alignmentgroup\":\"True\",\"bingroup\":\"x\",\"histfunc\":\"sum\",\"hovertemplate\":\"Country=%{x}<br>sum of Values=%{y}<extra></extra>\",\"legendgroup\":\"Australia\",\"marker\":{\"color\":\"#636efa\",\"pattern\":{\"shape\":\"\"}},\"name\":\"Australia\",\"offsetgroup\":\"Australia\",\"orientation\":\"v\",\"showlegend\":true,\"type\":\"histogram\",\"x\":[\"Australia\"],\"xaxis\":\"x\",\"y\":[27],\"yaxis\":\"y\"},{\"alignmentgroup\":\"True\",\"bingroup\":\"x\",\"histfunc\":\"sum\",\"hovertemplate\":\"Country=%{x}<br>sum of Values=%{y}<extra></extra>\",\"legendgroup\":\"Portugal\",\"marker\":{\"color\":\"#EF553B\",\"pattern\":{\"shape\":\"\"}},\"name\":\"Portugal\",\"offsetgroup\":\"Portugal\",\"orientation\":\"v\",\"showlegend\":true,\"type\":\"histogram\",\"x\":[\"Portugal\"],\"xaxis\":\"x\",\"y\":[23],\"yaxis\":\"y\"},{\"alignmentgroup\":\"True\",\"bingroup\":\"x\",\"histfunc\":\"sum\",\"hovertemplate\":\"Country=%{x}<br>sum of Values=%{y}<extra></extra>\",\"legendgroup\":\"Brazil\",\"marker\":{\"color\":\"#00cc96\",\"pattern\":{\"shape\":\"\"}},\"name\":\"Brazil\",\"offsetgroup\":\"Brazil\",\"orientation\":\"v\",\"showlegend\":true,\"type\":\"histogram\",\"x\":[\"Brazil\"],\"xaxis\":\"x\",\"y\":[19],\"yaxis\":\"y\"},{\"alignmentgroup\":\"True\",\"bingroup\":\"x\",\"histfunc\":\"sum\",\"hovertemplate\":\"Country=%{x}<br>sum of Values=%{y}<extra></extra>\",\"legendgroup\":\"Indonesia\",\"marker\":{\"color\":\"#ab63fa\",\"pattern\":{\"shape\":\"\"}},\"name\":\"Indonesia\",\"offsetgroup\":\"Indonesia\",\"orientation\":\"v\",\"showlegend\":true,\"type\":\"histogram\",\"x\":[\"Indonesia\"],\"xaxis\":\"x\",\"y\":[19],\"yaxis\":\"y\"},{\"alignmentgroup\":\"True\",\"bingroup\":\"x\",\"histfunc\":\"sum\",\"hovertemplate\":\"Country=%{x}<br>sum of Values=%{y}<extra></extra>\",\"legendgroup\":\"China\",\"marker\":{\"color\":\"#FFA15A\",\"pattern\":{\"shape\":\"\"}},\"name\":\"China\",\"offsetgroup\":\"China\",\"orientation\":\"v\",\"showlegend\":true,\"type\":\"histogram\",\"x\":[\"China\"],\"xaxis\":\"x\",\"y\":[18],\"yaxis\":\"y\"},{\"alignmentgroup\":\"True\",\"bingroup\":\"x\",\"histfunc\":\"sum\",\"hovertemplate\":\"Country=%{x}<br>sum of Values=%{y}<extra></extra>\",\"legendgroup\":\"Germany\",\"marker\":{\"color\":\"#19d3f3\",\"pattern\":{\"shape\":\"\"}},\"name\":\"Germany\",\"offsetgroup\":\"Germany\",\"orientation\":\"v\",\"showlegend\":true,\"type\":\"histogram\",\"x\":[\"Germany\"],\"xaxis\":\"x\",\"y\":[16],\"yaxis\":\"y\"},{\"alignmentgroup\":\"True\",\"bingroup\":\"x\",\"histfunc\":\"sum\",\"hovertemplate\":\"Country=%{x}<br>sum of Values=%{y}<extra></extra>\",\"legendgroup\":\"New Zealand\",\"marker\":{\"color\":\"#FF6692\",\"pattern\":{\"shape\":\"\"}},\"name\":\"New Zealand\",\"offsetgroup\":\"New Zealand\",\"orientation\":\"v\",\"showlegend\":true,\"type\":\"histogram\",\"x\":[\"New Zealand\"],\"xaxis\":\"x\",\"y\":[15],\"yaxis\":\"y\"},{\"alignmentgroup\":\"True\",\"bingroup\":\"x\",\"histfunc\":\"sum\",\"hovertemplate\":\"Country=%{x}<br>sum of Values=%{y}<extra></extra>\",\"legendgroup\":\"South Korea\",\"marker\":{\"color\":\"#B6E880\",\"pattern\":{\"shape\":\"\"}},\"name\":\"South Korea\",\"offsetgroup\":\"South Korea\",\"orientation\":\"v\",\"showlegend\":true,\"type\":\"histogram\",\"x\":[\"South Korea\"],\"xaxis\":\"x\",\"y\":[15],\"yaxis\":\"y\"},{\"alignmentgroup\":\"True\",\"bingroup\":\"x\",\"histfunc\":\"sum\",\"hovertemplate\":\"Country=%{x}<br>sum of Values=%{y}<extra></extra>\",\"legendgroup\":\"Singapore\",\"marker\":{\"color\":\"#FF97FF\",\"pattern\":{\"shape\":\"\"}},\"name\":\"Singapore\",\"offsetgroup\":\"Singapore\",\"orientation\":\"v\",\"showlegend\":true,\"type\":\"histogram\",\"x\":[\"Singapore\"],\"xaxis\":\"x\",\"y\":[14],\"yaxis\":\"y\"},{\"alignmentgroup\":\"True\",\"bingroup\":\"x\",\"histfunc\":\"sum\",\"hovertemplate\":\"Country=%{x}<br>sum of Values=%{y}<extra></extra>\",\"legendgroup\":\"South Africa\",\"marker\":{\"color\":\"#FECB52\",\"pattern\":{\"shape\":\"\"}},\"name\":\"South Africa\",\"offsetgroup\":\"South Africa\",\"orientation\":\"v\",\"showlegend\":true,\"type\":\"histogram\",\"x\":[\"South Africa\"],\"xaxis\":\"x\",\"y\":[14],\"yaxis\":\"y\"}],                        {\"barmode\":\"relative\",\"legend\":{\"title\":{\"text\":\"Country\"},\"tracegroupgap\":0},\"template\":{\"data\":{\"bar\":[{\"error_x\":{\"color\":\"#2a3f5f\"},\"error_y\":{\"color\":\"#2a3f5f\"},\"marker\":{\"line\":{\"color\":\"#E5ECF6\",\"width\":0.5},\"pattern\":{\"fillmode\":\"overlay\",\"size\":10,\"solidity\":0.2}},\"type\":\"bar\"}],\"barpolar\":[{\"marker\":{\"line\":{\"color\":\"#E5ECF6\",\"width\":0.5},\"pattern\":{\"fillmode\":\"overlay\",\"size\":10,\"solidity\":0.2}},\"type\":\"barpolar\"}],\"carpet\":[{\"aaxis\":{\"endlinecolor\":\"#2a3f5f\",\"gridcolor\":\"white\",\"linecolor\":\"white\",\"minorgridcolor\":\"white\",\"startlinecolor\":\"#2a3f5f\"},\"baxis\":{\"endlinecolor\":\"#2a3f5f\",\"gridcolor\":\"white\",\"linecolor\":\"white\",\"minorgridcolor\":\"white\",\"startlinecolor\":\"#2a3f5f\"},\"type\":\"carpet\"}],\"choropleth\":[{\"colorbar\":{\"outlinewidth\":0,\"ticks\":\"\"},\"type\":\"choropleth\"}],\"contour\":[{\"colorbar\":{\"outlinewidth\":0,\"ticks\":\"\"},\"colorscale\":[[0.0,\"#0d0887\"],[0.1111111111111111,\"#46039f\"],[0.2222222222222222,\"#7201a8\"],[0.3333333333333333,\"#9c179e\"],[0.4444444444444444,\"#bd3786\"],[0.5555555555555556,\"#d8576b\"],[0.6666666666666666,\"#ed7953\"],[0.7777777777777778,\"#fb9f3a\"],[0.8888888888888888,\"#fdca26\"],[1.0,\"#f0f921\"]],\"type\":\"contour\"}],\"contourcarpet\":[{\"colorbar\":{\"outlinewidth\":0,\"ticks\":\"\"},\"type\":\"contourcarpet\"}],\"heatmap\":[{\"colorbar\":{\"outlinewidth\":0,\"ticks\":\"\"},\"colorscale\":[[0.0,\"#0d0887\"],[0.1111111111111111,\"#46039f\"],[0.2222222222222222,\"#7201a8\"],[0.3333333333333333,\"#9c179e\"],[0.4444444444444444,\"#bd3786\"],[0.5555555555555556,\"#d8576b\"],[0.6666666666666666,\"#ed7953\"],[0.7777777777777778,\"#fb9f3a\"],[0.8888888888888888,\"#fdca26\"],[1.0,\"#f0f921\"]],\"type\":\"heatmap\"}],\"heatmapgl\":[{\"colorbar\":{\"outlinewidth\":0,\"ticks\":\"\"},\"colorscale\":[[0.0,\"#0d0887\"],[0.1111111111111111,\"#46039f\"],[0.2222222222222222,\"#7201a8\"],[0.3333333333333333,\"#9c179e\"],[0.4444444444444444,\"#bd3786\"],[0.5555555555555556,\"#d8576b\"],[0.6666666666666666,\"#ed7953\"],[0.7777777777777778,\"#fb9f3a\"],[0.8888888888888888,\"#fdca26\"],[1.0,\"#f0f921\"]],\"type\":\"heatmapgl\"}],\"histogram\":[{\"marker\":{\"pattern\":{\"fillmode\":\"overlay\",\"size\":10,\"solidity\":0.2}},\"type\":\"histogram\"}],\"histogram2d\":[{\"colorbar\":{\"outlinewidth\":0,\"ticks\":\"\"},\"colorscale\":[[0.0,\"#0d0887\"],[0.1111111111111111,\"#46039f\"],[0.2222222222222222,\"#7201a8\"],[0.3333333333333333,\"#9c179e\"],[0.4444444444444444,\"#bd3786\"],[0.5555555555555556,\"#d8576b\"],[0.6666666666666666,\"#ed7953\"],[0.7777777777777778,\"#fb9f3a\"],[0.8888888888888888,\"#fdca26\"],[1.0,\"#f0f921\"]],\"type\":\"histogram2d\"}],\"histogram2dcontour\":[{\"colorbar\":{\"outlinewidth\":0,\"ticks\":\"\"},\"colorscale\":[[0.0,\"#0d0887\"],[0.1111111111111111,\"#46039f\"],[0.2222222222222222,\"#7201a8\"],[0.3333333333333333,\"#9c179e\"],[0.4444444444444444,\"#bd3786\"],[0.5555555555555556,\"#d8576b\"],[0.6666666666666666,\"#ed7953\"],[0.7777777777777778,\"#fb9f3a\"],[0.8888888888888888,\"#fdca26\"],[1.0,\"#f0f921\"]],\"type\":\"histogram2dcontour\"}],\"mesh3d\":[{\"colorbar\":{\"outlinewidth\":0,\"ticks\":\"\"},\"type\":\"mesh3d\"}],\"parcoords\":[{\"line\":{\"colorbar\":{\"outlinewidth\":0,\"ticks\":\"\"}},\"type\":\"parcoords\"}],\"pie\":[{\"automargin\":true,\"type\":\"pie\"}],\"scatter\":[{\"marker\":{\"colorbar\":{\"outlinewidth\":0,\"ticks\":\"\"}},\"type\":\"scatter\"}],\"scatter3d\":[{\"line\":{\"colorbar\":{\"outlinewidth\":0,\"ticks\":\"\"}},\"marker\":{\"colorbar\":{\"outlinewidth\":0,\"ticks\":\"\"}},\"type\":\"scatter3d\"}],\"scattercarpet\":[{\"marker\":{\"colorbar\":{\"outlinewidth\":0,\"ticks\":\"\"}},\"type\":\"scattercarpet\"}],\"scattergeo\":[{\"marker\":{\"colorbar\":{\"outlinewidth\":0,\"ticks\":\"\"}},\"type\":\"scattergeo\"}],\"scattergl\":[{\"marker\":{\"colorbar\":{\"outlinewidth\":0,\"ticks\":\"\"}},\"type\":\"scattergl\"}],\"scattermapbox\":[{\"marker\":{\"colorbar\":{\"outlinewidth\":0,\"ticks\":\"\"}},\"type\":\"scattermapbox\"}],\"scatterpolar\":[{\"marker\":{\"colorbar\":{\"outlinewidth\":0,\"ticks\":\"\"}},\"type\":\"scatterpolar\"}],\"scatterpolargl\":[{\"marker\":{\"colorbar\":{\"outlinewidth\":0,\"ticks\":\"\"}},\"type\":\"scatterpolargl\"}],\"scatterternary\":[{\"marker\":{\"colorbar\":{\"outlinewidth\":0,\"ticks\":\"\"}},\"type\":\"scatterternary\"}],\"surface\":[{\"colorbar\":{\"outlinewidth\":0,\"ticks\":\"\"},\"colorscale\":[[0.0,\"#0d0887\"],[0.1111111111111111,\"#46039f\"],[0.2222222222222222,\"#7201a8\"],[0.3333333333333333,\"#9c179e\"],[0.4444444444444444,\"#bd3786\"],[0.5555555555555556,\"#d8576b\"],[0.6666666666666666,\"#ed7953\"],[0.7777777777777778,\"#fb9f3a\"],[0.8888888888888888,\"#fdca26\"],[1.0,\"#f0f921\"]],\"type\":\"surface\"}],\"table\":[{\"cells\":{\"fill\":{\"color\":\"#EBF0F8\"},\"line\":{\"color\":\"white\"}},\"header\":{\"fill\":{\"color\":\"#C8D4E3\"},\"line\":{\"color\":\"white\"}},\"type\":\"table\"}]},\"layout\":{\"annotationdefaults\":{\"arrowcolor\":\"#2a3f5f\",\"arrowhead\":0,\"arrowwidth\":1},\"autotypenumbers\":\"strict\",\"coloraxis\":{\"colorbar\":{\"outlinewidth\":0,\"ticks\":\"\"}},\"colorscale\":{\"diverging\":[[0,\"#8e0152\"],[0.1,\"#c51b7d\"],[0.2,\"#de77ae\"],[0.3,\"#f1b6da\"],[0.4,\"#fde0ef\"],[0.5,\"#f7f7f7\"],[0.6,\"#e6f5d0\"],[0.7,\"#b8e186\"],[0.8,\"#7fbc41\"],[0.9,\"#4d9221\"],[1,\"#276419\"]],\"sequential\":[[0.0,\"#0d0887\"],[0.1111111111111111,\"#46039f\"],[0.2222222222222222,\"#7201a8\"],[0.3333333333333333,\"#9c179e\"],[0.4444444444444444,\"#bd3786\"],[0.5555555555555556,\"#d8576b\"],[0.6666666666666666,\"#ed7953\"],[0.7777777777777778,\"#fb9f3a\"],[0.8888888888888888,\"#fdca26\"],[1.0,\"#f0f921\"]],\"sequentialminus\":[[0.0,\"#0d0887\"],[0.1111111111111111,\"#46039f\"],[0.2222222222222222,\"#7201a8\"],[0.3333333333333333,\"#9c179e\"],[0.4444444444444444,\"#bd3786\"],[0.5555555555555556,\"#d8576b\"],[0.6666666666666666,\"#ed7953\"],[0.7777777777777778,\"#fb9f3a\"],[0.8888888888888888,\"#fdca26\"],[1.0,\"#f0f921\"]]},\"colorway\":[\"#636efa\",\"#EF553B\",\"#00cc96\",\"#ab63fa\",\"#FFA15A\",\"#19d3f3\",\"#FF6692\",\"#B6E880\",\"#FF97FF\",\"#FECB52\"],\"font\":{\"color\":\"#2a3f5f\"},\"geo\":{\"bgcolor\":\"white\",\"lakecolor\":\"white\",\"landcolor\":\"#E5ECF6\",\"showlakes\":true,\"showland\":true,\"subunitcolor\":\"white\"},\"hoverlabel\":{\"align\":\"left\"},\"hovermode\":\"closest\",\"mapbox\":{\"style\":\"light\"},\"paper_bgcolor\":\"white\",\"plot_bgcolor\":\"#E5ECF6\",\"polar\":{\"angularaxis\":{\"gridcolor\":\"white\",\"linecolor\":\"white\",\"ticks\":\"\"},\"bgcolor\":\"#E5ECF6\",\"radialaxis\":{\"gridcolor\":\"white\",\"linecolor\":\"white\",\"ticks\":\"\"}},\"scene\":{\"xaxis\":{\"backgroundcolor\":\"#E5ECF6\",\"gridcolor\":\"white\",\"gridwidth\":2,\"linecolor\":\"white\",\"showbackground\":true,\"ticks\":\"\",\"zerolinecolor\":\"white\"},\"yaxis\":{\"backgroundcolor\":\"#E5ECF6\",\"gridcolor\":\"white\",\"gridwidth\":2,\"linecolor\":\"white\",\"showbackground\":true,\"ticks\":\"\",\"zerolinecolor\":\"white\"},\"zaxis\":{\"backgroundcolor\":\"#E5ECF6\",\"gridcolor\":\"white\",\"gridwidth\":2,\"linecolor\":\"white\",\"showbackground\":true,\"ticks\":\"\",\"zerolinecolor\":\"white\"}},\"shapedefaults\":{\"line\":{\"color\":\"#2a3f5f\"}},\"ternary\":{\"aaxis\":{\"gridcolor\":\"white\",\"linecolor\":\"white\",\"ticks\":\"\"},\"baxis\":{\"gridcolor\":\"white\",\"linecolor\":\"white\",\"ticks\":\"\"},\"bgcolor\":\"#E5ECF6\",\"caxis\":{\"gridcolor\":\"white\",\"linecolor\":\"white\",\"ticks\":\"\"}},\"title\":{\"x\":0.05},\"xaxis\":{\"automargin\":true,\"gridcolor\":\"white\",\"linecolor\":\"white\",\"ticks\":\"\",\"title\":{\"standoff\":15},\"zerolinecolor\":\"white\",\"zerolinewidth\":2},\"yaxis\":{\"automargin\":true,\"gridcolor\":\"white\",\"linecolor\":\"white\",\"ticks\":\"\",\"title\":{\"standoff\":15},\"zerolinecolor\":\"white\",\"zerolinewidth\":2}}},\"title\":{\"text\":\"Experiences By Country\"},\"xaxis\":{\"anchor\":\"y\",\"categoryarray\":[\"United States\",\"Italy\",\"United Kingdom\",\"Japan\",\"India \",\"Spain \",\"Mexico \",\"Canada\",\"France \",\"Argentina\",\"Australia\",\"Portugal\",\"Brazil\",\"Indonesia\",\"China\",\"Germany\",\"New Zealand\",\"South Korea\",\"Singapore\",\"South Africa\"],\"categoryorder\":\"total descending\",\"domain\":[0.0,1.0],\"title\":{\"text\":\"Country\"}},\"yaxis\":{\"anchor\":\"x\",\"domain\":[0.0,1.0],\"title\":{\"text\":\"sum of Values\"}}},                        {\"responsive\": true}                    ).then(function(){\n",
       "                            \n",
       "var gd = document.getElementById('df408c94-c71a-4888-8e0e-34ac2f9f04fe');\n",
       "var x = new MutationObserver(function (mutations, observer) {{\n",
       "        var display = window.getComputedStyle(gd).display;\n",
       "        if (!display || display === 'none') {{\n",
       "            console.log([gd, 'removed!']);\n",
       "            Plotly.purge(gd);\n",
       "            observer.disconnect();\n",
       "        }}\n",
       "}});\n",
       "\n",
       "// Listen for the removal of the full notebook cells\n",
       "var notebookContainer = gd.closest('#notebook-container');\n",
       "if (notebookContainer) {{\n",
       "    x.observe(notebookContainer, {childList: true});\n",
       "}}\n",
       "\n",
       "// Listen for the clearing of the current output cell\n",
       "var outputEl = gd.closest('.output');\n",
       "if (outputEl) {{\n",
       "    x.observe(outputEl, {childList: true});\n",
       "}}\n",
       "\n",
       "                        })                };                });            </script>        </div>"
      ]
     },
     "metadata": {},
     "output_type": "display_data"
    }
   ],
   "source": [
    "count_by_country = pd.read_csv('./Data/count_by_country.csv')\n",
    "fig_1 = px.histogram(count_by_country, x='Country', y = 'Values',color='Country',\n",
    "                   title='Experiences By Country').update_xaxes(categoryorder=\"total descending\")\n",
    "fig_1.show()"
   ]
  },
  {
   "cell_type": "code",
   "execution_count": 11,
   "id": "66b75a34",
   "metadata": {},
   "outputs": [
    {
     "data": {
      "text/plain": [
       "History&Culture           396\n",
       "Great4Groups              266\n",
       "Wellness                  212\n",
       "Art&Writing               198\n",
       "Cooking                   160\n",
       "FamilyFriendly            113\n",
       "Drinks                    106\n",
       "Entertainment              64\n",
       "Olympians&Paralympians     58\n",
       "Baking                     43\n",
       "Music                      42\n",
       "Animals                    39\n",
       "Dance                      31\n",
       "Magic                      28\n",
       "Social&Impact              24\n",
       "Fitness                    22\n",
       "Accessibility               9\n",
       "Name: Category, dtype: int64"
      ]
     },
     "execution_count": 11,
     "metadata": {},
     "output_type": "execute_result"
    }
   ],
   "source": [
    "unfiltered['Category'].value_counts()"
   ]
  },
  {
   "cell_type": "code",
   "execution_count": 12,
   "id": "78e39e27",
   "metadata": {},
   "outputs": [
    {
     "data": {
      "application/vnd.plotly.v1+json": {
       "config": {
        "plotlyServerURL": "https://plot.ly"
       },
       "data": [
        {
         "alignmentgroup": "True",
         "bingroup": "x",
         "histfunc": "sum",
         "hovertemplate": "Category=%{x}<br>sum of Values=%{y}<extra></extra>",
         "legendgroup": "History&Culture",
         "marker": {
          "color": "#636efa",
          "pattern": {
           "shape": ""
          }
         },
         "name": "History&Culture",
         "offsetgroup": "History&Culture",
         "orientation": "v",
         "showlegend": true,
         "type": "histogram",
         "x": [
          "History&Culture"
         ],
         "xaxis": "x",
         "y": [
          396
         ],
         "yaxis": "y"
        },
        {
         "alignmentgroup": "True",
         "bingroup": "x",
         "histfunc": "sum",
         "hovertemplate": "Category=%{x}<br>sum of Values=%{y}<extra></extra>",
         "legendgroup": "Great4Groups",
         "marker": {
          "color": "#EF553B",
          "pattern": {
           "shape": ""
          }
         },
         "name": "Great4Groups",
         "offsetgroup": "Great4Groups",
         "orientation": "v",
         "showlegend": true,
         "type": "histogram",
         "x": [
          "Great4Groups"
         ],
         "xaxis": "x",
         "y": [
          266
         ],
         "yaxis": "y"
        },
        {
         "alignmentgroup": "True",
         "bingroup": "x",
         "histfunc": "sum",
         "hovertemplate": "Category=%{x}<br>sum of Values=%{y}<extra></extra>",
         "legendgroup": "Wellness",
         "marker": {
          "color": "#00cc96",
          "pattern": {
           "shape": ""
          }
         },
         "name": "Wellness",
         "offsetgroup": "Wellness",
         "orientation": "v",
         "showlegend": true,
         "type": "histogram",
         "x": [
          "Wellness"
         ],
         "xaxis": "x",
         "y": [
          212
         ],
         "yaxis": "y"
        },
        {
         "alignmentgroup": "True",
         "bingroup": "x",
         "histfunc": "sum",
         "hovertemplate": "Category=%{x}<br>sum of Values=%{y}<extra></extra>",
         "legendgroup": "Art&Writing",
         "marker": {
          "color": "#ab63fa",
          "pattern": {
           "shape": ""
          }
         },
         "name": "Art&Writing",
         "offsetgroup": "Art&Writing",
         "orientation": "v",
         "showlegend": true,
         "type": "histogram",
         "x": [
          "Art&Writing"
         ],
         "xaxis": "x",
         "y": [
          198
         ],
         "yaxis": "y"
        },
        {
         "alignmentgroup": "True",
         "bingroup": "x",
         "histfunc": "sum",
         "hovertemplate": "Category=%{x}<br>sum of Values=%{y}<extra></extra>",
         "legendgroup": "Cooking",
         "marker": {
          "color": "#FFA15A",
          "pattern": {
           "shape": ""
          }
         },
         "name": "Cooking",
         "offsetgroup": "Cooking",
         "orientation": "v",
         "showlegend": true,
         "type": "histogram",
         "x": [
          "Cooking"
         ],
         "xaxis": "x",
         "y": [
          160
         ],
         "yaxis": "y"
        },
        {
         "alignmentgroup": "True",
         "bingroup": "x",
         "histfunc": "sum",
         "hovertemplate": "Category=%{x}<br>sum of Values=%{y}<extra></extra>",
         "legendgroup": "FamilyFriendly",
         "marker": {
          "color": "#19d3f3",
          "pattern": {
           "shape": ""
          }
         },
         "name": "FamilyFriendly",
         "offsetgroup": "FamilyFriendly",
         "orientation": "v",
         "showlegend": true,
         "type": "histogram",
         "x": [
          "FamilyFriendly"
         ],
         "xaxis": "x",
         "y": [
          113
         ],
         "yaxis": "y"
        },
        {
         "alignmentgroup": "True",
         "bingroup": "x",
         "histfunc": "sum",
         "hovertemplate": "Category=%{x}<br>sum of Values=%{y}<extra></extra>",
         "legendgroup": "Drinks",
         "marker": {
          "color": "#FF6692",
          "pattern": {
           "shape": ""
          }
         },
         "name": "Drinks",
         "offsetgroup": "Drinks",
         "orientation": "v",
         "showlegend": true,
         "type": "histogram",
         "x": [
          "Drinks"
         ],
         "xaxis": "x",
         "y": [
          106
         ],
         "yaxis": "y"
        },
        {
         "alignmentgroup": "True",
         "bingroup": "x",
         "histfunc": "sum",
         "hovertemplate": "Category=%{x}<br>sum of Values=%{y}<extra></extra>",
         "legendgroup": "Entertainment",
         "marker": {
          "color": "#B6E880",
          "pattern": {
           "shape": ""
          }
         },
         "name": "Entertainment",
         "offsetgroup": "Entertainment",
         "orientation": "v",
         "showlegend": true,
         "type": "histogram",
         "x": [
          "Entertainment"
         ],
         "xaxis": "x",
         "y": [
          64
         ],
         "yaxis": "y"
        },
        {
         "alignmentgroup": "True",
         "bingroup": "x",
         "histfunc": "sum",
         "hovertemplate": "Category=%{x}<br>sum of Values=%{y}<extra></extra>",
         "legendgroup": "Olympians&Paralympians",
         "marker": {
          "color": "#FF97FF",
          "pattern": {
           "shape": ""
          }
         },
         "name": "Olympians&Paralympians",
         "offsetgroup": "Olympians&Paralympians",
         "orientation": "v",
         "showlegend": true,
         "type": "histogram",
         "x": [
          "Olympians&Paralympians"
         ],
         "xaxis": "x",
         "y": [
          58
         ],
         "yaxis": "y"
        },
        {
         "alignmentgroup": "True",
         "bingroup": "x",
         "histfunc": "sum",
         "hovertemplate": "Category=%{x}<br>sum of Values=%{y}<extra></extra>",
         "legendgroup": "Baking",
         "marker": {
          "color": "#FECB52",
          "pattern": {
           "shape": ""
          }
         },
         "name": "Baking",
         "offsetgroup": "Baking",
         "orientation": "v",
         "showlegend": true,
         "type": "histogram",
         "x": [
          "Baking"
         ],
         "xaxis": "x",
         "y": [
          43
         ],
         "yaxis": "y"
        },
        {
         "alignmentgroup": "True",
         "bingroup": "x",
         "histfunc": "sum",
         "hovertemplate": "Category=%{x}<br>sum of Values=%{y}<extra></extra>",
         "legendgroup": "Music",
         "marker": {
          "color": "#636efa",
          "pattern": {
           "shape": ""
          }
         },
         "name": "Music",
         "offsetgroup": "Music",
         "orientation": "v",
         "showlegend": true,
         "type": "histogram",
         "x": [
          "Music"
         ],
         "xaxis": "x",
         "y": [
          42
         ],
         "yaxis": "y"
        },
        {
         "alignmentgroup": "True",
         "bingroup": "x",
         "histfunc": "sum",
         "hovertemplate": "Category=%{x}<br>sum of Values=%{y}<extra></extra>",
         "legendgroup": "Animals",
         "marker": {
          "color": "#EF553B",
          "pattern": {
           "shape": ""
          }
         },
         "name": "Animals",
         "offsetgroup": "Animals",
         "orientation": "v",
         "showlegend": true,
         "type": "histogram",
         "x": [
          "Animals"
         ],
         "xaxis": "x",
         "y": [
          39
         ],
         "yaxis": "y"
        },
        {
         "alignmentgroup": "True",
         "bingroup": "x",
         "histfunc": "sum",
         "hovertemplate": "Category=%{x}<br>sum of Values=%{y}<extra></extra>",
         "legendgroup": "Dance",
         "marker": {
          "color": "#00cc96",
          "pattern": {
           "shape": ""
          }
         },
         "name": "Dance",
         "offsetgroup": "Dance",
         "orientation": "v",
         "showlegend": true,
         "type": "histogram",
         "x": [
          "Dance"
         ],
         "xaxis": "x",
         "y": [
          31
         ],
         "yaxis": "y"
        },
        {
         "alignmentgroup": "True",
         "bingroup": "x",
         "histfunc": "sum",
         "hovertemplate": "Category=%{x}<br>sum of Values=%{y}<extra></extra>",
         "legendgroup": "Magic",
         "marker": {
          "color": "#ab63fa",
          "pattern": {
           "shape": ""
          }
         },
         "name": "Magic",
         "offsetgroup": "Magic",
         "orientation": "v",
         "showlegend": true,
         "type": "histogram",
         "x": [
          "Magic"
         ],
         "xaxis": "x",
         "y": [
          28
         ],
         "yaxis": "y"
        },
        {
         "alignmentgroup": "True",
         "bingroup": "x",
         "histfunc": "sum",
         "hovertemplate": "Category=%{x}<br>sum of Values=%{y}<extra></extra>",
         "legendgroup": "Social&Impact",
         "marker": {
          "color": "#FFA15A",
          "pattern": {
           "shape": ""
          }
         },
         "name": "Social&Impact",
         "offsetgroup": "Social&Impact",
         "orientation": "v",
         "showlegend": true,
         "type": "histogram",
         "x": [
          "Social&Impact"
         ],
         "xaxis": "x",
         "y": [
          24
         ],
         "yaxis": "y"
        },
        {
         "alignmentgroup": "True",
         "bingroup": "x",
         "histfunc": "sum",
         "hovertemplate": "Category=%{x}<br>sum of Values=%{y}<extra></extra>",
         "legendgroup": "Fitness",
         "marker": {
          "color": "#19d3f3",
          "pattern": {
           "shape": ""
          }
         },
         "name": "Fitness",
         "offsetgroup": "Fitness",
         "orientation": "v",
         "showlegend": true,
         "type": "histogram",
         "x": [
          "Fitness"
         ],
         "xaxis": "x",
         "y": [
          22
         ],
         "yaxis": "y"
        },
        {
         "alignmentgroup": "True",
         "bingroup": "x",
         "histfunc": "sum",
         "hovertemplate": "Category=%{x}<br>sum of Values=%{y}<extra></extra>",
         "legendgroup": "Accessibility",
         "marker": {
          "color": "#FF6692",
          "pattern": {
           "shape": ""
          }
         },
         "name": "Accessibility",
         "offsetgroup": "Accessibility",
         "orientation": "v",
         "showlegend": true,
         "type": "histogram",
         "x": [
          "Accessibility"
         ],
         "xaxis": "x",
         "y": [
          9
         ],
         "yaxis": "y"
        }
       ],
       "layout": {
        "barmode": "relative",
        "legend": {
         "title": {
          "text": "Category"
         },
         "tracegroupgap": 0
        },
        "template": {
         "data": {
          "bar": [
           {
            "error_x": {
             "color": "#2a3f5f"
            },
            "error_y": {
             "color": "#2a3f5f"
            },
            "marker": {
             "line": {
              "color": "#E5ECF6",
              "width": 0.5
             },
             "pattern": {
              "fillmode": "overlay",
              "size": 10,
              "solidity": 0.2
             }
            },
            "type": "bar"
           }
          ],
          "barpolar": [
           {
            "marker": {
             "line": {
              "color": "#E5ECF6",
              "width": 0.5
             },
             "pattern": {
              "fillmode": "overlay",
              "size": 10,
              "solidity": 0.2
             }
            },
            "type": "barpolar"
           }
          ],
          "carpet": [
           {
            "aaxis": {
             "endlinecolor": "#2a3f5f",
             "gridcolor": "white",
             "linecolor": "white",
             "minorgridcolor": "white",
             "startlinecolor": "#2a3f5f"
            },
            "baxis": {
             "endlinecolor": "#2a3f5f",
             "gridcolor": "white",
             "linecolor": "white",
             "minorgridcolor": "white",
             "startlinecolor": "#2a3f5f"
            },
            "type": "carpet"
           }
          ],
          "choropleth": [
           {
            "colorbar": {
             "outlinewidth": 0,
             "ticks": ""
            },
            "type": "choropleth"
           }
          ],
          "contour": [
           {
            "colorbar": {
             "outlinewidth": 0,
             "ticks": ""
            },
            "colorscale": [
             [
              0,
              "#0d0887"
             ],
             [
              0.1111111111111111,
              "#46039f"
             ],
             [
              0.2222222222222222,
              "#7201a8"
             ],
             [
              0.3333333333333333,
              "#9c179e"
             ],
             [
              0.4444444444444444,
              "#bd3786"
             ],
             [
              0.5555555555555556,
              "#d8576b"
             ],
             [
              0.6666666666666666,
              "#ed7953"
             ],
             [
              0.7777777777777778,
              "#fb9f3a"
             ],
             [
              0.8888888888888888,
              "#fdca26"
             ],
             [
              1,
              "#f0f921"
             ]
            ],
            "type": "contour"
           }
          ],
          "contourcarpet": [
           {
            "colorbar": {
             "outlinewidth": 0,
             "ticks": ""
            },
            "type": "contourcarpet"
           }
          ],
          "heatmap": [
           {
            "colorbar": {
             "outlinewidth": 0,
             "ticks": ""
            },
            "colorscale": [
             [
              0,
              "#0d0887"
             ],
             [
              0.1111111111111111,
              "#46039f"
             ],
             [
              0.2222222222222222,
              "#7201a8"
             ],
             [
              0.3333333333333333,
              "#9c179e"
             ],
             [
              0.4444444444444444,
              "#bd3786"
             ],
             [
              0.5555555555555556,
              "#d8576b"
             ],
             [
              0.6666666666666666,
              "#ed7953"
             ],
             [
              0.7777777777777778,
              "#fb9f3a"
             ],
             [
              0.8888888888888888,
              "#fdca26"
             ],
             [
              1,
              "#f0f921"
             ]
            ],
            "type": "heatmap"
           }
          ],
          "heatmapgl": [
           {
            "colorbar": {
             "outlinewidth": 0,
             "ticks": ""
            },
            "colorscale": [
             [
              0,
              "#0d0887"
             ],
             [
              0.1111111111111111,
              "#46039f"
             ],
             [
              0.2222222222222222,
              "#7201a8"
             ],
             [
              0.3333333333333333,
              "#9c179e"
             ],
             [
              0.4444444444444444,
              "#bd3786"
             ],
             [
              0.5555555555555556,
              "#d8576b"
             ],
             [
              0.6666666666666666,
              "#ed7953"
             ],
             [
              0.7777777777777778,
              "#fb9f3a"
             ],
             [
              0.8888888888888888,
              "#fdca26"
             ],
             [
              1,
              "#f0f921"
             ]
            ],
            "type": "heatmapgl"
           }
          ],
          "histogram": [
           {
            "marker": {
             "pattern": {
              "fillmode": "overlay",
              "size": 10,
              "solidity": 0.2
             }
            },
            "type": "histogram"
           }
          ],
          "histogram2d": [
           {
            "colorbar": {
             "outlinewidth": 0,
             "ticks": ""
            },
            "colorscale": [
             [
              0,
              "#0d0887"
             ],
             [
              0.1111111111111111,
              "#46039f"
             ],
             [
              0.2222222222222222,
              "#7201a8"
             ],
             [
              0.3333333333333333,
              "#9c179e"
             ],
             [
              0.4444444444444444,
              "#bd3786"
             ],
             [
              0.5555555555555556,
              "#d8576b"
             ],
             [
              0.6666666666666666,
              "#ed7953"
             ],
             [
              0.7777777777777778,
              "#fb9f3a"
             ],
             [
              0.8888888888888888,
              "#fdca26"
             ],
             [
              1,
              "#f0f921"
             ]
            ],
            "type": "histogram2d"
           }
          ],
          "histogram2dcontour": [
           {
            "colorbar": {
             "outlinewidth": 0,
             "ticks": ""
            },
            "colorscale": [
             [
              0,
              "#0d0887"
             ],
             [
              0.1111111111111111,
              "#46039f"
             ],
             [
              0.2222222222222222,
              "#7201a8"
             ],
             [
              0.3333333333333333,
              "#9c179e"
             ],
             [
              0.4444444444444444,
              "#bd3786"
             ],
             [
              0.5555555555555556,
              "#d8576b"
             ],
             [
              0.6666666666666666,
              "#ed7953"
             ],
             [
              0.7777777777777778,
              "#fb9f3a"
             ],
             [
              0.8888888888888888,
              "#fdca26"
             ],
             [
              1,
              "#f0f921"
             ]
            ],
            "type": "histogram2dcontour"
           }
          ],
          "mesh3d": [
           {
            "colorbar": {
             "outlinewidth": 0,
             "ticks": ""
            },
            "type": "mesh3d"
           }
          ],
          "parcoords": [
           {
            "line": {
             "colorbar": {
              "outlinewidth": 0,
              "ticks": ""
             }
            },
            "type": "parcoords"
           }
          ],
          "pie": [
           {
            "automargin": true,
            "type": "pie"
           }
          ],
          "scatter": [
           {
            "marker": {
             "colorbar": {
              "outlinewidth": 0,
              "ticks": ""
             }
            },
            "type": "scatter"
           }
          ],
          "scatter3d": [
           {
            "line": {
             "colorbar": {
              "outlinewidth": 0,
              "ticks": ""
             }
            },
            "marker": {
             "colorbar": {
              "outlinewidth": 0,
              "ticks": ""
             }
            },
            "type": "scatter3d"
           }
          ],
          "scattercarpet": [
           {
            "marker": {
             "colorbar": {
              "outlinewidth": 0,
              "ticks": ""
             }
            },
            "type": "scattercarpet"
           }
          ],
          "scattergeo": [
           {
            "marker": {
             "colorbar": {
              "outlinewidth": 0,
              "ticks": ""
             }
            },
            "type": "scattergeo"
           }
          ],
          "scattergl": [
           {
            "marker": {
             "colorbar": {
              "outlinewidth": 0,
              "ticks": ""
             }
            },
            "type": "scattergl"
           }
          ],
          "scattermapbox": [
           {
            "marker": {
             "colorbar": {
              "outlinewidth": 0,
              "ticks": ""
             }
            },
            "type": "scattermapbox"
           }
          ],
          "scatterpolar": [
           {
            "marker": {
             "colorbar": {
              "outlinewidth": 0,
              "ticks": ""
             }
            },
            "type": "scatterpolar"
           }
          ],
          "scatterpolargl": [
           {
            "marker": {
             "colorbar": {
              "outlinewidth": 0,
              "ticks": ""
             }
            },
            "type": "scatterpolargl"
           }
          ],
          "scatterternary": [
           {
            "marker": {
             "colorbar": {
              "outlinewidth": 0,
              "ticks": ""
             }
            },
            "type": "scatterternary"
           }
          ],
          "surface": [
           {
            "colorbar": {
             "outlinewidth": 0,
             "ticks": ""
            },
            "colorscale": [
             [
              0,
              "#0d0887"
             ],
             [
              0.1111111111111111,
              "#46039f"
             ],
             [
              0.2222222222222222,
              "#7201a8"
             ],
             [
              0.3333333333333333,
              "#9c179e"
             ],
             [
              0.4444444444444444,
              "#bd3786"
             ],
             [
              0.5555555555555556,
              "#d8576b"
             ],
             [
              0.6666666666666666,
              "#ed7953"
             ],
             [
              0.7777777777777778,
              "#fb9f3a"
             ],
             [
              0.8888888888888888,
              "#fdca26"
             ],
             [
              1,
              "#f0f921"
             ]
            ],
            "type": "surface"
           }
          ],
          "table": [
           {
            "cells": {
             "fill": {
              "color": "#EBF0F8"
             },
             "line": {
              "color": "white"
             }
            },
            "header": {
             "fill": {
              "color": "#C8D4E3"
             },
             "line": {
              "color": "white"
             }
            },
            "type": "table"
           }
          ]
         },
         "layout": {
          "annotationdefaults": {
           "arrowcolor": "#2a3f5f",
           "arrowhead": 0,
           "arrowwidth": 1
          },
          "autotypenumbers": "strict",
          "coloraxis": {
           "colorbar": {
            "outlinewidth": 0,
            "ticks": ""
           }
          },
          "colorscale": {
           "diverging": [
            [
             0,
             "#8e0152"
            ],
            [
             0.1,
             "#c51b7d"
            ],
            [
             0.2,
             "#de77ae"
            ],
            [
             0.3,
             "#f1b6da"
            ],
            [
             0.4,
             "#fde0ef"
            ],
            [
             0.5,
             "#f7f7f7"
            ],
            [
             0.6,
             "#e6f5d0"
            ],
            [
             0.7,
             "#b8e186"
            ],
            [
             0.8,
             "#7fbc41"
            ],
            [
             0.9,
             "#4d9221"
            ],
            [
             1,
             "#276419"
            ]
           ],
           "sequential": [
            [
             0,
             "#0d0887"
            ],
            [
             0.1111111111111111,
             "#46039f"
            ],
            [
             0.2222222222222222,
             "#7201a8"
            ],
            [
             0.3333333333333333,
             "#9c179e"
            ],
            [
             0.4444444444444444,
             "#bd3786"
            ],
            [
             0.5555555555555556,
             "#d8576b"
            ],
            [
             0.6666666666666666,
             "#ed7953"
            ],
            [
             0.7777777777777778,
             "#fb9f3a"
            ],
            [
             0.8888888888888888,
             "#fdca26"
            ],
            [
             1,
             "#f0f921"
            ]
           ],
           "sequentialminus": [
            [
             0,
             "#0d0887"
            ],
            [
             0.1111111111111111,
             "#46039f"
            ],
            [
             0.2222222222222222,
             "#7201a8"
            ],
            [
             0.3333333333333333,
             "#9c179e"
            ],
            [
             0.4444444444444444,
             "#bd3786"
            ],
            [
             0.5555555555555556,
             "#d8576b"
            ],
            [
             0.6666666666666666,
             "#ed7953"
            ],
            [
             0.7777777777777778,
             "#fb9f3a"
            ],
            [
             0.8888888888888888,
             "#fdca26"
            ],
            [
             1,
             "#f0f921"
            ]
           ]
          },
          "colorway": [
           "#636efa",
           "#EF553B",
           "#00cc96",
           "#ab63fa",
           "#FFA15A",
           "#19d3f3",
           "#FF6692",
           "#B6E880",
           "#FF97FF",
           "#FECB52"
          ],
          "font": {
           "color": "#2a3f5f"
          },
          "geo": {
           "bgcolor": "white",
           "lakecolor": "white",
           "landcolor": "#E5ECF6",
           "showlakes": true,
           "showland": true,
           "subunitcolor": "white"
          },
          "hoverlabel": {
           "align": "left"
          },
          "hovermode": "closest",
          "mapbox": {
           "style": "light"
          },
          "paper_bgcolor": "white",
          "plot_bgcolor": "#E5ECF6",
          "polar": {
           "angularaxis": {
            "gridcolor": "white",
            "linecolor": "white",
            "ticks": ""
           },
           "bgcolor": "#E5ECF6",
           "radialaxis": {
            "gridcolor": "white",
            "linecolor": "white",
            "ticks": ""
           }
          },
          "scene": {
           "xaxis": {
            "backgroundcolor": "#E5ECF6",
            "gridcolor": "white",
            "gridwidth": 2,
            "linecolor": "white",
            "showbackground": true,
            "ticks": "",
            "zerolinecolor": "white"
           },
           "yaxis": {
            "backgroundcolor": "#E5ECF6",
            "gridcolor": "white",
            "gridwidth": 2,
            "linecolor": "white",
            "showbackground": true,
            "ticks": "",
            "zerolinecolor": "white"
           },
           "zaxis": {
            "backgroundcolor": "#E5ECF6",
            "gridcolor": "white",
            "gridwidth": 2,
            "linecolor": "white",
            "showbackground": true,
            "ticks": "",
            "zerolinecolor": "white"
           }
          },
          "shapedefaults": {
           "line": {
            "color": "#2a3f5f"
           }
          },
          "ternary": {
           "aaxis": {
            "gridcolor": "white",
            "linecolor": "white",
            "ticks": ""
           },
           "baxis": {
            "gridcolor": "white",
            "linecolor": "white",
            "ticks": ""
           },
           "bgcolor": "#E5ECF6",
           "caxis": {
            "gridcolor": "white",
            "linecolor": "white",
            "ticks": ""
           }
          },
          "title": {
           "x": 0.05
          },
          "xaxis": {
           "automargin": true,
           "gridcolor": "white",
           "linecolor": "white",
           "ticks": "",
           "title": {
            "standoff": 15
           },
           "zerolinecolor": "white",
           "zerolinewidth": 2
          },
          "yaxis": {
           "automargin": true,
           "gridcolor": "white",
           "linecolor": "white",
           "ticks": "",
           "title": {
            "standoff": 15
           },
           "zerolinecolor": "white",
           "zerolinewidth": 2
          }
         }
        },
        "title": {
         "text": "Experiences By Category"
        },
        "xaxis": {
         "anchor": "y",
         "categoryarray": [
          "History&Culture",
          "Great4Groups",
          "Wellness",
          "Art&Writing",
          "Cooking",
          "FamilyFriendly",
          "Drinks",
          "Entertainment",
          "Olympians&Paralympians",
          "Baking",
          "Music",
          "Animals",
          "Dance",
          "Magic",
          "Social&Impact",
          "Fitness",
          "Accessibility"
         ],
         "categoryorder": "total descending",
         "domain": [
          0,
          1
         ],
         "title": {
          "text": "Category"
         }
        },
        "yaxis": {
         "anchor": "x",
         "domain": [
          0,
          1
         ],
         "title": {
          "text": "sum of Values"
         }
        }
       }
      },
      "text/html": [
       "<div>                            <div id=\"2d72eec0-5295-4327-9d56-78039586bf58\" class=\"plotly-graph-div\" style=\"height:525px; width:100%;\"></div>            <script type=\"text/javascript\">                require([\"plotly\"], function(Plotly) {                    window.PLOTLYENV=window.PLOTLYENV || {};                                    if (document.getElementById(\"2d72eec0-5295-4327-9d56-78039586bf58\")) {                    Plotly.newPlot(                        \"2d72eec0-5295-4327-9d56-78039586bf58\",                        [{\"alignmentgroup\":\"True\",\"bingroup\":\"x\",\"histfunc\":\"sum\",\"hovertemplate\":\"Category=%{x}<br>sum of Values=%{y}<extra></extra>\",\"legendgroup\":\"History&Culture\",\"marker\":{\"color\":\"#636efa\",\"pattern\":{\"shape\":\"\"}},\"name\":\"History&Culture\",\"offsetgroup\":\"History&Culture\",\"orientation\":\"v\",\"showlegend\":true,\"type\":\"histogram\",\"x\":[\"History&Culture\"],\"xaxis\":\"x\",\"y\":[396],\"yaxis\":\"y\"},{\"alignmentgroup\":\"True\",\"bingroup\":\"x\",\"histfunc\":\"sum\",\"hovertemplate\":\"Category=%{x}<br>sum of Values=%{y}<extra></extra>\",\"legendgroup\":\"Great4Groups\",\"marker\":{\"color\":\"#EF553B\",\"pattern\":{\"shape\":\"\"}},\"name\":\"Great4Groups\",\"offsetgroup\":\"Great4Groups\",\"orientation\":\"v\",\"showlegend\":true,\"type\":\"histogram\",\"x\":[\"Great4Groups\"],\"xaxis\":\"x\",\"y\":[266],\"yaxis\":\"y\"},{\"alignmentgroup\":\"True\",\"bingroup\":\"x\",\"histfunc\":\"sum\",\"hovertemplate\":\"Category=%{x}<br>sum of Values=%{y}<extra></extra>\",\"legendgroup\":\"Wellness\",\"marker\":{\"color\":\"#00cc96\",\"pattern\":{\"shape\":\"\"}},\"name\":\"Wellness\",\"offsetgroup\":\"Wellness\",\"orientation\":\"v\",\"showlegend\":true,\"type\":\"histogram\",\"x\":[\"Wellness\"],\"xaxis\":\"x\",\"y\":[212],\"yaxis\":\"y\"},{\"alignmentgroup\":\"True\",\"bingroup\":\"x\",\"histfunc\":\"sum\",\"hovertemplate\":\"Category=%{x}<br>sum of Values=%{y}<extra></extra>\",\"legendgroup\":\"Art&Writing\",\"marker\":{\"color\":\"#ab63fa\",\"pattern\":{\"shape\":\"\"}},\"name\":\"Art&Writing\",\"offsetgroup\":\"Art&Writing\",\"orientation\":\"v\",\"showlegend\":true,\"type\":\"histogram\",\"x\":[\"Art&Writing\"],\"xaxis\":\"x\",\"y\":[198],\"yaxis\":\"y\"},{\"alignmentgroup\":\"True\",\"bingroup\":\"x\",\"histfunc\":\"sum\",\"hovertemplate\":\"Category=%{x}<br>sum of Values=%{y}<extra></extra>\",\"legendgroup\":\"Cooking\",\"marker\":{\"color\":\"#FFA15A\",\"pattern\":{\"shape\":\"\"}},\"name\":\"Cooking\",\"offsetgroup\":\"Cooking\",\"orientation\":\"v\",\"showlegend\":true,\"type\":\"histogram\",\"x\":[\"Cooking\"],\"xaxis\":\"x\",\"y\":[160],\"yaxis\":\"y\"},{\"alignmentgroup\":\"True\",\"bingroup\":\"x\",\"histfunc\":\"sum\",\"hovertemplate\":\"Category=%{x}<br>sum of Values=%{y}<extra></extra>\",\"legendgroup\":\"FamilyFriendly\",\"marker\":{\"color\":\"#19d3f3\",\"pattern\":{\"shape\":\"\"}},\"name\":\"FamilyFriendly\",\"offsetgroup\":\"FamilyFriendly\",\"orientation\":\"v\",\"showlegend\":true,\"type\":\"histogram\",\"x\":[\"FamilyFriendly\"],\"xaxis\":\"x\",\"y\":[113],\"yaxis\":\"y\"},{\"alignmentgroup\":\"True\",\"bingroup\":\"x\",\"histfunc\":\"sum\",\"hovertemplate\":\"Category=%{x}<br>sum of Values=%{y}<extra></extra>\",\"legendgroup\":\"Drinks\",\"marker\":{\"color\":\"#FF6692\",\"pattern\":{\"shape\":\"\"}},\"name\":\"Drinks\",\"offsetgroup\":\"Drinks\",\"orientation\":\"v\",\"showlegend\":true,\"type\":\"histogram\",\"x\":[\"Drinks\"],\"xaxis\":\"x\",\"y\":[106],\"yaxis\":\"y\"},{\"alignmentgroup\":\"True\",\"bingroup\":\"x\",\"histfunc\":\"sum\",\"hovertemplate\":\"Category=%{x}<br>sum of Values=%{y}<extra></extra>\",\"legendgroup\":\"Entertainment\",\"marker\":{\"color\":\"#B6E880\",\"pattern\":{\"shape\":\"\"}},\"name\":\"Entertainment\",\"offsetgroup\":\"Entertainment\",\"orientation\":\"v\",\"showlegend\":true,\"type\":\"histogram\",\"x\":[\"Entertainment\"],\"xaxis\":\"x\",\"y\":[64],\"yaxis\":\"y\"},{\"alignmentgroup\":\"True\",\"bingroup\":\"x\",\"histfunc\":\"sum\",\"hovertemplate\":\"Category=%{x}<br>sum of Values=%{y}<extra></extra>\",\"legendgroup\":\"Olympians&Paralympians\",\"marker\":{\"color\":\"#FF97FF\",\"pattern\":{\"shape\":\"\"}},\"name\":\"Olympians&Paralympians\",\"offsetgroup\":\"Olympians&Paralympians\",\"orientation\":\"v\",\"showlegend\":true,\"type\":\"histogram\",\"x\":[\"Olympians&Paralympians\"],\"xaxis\":\"x\",\"y\":[58],\"yaxis\":\"y\"},{\"alignmentgroup\":\"True\",\"bingroup\":\"x\",\"histfunc\":\"sum\",\"hovertemplate\":\"Category=%{x}<br>sum of Values=%{y}<extra></extra>\",\"legendgroup\":\"Baking\",\"marker\":{\"color\":\"#FECB52\",\"pattern\":{\"shape\":\"\"}},\"name\":\"Baking\",\"offsetgroup\":\"Baking\",\"orientation\":\"v\",\"showlegend\":true,\"type\":\"histogram\",\"x\":[\"Baking\"],\"xaxis\":\"x\",\"y\":[43],\"yaxis\":\"y\"},{\"alignmentgroup\":\"True\",\"bingroup\":\"x\",\"histfunc\":\"sum\",\"hovertemplate\":\"Category=%{x}<br>sum of Values=%{y}<extra></extra>\",\"legendgroup\":\"Music\",\"marker\":{\"color\":\"#636efa\",\"pattern\":{\"shape\":\"\"}},\"name\":\"Music\",\"offsetgroup\":\"Music\",\"orientation\":\"v\",\"showlegend\":true,\"type\":\"histogram\",\"x\":[\"Music\"],\"xaxis\":\"x\",\"y\":[42],\"yaxis\":\"y\"},{\"alignmentgroup\":\"True\",\"bingroup\":\"x\",\"histfunc\":\"sum\",\"hovertemplate\":\"Category=%{x}<br>sum of Values=%{y}<extra></extra>\",\"legendgroup\":\"Animals\",\"marker\":{\"color\":\"#EF553B\",\"pattern\":{\"shape\":\"\"}},\"name\":\"Animals\",\"offsetgroup\":\"Animals\",\"orientation\":\"v\",\"showlegend\":true,\"type\":\"histogram\",\"x\":[\"Animals\"],\"xaxis\":\"x\",\"y\":[39],\"yaxis\":\"y\"},{\"alignmentgroup\":\"True\",\"bingroup\":\"x\",\"histfunc\":\"sum\",\"hovertemplate\":\"Category=%{x}<br>sum of Values=%{y}<extra></extra>\",\"legendgroup\":\"Dance\",\"marker\":{\"color\":\"#00cc96\",\"pattern\":{\"shape\":\"\"}},\"name\":\"Dance\",\"offsetgroup\":\"Dance\",\"orientation\":\"v\",\"showlegend\":true,\"type\":\"histogram\",\"x\":[\"Dance\"],\"xaxis\":\"x\",\"y\":[31],\"yaxis\":\"y\"},{\"alignmentgroup\":\"True\",\"bingroup\":\"x\",\"histfunc\":\"sum\",\"hovertemplate\":\"Category=%{x}<br>sum of Values=%{y}<extra></extra>\",\"legendgroup\":\"Magic\",\"marker\":{\"color\":\"#ab63fa\",\"pattern\":{\"shape\":\"\"}},\"name\":\"Magic\",\"offsetgroup\":\"Magic\",\"orientation\":\"v\",\"showlegend\":true,\"type\":\"histogram\",\"x\":[\"Magic\"],\"xaxis\":\"x\",\"y\":[28],\"yaxis\":\"y\"},{\"alignmentgroup\":\"True\",\"bingroup\":\"x\",\"histfunc\":\"sum\",\"hovertemplate\":\"Category=%{x}<br>sum of Values=%{y}<extra></extra>\",\"legendgroup\":\"Social&Impact\",\"marker\":{\"color\":\"#FFA15A\",\"pattern\":{\"shape\":\"\"}},\"name\":\"Social&Impact\",\"offsetgroup\":\"Social&Impact\",\"orientation\":\"v\",\"showlegend\":true,\"type\":\"histogram\",\"x\":[\"Social&Impact\"],\"xaxis\":\"x\",\"y\":[24],\"yaxis\":\"y\"},{\"alignmentgroup\":\"True\",\"bingroup\":\"x\",\"histfunc\":\"sum\",\"hovertemplate\":\"Category=%{x}<br>sum of Values=%{y}<extra></extra>\",\"legendgroup\":\"Fitness\",\"marker\":{\"color\":\"#19d3f3\",\"pattern\":{\"shape\":\"\"}},\"name\":\"Fitness\",\"offsetgroup\":\"Fitness\",\"orientation\":\"v\",\"showlegend\":true,\"type\":\"histogram\",\"x\":[\"Fitness\"],\"xaxis\":\"x\",\"y\":[22],\"yaxis\":\"y\"},{\"alignmentgroup\":\"True\",\"bingroup\":\"x\",\"histfunc\":\"sum\",\"hovertemplate\":\"Category=%{x}<br>sum of Values=%{y}<extra></extra>\",\"legendgroup\":\"Accessibility\",\"marker\":{\"color\":\"#FF6692\",\"pattern\":{\"shape\":\"\"}},\"name\":\"Accessibility\",\"offsetgroup\":\"Accessibility\",\"orientation\":\"v\",\"showlegend\":true,\"type\":\"histogram\",\"x\":[\"Accessibility\"],\"xaxis\":\"x\",\"y\":[9],\"yaxis\":\"y\"}],                        {\"barmode\":\"relative\",\"legend\":{\"title\":{\"text\":\"Category\"},\"tracegroupgap\":0},\"template\":{\"data\":{\"bar\":[{\"error_x\":{\"color\":\"#2a3f5f\"},\"error_y\":{\"color\":\"#2a3f5f\"},\"marker\":{\"line\":{\"color\":\"#E5ECF6\",\"width\":0.5},\"pattern\":{\"fillmode\":\"overlay\",\"size\":10,\"solidity\":0.2}},\"type\":\"bar\"}],\"barpolar\":[{\"marker\":{\"line\":{\"color\":\"#E5ECF6\",\"width\":0.5},\"pattern\":{\"fillmode\":\"overlay\",\"size\":10,\"solidity\":0.2}},\"type\":\"barpolar\"}],\"carpet\":[{\"aaxis\":{\"endlinecolor\":\"#2a3f5f\",\"gridcolor\":\"white\",\"linecolor\":\"white\",\"minorgridcolor\":\"white\",\"startlinecolor\":\"#2a3f5f\"},\"baxis\":{\"endlinecolor\":\"#2a3f5f\",\"gridcolor\":\"white\",\"linecolor\":\"white\",\"minorgridcolor\":\"white\",\"startlinecolor\":\"#2a3f5f\"},\"type\":\"carpet\"}],\"choropleth\":[{\"colorbar\":{\"outlinewidth\":0,\"ticks\":\"\"},\"type\":\"choropleth\"}],\"contour\":[{\"colorbar\":{\"outlinewidth\":0,\"ticks\":\"\"},\"colorscale\":[[0.0,\"#0d0887\"],[0.1111111111111111,\"#46039f\"],[0.2222222222222222,\"#7201a8\"],[0.3333333333333333,\"#9c179e\"],[0.4444444444444444,\"#bd3786\"],[0.5555555555555556,\"#d8576b\"],[0.6666666666666666,\"#ed7953\"],[0.7777777777777778,\"#fb9f3a\"],[0.8888888888888888,\"#fdca26\"],[1.0,\"#f0f921\"]],\"type\":\"contour\"}],\"contourcarpet\":[{\"colorbar\":{\"outlinewidth\":0,\"ticks\":\"\"},\"type\":\"contourcarpet\"}],\"heatmap\":[{\"colorbar\":{\"outlinewidth\":0,\"ticks\":\"\"},\"colorscale\":[[0.0,\"#0d0887\"],[0.1111111111111111,\"#46039f\"],[0.2222222222222222,\"#7201a8\"],[0.3333333333333333,\"#9c179e\"],[0.4444444444444444,\"#bd3786\"],[0.5555555555555556,\"#d8576b\"],[0.6666666666666666,\"#ed7953\"],[0.7777777777777778,\"#fb9f3a\"],[0.8888888888888888,\"#fdca26\"],[1.0,\"#f0f921\"]],\"type\":\"heatmap\"}],\"heatmapgl\":[{\"colorbar\":{\"outlinewidth\":0,\"ticks\":\"\"},\"colorscale\":[[0.0,\"#0d0887\"],[0.1111111111111111,\"#46039f\"],[0.2222222222222222,\"#7201a8\"],[0.3333333333333333,\"#9c179e\"],[0.4444444444444444,\"#bd3786\"],[0.5555555555555556,\"#d8576b\"],[0.6666666666666666,\"#ed7953\"],[0.7777777777777778,\"#fb9f3a\"],[0.8888888888888888,\"#fdca26\"],[1.0,\"#f0f921\"]],\"type\":\"heatmapgl\"}],\"histogram\":[{\"marker\":{\"pattern\":{\"fillmode\":\"overlay\",\"size\":10,\"solidity\":0.2}},\"type\":\"histogram\"}],\"histogram2d\":[{\"colorbar\":{\"outlinewidth\":0,\"ticks\":\"\"},\"colorscale\":[[0.0,\"#0d0887\"],[0.1111111111111111,\"#46039f\"],[0.2222222222222222,\"#7201a8\"],[0.3333333333333333,\"#9c179e\"],[0.4444444444444444,\"#bd3786\"],[0.5555555555555556,\"#d8576b\"],[0.6666666666666666,\"#ed7953\"],[0.7777777777777778,\"#fb9f3a\"],[0.8888888888888888,\"#fdca26\"],[1.0,\"#f0f921\"]],\"type\":\"histogram2d\"}],\"histogram2dcontour\":[{\"colorbar\":{\"outlinewidth\":0,\"ticks\":\"\"},\"colorscale\":[[0.0,\"#0d0887\"],[0.1111111111111111,\"#46039f\"],[0.2222222222222222,\"#7201a8\"],[0.3333333333333333,\"#9c179e\"],[0.4444444444444444,\"#bd3786\"],[0.5555555555555556,\"#d8576b\"],[0.6666666666666666,\"#ed7953\"],[0.7777777777777778,\"#fb9f3a\"],[0.8888888888888888,\"#fdca26\"],[1.0,\"#f0f921\"]],\"type\":\"histogram2dcontour\"}],\"mesh3d\":[{\"colorbar\":{\"outlinewidth\":0,\"ticks\":\"\"},\"type\":\"mesh3d\"}],\"parcoords\":[{\"line\":{\"colorbar\":{\"outlinewidth\":0,\"ticks\":\"\"}},\"type\":\"parcoords\"}],\"pie\":[{\"automargin\":true,\"type\":\"pie\"}],\"scatter\":[{\"marker\":{\"colorbar\":{\"outlinewidth\":0,\"ticks\":\"\"}},\"type\":\"scatter\"}],\"scatter3d\":[{\"line\":{\"colorbar\":{\"outlinewidth\":0,\"ticks\":\"\"}},\"marker\":{\"colorbar\":{\"outlinewidth\":0,\"ticks\":\"\"}},\"type\":\"scatter3d\"}],\"scattercarpet\":[{\"marker\":{\"colorbar\":{\"outlinewidth\":0,\"ticks\":\"\"}},\"type\":\"scattercarpet\"}],\"scattergeo\":[{\"marker\":{\"colorbar\":{\"outlinewidth\":0,\"ticks\":\"\"}},\"type\":\"scattergeo\"}],\"scattergl\":[{\"marker\":{\"colorbar\":{\"outlinewidth\":0,\"ticks\":\"\"}},\"type\":\"scattergl\"}],\"scattermapbox\":[{\"marker\":{\"colorbar\":{\"outlinewidth\":0,\"ticks\":\"\"}},\"type\":\"scattermapbox\"}],\"scatterpolar\":[{\"marker\":{\"colorbar\":{\"outlinewidth\":0,\"ticks\":\"\"}},\"type\":\"scatterpolar\"}],\"scatterpolargl\":[{\"marker\":{\"colorbar\":{\"outlinewidth\":0,\"ticks\":\"\"}},\"type\":\"scatterpolargl\"}],\"scatterternary\":[{\"marker\":{\"colorbar\":{\"outlinewidth\":0,\"ticks\":\"\"}},\"type\":\"scatterternary\"}],\"surface\":[{\"colorbar\":{\"outlinewidth\":0,\"ticks\":\"\"},\"colorscale\":[[0.0,\"#0d0887\"],[0.1111111111111111,\"#46039f\"],[0.2222222222222222,\"#7201a8\"],[0.3333333333333333,\"#9c179e\"],[0.4444444444444444,\"#bd3786\"],[0.5555555555555556,\"#d8576b\"],[0.6666666666666666,\"#ed7953\"],[0.7777777777777778,\"#fb9f3a\"],[0.8888888888888888,\"#fdca26\"],[1.0,\"#f0f921\"]],\"type\":\"surface\"}],\"table\":[{\"cells\":{\"fill\":{\"color\":\"#EBF0F8\"},\"line\":{\"color\":\"white\"}},\"header\":{\"fill\":{\"color\":\"#C8D4E3\"},\"line\":{\"color\":\"white\"}},\"type\":\"table\"}]},\"layout\":{\"annotationdefaults\":{\"arrowcolor\":\"#2a3f5f\",\"arrowhead\":0,\"arrowwidth\":1},\"autotypenumbers\":\"strict\",\"coloraxis\":{\"colorbar\":{\"outlinewidth\":0,\"ticks\":\"\"}},\"colorscale\":{\"diverging\":[[0,\"#8e0152\"],[0.1,\"#c51b7d\"],[0.2,\"#de77ae\"],[0.3,\"#f1b6da\"],[0.4,\"#fde0ef\"],[0.5,\"#f7f7f7\"],[0.6,\"#e6f5d0\"],[0.7,\"#b8e186\"],[0.8,\"#7fbc41\"],[0.9,\"#4d9221\"],[1,\"#276419\"]],\"sequential\":[[0.0,\"#0d0887\"],[0.1111111111111111,\"#46039f\"],[0.2222222222222222,\"#7201a8\"],[0.3333333333333333,\"#9c179e\"],[0.4444444444444444,\"#bd3786\"],[0.5555555555555556,\"#d8576b\"],[0.6666666666666666,\"#ed7953\"],[0.7777777777777778,\"#fb9f3a\"],[0.8888888888888888,\"#fdca26\"],[1.0,\"#f0f921\"]],\"sequentialminus\":[[0.0,\"#0d0887\"],[0.1111111111111111,\"#46039f\"],[0.2222222222222222,\"#7201a8\"],[0.3333333333333333,\"#9c179e\"],[0.4444444444444444,\"#bd3786\"],[0.5555555555555556,\"#d8576b\"],[0.6666666666666666,\"#ed7953\"],[0.7777777777777778,\"#fb9f3a\"],[0.8888888888888888,\"#fdca26\"],[1.0,\"#f0f921\"]]},\"colorway\":[\"#636efa\",\"#EF553B\",\"#00cc96\",\"#ab63fa\",\"#FFA15A\",\"#19d3f3\",\"#FF6692\",\"#B6E880\",\"#FF97FF\",\"#FECB52\"],\"font\":{\"color\":\"#2a3f5f\"},\"geo\":{\"bgcolor\":\"white\",\"lakecolor\":\"white\",\"landcolor\":\"#E5ECF6\",\"showlakes\":true,\"showland\":true,\"subunitcolor\":\"white\"},\"hoverlabel\":{\"align\":\"left\"},\"hovermode\":\"closest\",\"mapbox\":{\"style\":\"light\"},\"paper_bgcolor\":\"white\",\"plot_bgcolor\":\"#E5ECF6\",\"polar\":{\"angularaxis\":{\"gridcolor\":\"white\",\"linecolor\":\"white\",\"ticks\":\"\"},\"bgcolor\":\"#E5ECF6\",\"radialaxis\":{\"gridcolor\":\"white\",\"linecolor\":\"white\",\"ticks\":\"\"}},\"scene\":{\"xaxis\":{\"backgroundcolor\":\"#E5ECF6\",\"gridcolor\":\"white\",\"gridwidth\":2,\"linecolor\":\"white\",\"showbackground\":true,\"ticks\":\"\",\"zerolinecolor\":\"white\"},\"yaxis\":{\"backgroundcolor\":\"#E5ECF6\",\"gridcolor\":\"white\",\"gridwidth\":2,\"linecolor\":\"white\",\"showbackground\":true,\"ticks\":\"\",\"zerolinecolor\":\"white\"},\"zaxis\":{\"backgroundcolor\":\"#E5ECF6\",\"gridcolor\":\"white\",\"gridwidth\":2,\"linecolor\":\"white\",\"showbackground\":true,\"ticks\":\"\",\"zerolinecolor\":\"white\"}},\"shapedefaults\":{\"line\":{\"color\":\"#2a3f5f\"}},\"ternary\":{\"aaxis\":{\"gridcolor\":\"white\",\"linecolor\":\"white\",\"ticks\":\"\"},\"baxis\":{\"gridcolor\":\"white\",\"linecolor\":\"white\",\"ticks\":\"\"},\"bgcolor\":\"#E5ECF6\",\"caxis\":{\"gridcolor\":\"white\",\"linecolor\":\"white\",\"ticks\":\"\"}},\"title\":{\"x\":0.05},\"xaxis\":{\"automargin\":true,\"gridcolor\":\"white\",\"linecolor\":\"white\",\"ticks\":\"\",\"title\":{\"standoff\":15},\"zerolinecolor\":\"white\",\"zerolinewidth\":2},\"yaxis\":{\"automargin\":true,\"gridcolor\":\"white\",\"linecolor\":\"white\",\"ticks\":\"\",\"title\":{\"standoff\":15},\"zerolinecolor\":\"white\",\"zerolinewidth\":2}}},\"title\":{\"text\":\"Experiences By Category\"},\"xaxis\":{\"anchor\":\"y\",\"categoryarray\":[\"History&Culture\",\"Great4Groups\",\"Wellness\",\"Art&Writing\",\"Cooking\",\"FamilyFriendly\",\"Drinks\",\"Entertainment\",\"Olympians&Paralympians\",\"Baking\",\"Music\",\"Animals\",\"Dance\",\"Magic\",\"Social&Impact\",\"Fitness\",\"Accessibility\"],\"categoryorder\":\"total descending\",\"domain\":[0.0,1.0],\"title\":{\"text\":\"Category\"}},\"yaxis\":{\"anchor\":\"x\",\"domain\":[0.0,1.0],\"title\":{\"text\":\"sum of Values\"}}},                        {\"responsive\": true}                    ).then(function(){\n",
       "                            \n",
       "var gd = document.getElementById('2d72eec0-5295-4327-9d56-78039586bf58');\n",
       "var x = new MutationObserver(function (mutations, observer) {{\n",
       "        var display = window.getComputedStyle(gd).display;\n",
       "        if (!display || display === 'none') {{\n",
       "            console.log([gd, 'removed!']);\n",
       "            Plotly.purge(gd);\n",
       "            observer.disconnect();\n",
       "        }}\n",
       "}});\n",
       "\n",
       "// Listen for the removal of the full notebook cells\n",
       "var notebookContainer = gd.closest('#notebook-container');\n",
       "if (notebookContainer) {{\n",
       "    x.observe(notebookContainer, {childList: true});\n",
       "}}\n",
       "\n",
       "// Listen for the clearing of the current output cell\n",
       "var outputEl = gd.closest('.output');\n",
       "if (outputEl) {{\n",
       "    x.observe(outputEl, {childList: true});\n",
       "}}\n",
       "\n",
       "                        })                };                });            </script>        </div>"
      ]
     },
     "metadata": {},
     "output_type": "display_data"
    }
   ],
   "source": [
    "count_by_category = pd.read_csv('./Data/count_by_category.csv')\n",
    "fig_2 = px.histogram(count_by_category, x='Category', y = 'Values',color='Category',\n",
    "                   title='Experiences By Category').update_xaxes(categoryorder=\"total descending\")\n",
    "fig_2.show()"
   ]
  },
  {
   "cell_type": "code",
   "execution_count": 13,
   "id": "6e96cdb7",
   "metadata": {},
   "outputs": [
    {
     "data": {
      "text/plain": [
       "Country\n",
       "Italy             45\n",
       "Japan             39\n",
       "United States     36\n",
       "United Kingdom    24\n",
       "Argentina         18\n",
       "Name: Country, dtype: int64"
      ]
     },
     "execution_count": 13,
     "metadata": {},
     "output_type": "execute_result"
    }
   ],
   "source": [
    "unfiltered.groupby('Category')['Country'].value_counts()['History&Culture'].head(5)"
   ]
  },
  {
   "cell_type": "code",
   "execution_count": 14,
   "id": "25f3f2f1",
   "metadata": {},
   "outputs": [
    {
     "data": {
      "text/plain": [
       "Country\n",
       "Italy            26\n",
       "India            15\n",
       "United States    13\n",
       "Japan            10\n",
       "Spain             9\n",
       "Name: Country, dtype: int64"
      ]
     },
     "execution_count": 14,
     "metadata": {},
     "output_type": "execute_result"
    }
   ],
   "source": [
    "unfiltered.groupby('Category')['Country'].value_counts()['Cooking'].head(5)"
   ]
  },
  {
   "cell_type": "code",
   "execution_count": 15,
   "id": "c6af0283",
   "metadata": {},
   "outputs": [
    {
     "data": {
      "text/plain": [
       "Country\n",
       "United States     59\n",
       "United Kingdom    22\n",
       "Australia         14\n",
       "Mexico            13\n",
       "Canada             9\n",
       "Name: Country, dtype: int64"
      ]
     },
     "execution_count": 15,
     "metadata": {},
     "output_type": "execute_result"
    }
   ],
   "source": [
    "unfiltered.groupby('Category')['Country'].value_counts()['Wellness'].head(5)"
   ]
  },
  {
   "cell_type": "code",
   "execution_count": 16,
   "id": "0efe664a",
   "metadata": {},
   "outputs": [
    {
     "data": {
      "text/plain": [
       "Country\n",
       "United States     35\n",
       "Italy             28\n",
       "United Kingdom    21\n",
       "Spain             20\n",
       "Japan             19\n",
       "Name: Country, dtype: int64"
      ]
     },
     "execution_count": 16,
     "metadata": {},
     "output_type": "execute_result"
    }
   ],
   "source": [
    "unfiltered.groupby('Category')['Country'].value_counts()['Great4Groups'].head(5)"
   ]
  },
  {
   "cell_type": "code",
   "execution_count": 72,
   "id": "7789ed03",
   "metadata": {},
   "outputs": [],
   "source": [
    "categories = unfiltered.groupby('Category').mean().reset_index()\n",
    "\n",
    "categories['Value_By_Review'] = categories['Cost'] * categories['Reviews']\n",
    "categories['Value_By_Duration'] = categories['Value_By_Review'] / categories['Duration']\n",
    "categories['Rating'] = list(map(lambda x: round(x,2), categories['Rating']))\n",
    "categories['Reviews'] = categories['Reviews'].astype(int)\n",
    "categories['Duration'] = list(map(lambda x: round(x,2), categories['Duration']))\n",
    "categories['Cost'] = list(map(lambda x: round(x,2), categories['Cost']))\n",
    "categories['Group_Limit'] = categories['Group_Limit'].astype(int)\n",
    "categories['Group_Start_Cost'] = list(map(lambda x: round(x,2), categories['Group_Start_Cost']))\n",
    "categories['Value_By_Review'] = list(map(lambda x: round(x,2), categories['Value_By_Review']))\n",
    "categories['Value_By_Duration'] = list(map(lambda x: round(x,2), categories['Value_By_Duration']))"
   ]
  },
  {
   "cell_type": "code",
   "execution_count": 93,
   "id": "0018539a",
   "metadata": {},
   "outputs": [
    {
     "data": {
      "text/html": [
       "<div>\n",
       "<style scoped>\n",
       "    .dataframe tbody tr th:only-of-type {\n",
       "        vertical-align: middle;\n",
       "    }\n",
       "\n",
       "    .dataframe tbody tr th {\n",
       "        vertical-align: top;\n",
       "    }\n",
       "\n",
       "    .dataframe thead th {\n",
       "        text-align: right;\n",
       "    }\n",
       "</style>\n",
       "<table border=\"1\" class=\"dataframe\">\n",
       "  <thead>\n",
       "    <tr style=\"text-align: right;\">\n",
       "      <th></th>\n",
       "      <th>Category</th>\n",
       "      <th>Rating</th>\n",
       "      <th>Reviews</th>\n",
       "      <th>Duration</th>\n",
       "      <th>Cost</th>\n",
       "      <th>Group_Limit</th>\n",
       "      <th>Group_Start_Cost</th>\n",
       "      <th>Value_By_Review</th>\n",
       "      <th>Value_By_Duration</th>\n",
       "    </tr>\n",
       "  </thead>\n",
       "  <tbody>\n",
       "    <tr>\n",
       "      <th>10</th>\n",
       "      <td>Great4Groups</td>\n",
       "      <td>4.96</td>\n",
       "      <td>341</td>\n",
       "      <td>72.07</td>\n",
       "      <td>22.43</td>\n",
       "      <td>126</td>\n",
       "      <td>191.29</td>\n",
       "      <td>7665.01</td>\n",
       "      <td>106.36</td>\n",
       "    </tr>\n",
       "    <tr>\n",
       "      <th>8</th>\n",
       "      <td>FamilyFriendly</td>\n",
       "      <td>4.96</td>\n",
       "      <td>318</td>\n",
       "      <td>69.82</td>\n",
       "      <td>21.39</td>\n",
       "      <td>125</td>\n",
       "      <td>208.05</td>\n",
       "      <td>6822.83</td>\n",
       "      <td>97.72</td>\n",
       "    </tr>\n",
       "    <tr>\n",
       "      <th>12</th>\n",
       "      <td>Magic</td>\n",
       "      <td>4.97</td>\n",
       "      <td>190</td>\n",
       "      <td>60.00</td>\n",
       "      <td>26.21</td>\n",
       "      <td>104</td>\n",
       "      <td>338.00</td>\n",
       "      <td>5000.38</td>\n",
       "      <td>83.34</td>\n",
       "    </tr>\n",
       "    <tr>\n",
       "      <th>1</th>\n",
       "      <td>Animals</td>\n",
       "      <td>4.96</td>\n",
       "      <td>212</td>\n",
       "      <td>66.15</td>\n",
       "      <td>22.64</td>\n",
       "      <td>72</td>\n",
       "      <td>144.08</td>\n",
       "      <td>4804.79</td>\n",
       "      <td>72.63</td>\n",
       "    </tr>\n",
       "    <tr>\n",
       "      <th>7</th>\n",
       "      <td>Entertainment</td>\n",
       "      <td>4.97</td>\n",
       "      <td>192</td>\n",
       "      <td>62.97</td>\n",
       "      <td>22.39</td>\n",
       "      <td>101</td>\n",
       "      <td>285.63</td>\n",
       "      <td>4309.28</td>\n",
       "      <td>68.44</td>\n",
       "    </tr>\n",
       "    <tr>\n",
       "      <th>13</th>\n",
       "      <td>Music</td>\n",
       "      <td>4.97</td>\n",
       "      <td>153</td>\n",
       "      <td>65.00</td>\n",
       "      <td>27.43</td>\n",
       "      <td>78</td>\n",
       "      <td>177.05</td>\n",
       "      <td>4219.78</td>\n",
       "      <td>64.92</td>\n",
       "    </tr>\n",
       "    <tr>\n",
       "      <th>6</th>\n",
       "      <td>Drinks</td>\n",
       "      <td>4.96</td>\n",
       "      <td>189</td>\n",
       "      <td>72.50</td>\n",
       "      <td>21.52</td>\n",
       "      <td>63</td>\n",
       "      <td>148.07</td>\n",
       "      <td>4079.14</td>\n",
       "      <td>56.26</td>\n",
       "    </tr>\n",
       "    <tr>\n",
       "      <th>4</th>\n",
       "      <td>Cooking</td>\n",
       "      <td>4.97</td>\n",
       "      <td>221</td>\n",
       "      <td>90.44</td>\n",
       "      <td>22.76</td>\n",
       "      <td>63</td>\n",
       "      <td>154.93</td>\n",
       "      <td>5032.60</td>\n",
       "      <td>55.65</td>\n",
       "    </tr>\n",
       "    <tr>\n",
       "      <th>16</th>\n",
       "      <td>Wellness</td>\n",
       "      <td>4.96</td>\n",
       "      <td>91</td>\n",
       "      <td>65.50</td>\n",
       "      <td>35.16</td>\n",
       "      <td>85</td>\n",
       "      <td>163.81</td>\n",
       "      <td>3217.82</td>\n",
       "      <td>49.13</td>\n",
       "    </tr>\n",
       "    <tr>\n",
       "      <th>0</th>\n",
       "      <td>Accessibility</td>\n",
       "      <td>4.98</td>\n",
       "      <td>66</td>\n",
       "      <td>68.33</td>\n",
       "      <td>45.33</td>\n",
       "      <td>84</td>\n",
       "      <td>221.44</td>\n",
       "      <td>2992.00</td>\n",
       "      <td>43.79</td>\n",
       "    </tr>\n",
       "    <tr>\n",
       "      <th>15</th>\n",
       "      <td>Social&amp;Impact</td>\n",
       "      <td>4.95</td>\n",
       "      <td>156</td>\n",
       "      <td>71.25</td>\n",
       "      <td>19.08</td>\n",
       "      <td>91</td>\n",
       "      <td>170.92</td>\n",
       "      <td>2990.28</td>\n",
       "      <td>41.97</td>\n",
       "    </tr>\n",
       "    <tr>\n",
       "      <th>11</th>\n",
       "      <td>History&amp;Culture</td>\n",
       "      <td>4.96</td>\n",
       "      <td>125</td>\n",
       "      <td>67.41</td>\n",
       "      <td>19.72</td>\n",
       "      <td>56</td>\n",
       "      <td>141.42</td>\n",
       "      <td>2465.11</td>\n",
       "      <td>36.57</td>\n",
       "    </tr>\n",
       "    <tr>\n",
       "      <th>2</th>\n",
       "      <td>Art&amp;Writing</td>\n",
       "      <td>4.97</td>\n",
       "      <td>115</td>\n",
       "      <td>70.03</td>\n",
       "      <td>22.01</td>\n",
       "      <td>53</td>\n",
       "      <td>112.49</td>\n",
       "      <td>2531.16</td>\n",
       "      <td>36.15</td>\n",
       "    </tr>\n",
       "    <tr>\n",
       "      <th>3</th>\n",
       "      <td>Baking</td>\n",
       "      <td>4.97</td>\n",
       "      <td>102</td>\n",
       "      <td>75.35</td>\n",
       "      <td>24.44</td>\n",
       "      <td>33</td>\n",
       "      <td>190.19</td>\n",
       "      <td>2507.38</td>\n",
       "      <td>33.28</td>\n",
       "    </tr>\n",
       "    <tr>\n",
       "      <th>5</th>\n",
       "      <td>Dance</td>\n",
       "      <td>4.98</td>\n",
       "      <td>98</td>\n",
       "      <td>62.42</td>\n",
       "      <td>16.26</td>\n",
       "      <td>39</td>\n",
       "      <td>102.23</td>\n",
       "      <td>1605.06</td>\n",
       "      <td>25.71</td>\n",
       "    </tr>\n",
       "    <tr>\n",
       "      <th>9</th>\n",
       "      <td>Fitness</td>\n",
       "      <td>4.99</td>\n",
       "      <td>49</td>\n",
       "      <td>58.64</td>\n",
       "      <td>25.05</td>\n",
       "      <td>268</td>\n",
       "      <td>264.32</td>\n",
       "      <td>1229.61</td>\n",
       "      <td>20.97</td>\n",
       "    </tr>\n",
       "    <tr>\n",
       "      <th>14</th>\n",
       "      <td>Olympians&amp;Paralympians</td>\n",
       "      <td>4.98</td>\n",
       "      <td>41</td>\n",
       "      <td>63.88</td>\n",
       "      <td>31.81</td>\n",
       "      <td>372</td>\n",
       "      <td>334.07</td>\n",
       "      <td>1329.79</td>\n",
       "      <td>20.82</td>\n",
       "    </tr>\n",
       "  </tbody>\n",
       "</table>\n",
       "</div>"
      ],
      "text/plain": [
       "                  Category  Rating  Reviews  Duration   Cost  Group_Limit  \\\n",
       "10            Great4Groups    4.96      341     72.07  22.43          126   \n",
       "8           FamilyFriendly    4.96      318     69.82  21.39          125   \n",
       "12                   Magic    4.97      190     60.00  26.21          104   \n",
       "1                  Animals    4.96      212     66.15  22.64           72   \n",
       "7            Entertainment    4.97      192     62.97  22.39          101   \n",
       "13                   Music    4.97      153     65.00  27.43           78   \n",
       "6                   Drinks    4.96      189     72.50  21.52           63   \n",
       "4                  Cooking    4.97      221     90.44  22.76           63   \n",
       "16                Wellness    4.96       91     65.50  35.16           85   \n",
       "0            Accessibility    4.98       66     68.33  45.33           84   \n",
       "15           Social&Impact    4.95      156     71.25  19.08           91   \n",
       "11         History&Culture    4.96      125     67.41  19.72           56   \n",
       "2              Art&Writing    4.97      115     70.03  22.01           53   \n",
       "3                   Baking    4.97      102     75.35  24.44           33   \n",
       "5                    Dance    4.98       98     62.42  16.26           39   \n",
       "9                  Fitness    4.99       49     58.64  25.05          268   \n",
       "14  Olympians&Paralympians    4.98       41     63.88  31.81          372   \n",
       "\n",
       "    Group_Start_Cost  Value_By_Review  Value_By_Duration  \n",
       "10            191.29          7665.01             106.36  \n",
       "8             208.05          6822.83              97.72  \n",
       "12            338.00          5000.38              83.34  \n",
       "1             144.08          4804.79              72.63  \n",
       "7             285.63          4309.28              68.44  \n",
       "13            177.05          4219.78              64.92  \n",
       "6             148.07          4079.14              56.26  \n",
       "4             154.93          5032.60              55.65  \n",
       "16            163.81          3217.82              49.13  \n",
       "0             221.44          2992.00              43.79  \n",
       "15            170.92          2990.28              41.97  \n",
       "11            141.42          2465.11              36.57  \n",
       "2             112.49          2531.16              36.15  \n",
       "3             190.19          2507.38              33.28  \n",
       "5             102.23          1605.06              25.71  \n",
       "9             264.32          1229.61              20.97  \n",
       "14            334.07          1329.79              20.82  "
      ]
     },
     "execution_count": 93,
     "metadata": {},
     "output_type": "execute_result"
    }
   ],
   "source": [
    "categories.sort_values('Value_By_Duration',ascending=False)"
   ]
  },
  {
   "cell_type": "code",
   "execution_count": 74,
   "id": "bc399b8a",
   "metadata": {},
   "outputs": [
    {
     "data": {
      "text/html": [
       "<div>\n",
       "<style scoped>\n",
       "    .dataframe tbody tr th:only-of-type {\n",
       "        vertical-align: middle;\n",
       "    }\n",
       "\n",
       "    .dataframe tbody tr th {\n",
       "        vertical-align: top;\n",
       "    }\n",
       "\n",
       "    .dataframe thead th {\n",
       "        text-align: right;\n",
       "    }\n",
       "</style>\n",
       "<table border=\"1\" class=\"dataframe\">\n",
       "  <thead>\n",
       "    <tr style=\"text-align: right;\">\n",
       "      <th></th>\n",
       "      <th>Category</th>\n",
       "      <th>Reviews</th>\n",
       "      <th>Cost</th>\n",
       "      <th>Value_By_Review</th>\n",
       "    </tr>\n",
       "  </thead>\n",
       "  <tbody>\n",
       "    <tr>\n",
       "      <th>9</th>\n",
       "      <td>Fitness</td>\n",
       "      <td>49</td>\n",
       "      <td>25.05</td>\n",
       "      <td>1229.61</td>\n",
       "    </tr>\n",
       "    <tr>\n",
       "      <th>14</th>\n",
       "      <td>Olympians&amp;Paralympians</td>\n",
       "      <td>41</td>\n",
       "      <td>31.81</td>\n",
       "      <td>1329.79</td>\n",
       "    </tr>\n",
       "    <tr>\n",
       "      <th>5</th>\n",
       "      <td>Dance</td>\n",
       "      <td>98</td>\n",
       "      <td>16.26</td>\n",
       "      <td>1605.06</td>\n",
       "    </tr>\n",
       "    <tr>\n",
       "      <th>11</th>\n",
       "      <td>History&amp;Culture</td>\n",
       "      <td>125</td>\n",
       "      <td>19.72</td>\n",
       "      <td>2465.11</td>\n",
       "    </tr>\n",
       "    <tr>\n",
       "      <th>3</th>\n",
       "      <td>Baking</td>\n",
       "      <td>102</td>\n",
       "      <td>24.44</td>\n",
       "      <td>2507.38</td>\n",
       "    </tr>\n",
       "  </tbody>\n",
       "</table>\n",
       "</div>"
      ],
      "text/plain": [
       "                  Category  Reviews   Cost  Value_By_Review\n",
       "9                  Fitness       49  25.05          1229.61\n",
       "14  Olympians&Paralympians       41  31.81          1329.79\n",
       "5                    Dance       98  16.26          1605.06\n",
       "11         History&Culture      125  19.72          2465.11\n",
       "3                   Baking      102  24.44          2507.38"
      ]
     },
     "execution_count": 74,
     "metadata": {},
     "output_type": "execute_result"
    }
   ],
   "source": [
    "bottom_5_categories_by_value = categories.sort_values \\\n",
    "(by=['Value_By_Review'])[['Category','Reviews','Cost','Value_By_Review']].head(5)\n",
    "\n",
    "bottom_5_categories_by_value"
   ]
  },
  {
   "cell_type": "code",
   "execution_count": 75,
   "id": "8460421f",
   "metadata": {},
   "outputs": [
    {
     "data": {
      "text/html": [
       "<div>\n",
       "<style scoped>\n",
       "    .dataframe tbody tr th:only-of-type {\n",
       "        vertical-align: middle;\n",
       "    }\n",
       "\n",
       "    .dataframe tbody tr th {\n",
       "        vertical-align: top;\n",
       "    }\n",
       "\n",
       "    .dataframe thead th {\n",
       "        text-align: right;\n",
       "    }\n",
       "</style>\n",
       "<table border=\"1\" class=\"dataframe\">\n",
       "  <thead>\n",
       "    <tr style=\"text-align: right;\">\n",
       "      <th></th>\n",
       "      <th>Category</th>\n",
       "      <th>Reviews</th>\n",
       "      <th>Cost</th>\n",
       "      <th>Value_By_Review</th>\n",
       "    </tr>\n",
       "  </thead>\n",
       "  <tbody>\n",
       "    <tr>\n",
       "      <th>10</th>\n",
       "      <td>Great4Groups</td>\n",
       "      <td>341</td>\n",
       "      <td>22.43</td>\n",
       "      <td>7665.01</td>\n",
       "    </tr>\n",
       "    <tr>\n",
       "      <th>8</th>\n",
       "      <td>FamilyFriendly</td>\n",
       "      <td>318</td>\n",
       "      <td>21.39</td>\n",
       "      <td>6822.83</td>\n",
       "    </tr>\n",
       "    <tr>\n",
       "      <th>4</th>\n",
       "      <td>Cooking</td>\n",
       "      <td>221</td>\n",
       "      <td>22.76</td>\n",
       "      <td>5032.60</td>\n",
       "    </tr>\n",
       "    <tr>\n",
       "      <th>12</th>\n",
       "      <td>Magic</td>\n",
       "      <td>190</td>\n",
       "      <td>26.21</td>\n",
       "      <td>5000.38</td>\n",
       "    </tr>\n",
       "    <tr>\n",
       "      <th>1</th>\n",
       "      <td>Animals</td>\n",
       "      <td>212</td>\n",
       "      <td>22.64</td>\n",
       "      <td>4804.79</td>\n",
       "    </tr>\n",
       "  </tbody>\n",
       "</table>\n",
       "</div>"
      ],
      "text/plain": [
       "          Category  Reviews   Cost  Value_By_Review\n",
       "10    Great4Groups      341  22.43          7665.01\n",
       "8   FamilyFriendly      318  21.39          6822.83\n",
       "4          Cooking      221  22.76          5032.60\n",
       "12           Magic      190  26.21          5000.38\n",
       "1          Animals      212  22.64          4804.79"
      ]
     },
     "execution_count": 75,
     "metadata": {},
     "output_type": "execute_result"
    }
   ],
   "source": [
    "top_5_categories_by_value = categories.sort_values \\\n",
    "(by=['Value_By_Review'],ascending=False)[['Category','Reviews','Cost','Value_By_Review']].head(5)\n",
    "\n",
    "top_5_categories_by_value"
   ]
  },
  {
   "cell_type": "code",
   "execution_count": 76,
   "id": "e9b9d143",
   "metadata": {},
   "outputs": [
    {
     "data": {
      "application/vnd.plotly.v1+json": {
       "config": {
        "plotlyServerURL": "https://plot.ly"
       },
       "data": [
        {
         "customdata": [
          [
           2992
          ]
         ],
         "hovertemplate": "Category=Accessibility<br>Reviews=%{x}<br>Cost=%{y}<br>Value_By_Review=%{customdata[0]}<extra></extra>",
         "legendgroup": "Accessibility",
         "marker": {
          "color": "#636efa",
          "size": [
           2992
          ],
          "sizemode": "area",
          "sizeref": 19.162525000000002,
          "symbol": "circle"
         },
         "mode": "markers",
         "name": "Accessibility",
         "orientation": "v",
         "showlegend": true,
         "type": "scatter",
         "x": [
          66
         ],
         "xaxis": "x",
         "y": [
          45.33
         ],
         "yaxis": "y"
        },
        {
         "customdata": [
          [
           4804.79
          ]
         ],
         "hovertemplate": "Category=Animals<br>Reviews=%{x}<br>Cost=%{y}<br>Value_By_Review=%{customdata[0]}<extra></extra>",
         "legendgroup": "Animals",
         "marker": {
          "color": "#EF553B",
          "size": [
           4804.79
          ],
          "sizemode": "area",
          "sizeref": 19.162525000000002,
          "symbol": "circle"
         },
         "mode": "markers",
         "name": "Animals",
         "orientation": "v",
         "showlegend": true,
         "type": "scatter",
         "x": [
          212
         ],
         "xaxis": "x",
         "y": [
          22.64
         ],
         "yaxis": "y"
        },
        {
         "customdata": [
          [
           2531.16
          ]
         ],
         "hovertemplate": "Category=Art&Writing<br>Reviews=%{x}<br>Cost=%{y}<br>Value_By_Review=%{customdata[0]}<extra></extra>",
         "legendgroup": "Art&Writing",
         "marker": {
          "color": "#00cc96",
          "size": [
           2531.16
          ],
          "sizemode": "area",
          "sizeref": 19.162525000000002,
          "symbol": "circle"
         },
         "mode": "markers",
         "name": "Art&Writing",
         "orientation": "v",
         "showlegend": true,
         "type": "scatter",
         "x": [
          115
         ],
         "xaxis": "x",
         "y": [
          22.01
         ],
         "yaxis": "y"
        },
        {
         "customdata": [
          [
           2507.38
          ]
         ],
         "hovertemplate": "Category=Baking<br>Reviews=%{x}<br>Cost=%{y}<br>Value_By_Review=%{customdata[0]}<extra></extra>",
         "legendgroup": "Baking",
         "marker": {
          "color": "#ab63fa",
          "size": [
           2507.38
          ],
          "sizemode": "area",
          "sizeref": 19.162525000000002,
          "symbol": "circle"
         },
         "mode": "markers",
         "name": "Baking",
         "orientation": "v",
         "showlegend": true,
         "type": "scatter",
         "x": [
          102
         ],
         "xaxis": "x",
         "y": [
          24.44
         ],
         "yaxis": "y"
        },
        {
         "customdata": [
          [
           5032.6
          ]
         ],
         "hovertemplate": "Category=Cooking<br>Reviews=%{x}<br>Cost=%{y}<br>Value_By_Review=%{customdata[0]}<extra></extra>",
         "legendgroup": "Cooking",
         "marker": {
          "color": "#FFA15A",
          "size": [
           5032.6
          ],
          "sizemode": "area",
          "sizeref": 19.162525000000002,
          "symbol": "circle"
         },
         "mode": "markers",
         "name": "Cooking",
         "orientation": "v",
         "showlegend": true,
         "type": "scatter",
         "x": [
          221
         ],
         "xaxis": "x",
         "y": [
          22.76
         ],
         "yaxis": "y"
        },
        {
         "customdata": [
          [
           1605.06
          ]
         ],
         "hovertemplate": "Category=Dance<br>Reviews=%{x}<br>Cost=%{y}<br>Value_By_Review=%{customdata[0]}<extra></extra>",
         "legendgroup": "Dance",
         "marker": {
          "color": "#19d3f3",
          "size": [
           1605.06
          ],
          "sizemode": "area",
          "sizeref": 19.162525000000002,
          "symbol": "circle"
         },
         "mode": "markers",
         "name": "Dance",
         "orientation": "v",
         "showlegend": true,
         "type": "scatter",
         "x": [
          98
         ],
         "xaxis": "x",
         "y": [
          16.26
         ],
         "yaxis": "y"
        },
        {
         "customdata": [
          [
           4079.14
          ]
         ],
         "hovertemplate": "Category=Drinks<br>Reviews=%{x}<br>Cost=%{y}<br>Value_By_Review=%{customdata[0]}<extra></extra>",
         "legendgroup": "Drinks",
         "marker": {
          "color": "#FF6692",
          "size": [
           4079.14
          ],
          "sizemode": "area",
          "sizeref": 19.162525000000002,
          "symbol": "circle"
         },
         "mode": "markers",
         "name": "Drinks",
         "orientation": "v",
         "showlegend": true,
         "type": "scatter",
         "x": [
          189
         ],
         "xaxis": "x",
         "y": [
          21.52
         ],
         "yaxis": "y"
        },
        {
         "customdata": [
          [
           4309.28
          ]
         ],
         "hovertemplate": "Category=Entertainment<br>Reviews=%{x}<br>Cost=%{y}<br>Value_By_Review=%{customdata[0]}<extra></extra>",
         "legendgroup": "Entertainment",
         "marker": {
          "color": "#B6E880",
          "size": [
           4309.28
          ],
          "sizemode": "area",
          "sizeref": 19.162525000000002,
          "symbol": "circle"
         },
         "mode": "markers",
         "name": "Entertainment",
         "orientation": "v",
         "showlegend": true,
         "type": "scatter",
         "x": [
          192
         ],
         "xaxis": "x",
         "y": [
          22.39
         ],
         "yaxis": "y"
        },
        {
         "customdata": [
          [
           6822.83
          ]
         ],
         "hovertemplate": "Category=FamilyFriendly<br>Reviews=%{x}<br>Cost=%{y}<br>Value_By_Review=%{customdata[0]}<extra></extra>",
         "legendgroup": "FamilyFriendly",
         "marker": {
          "color": "#FF97FF",
          "size": [
           6822.83
          ],
          "sizemode": "area",
          "sizeref": 19.162525000000002,
          "symbol": "circle"
         },
         "mode": "markers",
         "name": "FamilyFriendly",
         "orientation": "v",
         "showlegend": true,
         "type": "scatter",
         "x": [
          318
         ],
         "xaxis": "x",
         "y": [
          21.39
         ],
         "yaxis": "y"
        },
        {
         "customdata": [
          [
           1229.61
          ]
         ],
         "hovertemplate": "Category=Fitness<br>Reviews=%{x}<br>Cost=%{y}<br>Value_By_Review=%{customdata[0]}<extra></extra>",
         "legendgroup": "Fitness",
         "marker": {
          "color": "#FECB52",
          "size": [
           1229.61
          ],
          "sizemode": "area",
          "sizeref": 19.162525000000002,
          "symbol": "circle"
         },
         "mode": "markers",
         "name": "Fitness",
         "orientation": "v",
         "showlegend": true,
         "type": "scatter",
         "x": [
          49
         ],
         "xaxis": "x",
         "y": [
          25.05
         ],
         "yaxis": "y"
        },
        {
         "customdata": [
          [
           7665.01
          ]
         ],
         "hovertemplate": "Category=Great4Groups<br>Reviews=%{x}<br>Cost=%{y}<br>Value_By_Review=%{customdata[0]}<extra></extra>",
         "legendgroup": "Great4Groups",
         "marker": {
          "color": "#636efa",
          "size": [
           7665.01
          ],
          "sizemode": "area",
          "sizeref": 19.162525000000002,
          "symbol": "circle"
         },
         "mode": "markers",
         "name": "Great4Groups",
         "orientation": "v",
         "showlegend": true,
         "type": "scatter",
         "x": [
          341
         ],
         "xaxis": "x",
         "y": [
          22.43
         ],
         "yaxis": "y"
        },
        {
         "customdata": [
          [
           2465.11
          ]
         ],
         "hovertemplate": "Category=History&Culture<br>Reviews=%{x}<br>Cost=%{y}<br>Value_By_Review=%{customdata[0]}<extra></extra>",
         "legendgroup": "History&Culture",
         "marker": {
          "color": "#EF553B",
          "size": [
           2465.11
          ],
          "sizemode": "area",
          "sizeref": 19.162525000000002,
          "symbol": "circle"
         },
         "mode": "markers",
         "name": "History&Culture",
         "orientation": "v",
         "showlegend": true,
         "type": "scatter",
         "x": [
          125
         ],
         "xaxis": "x",
         "y": [
          19.72
         ],
         "yaxis": "y"
        },
        {
         "customdata": [
          [
           5000.38
          ]
         ],
         "hovertemplate": "Category=Magic<br>Reviews=%{x}<br>Cost=%{y}<br>Value_By_Review=%{customdata[0]}<extra></extra>",
         "legendgroup": "Magic",
         "marker": {
          "color": "#00cc96",
          "size": [
           5000.38
          ],
          "sizemode": "area",
          "sizeref": 19.162525000000002,
          "symbol": "circle"
         },
         "mode": "markers",
         "name": "Magic",
         "orientation": "v",
         "showlegend": true,
         "type": "scatter",
         "x": [
          190
         ],
         "xaxis": "x",
         "y": [
          26.21
         ],
         "yaxis": "y"
        },
        {
         "customdata": [
          [
           4219.78
          ]
         ],
         "hovertemplate": "Category=Music<br>Reviews=%{x}<br>Cost=%{y}<br>Value_By_Review=%{customdata[0]}<extra></extra>",
         "legendgroup": "Music",
         "marker": {
          "color": "#ab63fa",
          "size": [
           4219.78
          ],
          "sizemode": "area",
          "sizeref": 19.162525000000002,
          "symbol": "circle"
         },
         "mode": "markers",
         "name": "Music",
         "orientation": "v",
         "showlegend": true,
         "type": "scatter",
         "x": [
          153
         ],
         "xaxis": "x",
         "y": [
          27.43
         ],
         "yaxis": "y"
        },
        {
         "customdata": [
          [
           1329.79
          ]
         ],
         "hovertemplate": "Category=Olympians&Paralympians<br>Reviews=%{x}<br>Cost=%{y}<br>Value_By_Review=%{customdata[0]}<extra></extra>",
         "legendgroup": "Olympians&Paralympians",
         "marker": {
          "color": "#FFA15A",
          "size": [
           1329.79
          ],
          "sizemode": "area",
          "sizeref": 19.162525000000002,
          "symbol": "circle"
         },
         "mode": "markers",
         "name": "Olympians&Paralympians",
         "orientation": "v",
         "showlegend": true,
         "type": "scatter",
         "x": [
          41
         ],
         "xaxis": "x",
         "y": [
          31.81
         ],
         "yaxis": "y"
        },
        {
         "customdata": [
          [
           2990.28
          ]
         ],
         "hovertemplate": "Category=Social&Impact<br>Reviews=%{x}<br>Cost=%{y}<br>Value_By_Review=%{customdata[0]}<extra></extra>",
         "legendgroup": "Social&Impact",
         "marker": {
          "color": "#19d3f3",
          "size": [
           2990.28
          ],
          "sizemode": "area",
          "sizeref": 19.162525000000002,
          "symbol": "circle"
         },
         "mode": "markers",
         "name": "Social&Impact",
         "orientation": "v",
         "showlegend": true,
         "type": "scatter",
         "x": [
          156
         ],
         "xaxis": "x",
         "y": [
          19.08
         ],
         "yaxis": "y"
        },
        {
         "customdata": [
          [
           3217.82
          ]
         ],
         "hovertemplate": "Category=Wellness<br>Reviews=%{x}<br>Cost=%{y}<br>Value_By_Review=%{customdata[0]}<extra></extra>",
         "legendgroup": "Wellness",
         "marker": {
          "color": "#FF6692",
          "size": [
           3217.82
          ],
          "sizemode": "area",
          "sizeref": 19.162525000000002,
          "symbol": "circle"
         },
         "mode": "markers",
         "name": "Wellness",
         "orientation": "v",
         "showlegend": true,
         "type": "scatter",
         "x": [
          91
         ],
         "xaxis": "x",
         "y": [
          35.16
         ],
         "yaxis": "y"
        }
       ],
       "layout": {
        "legend": {
         "itemsizing": "constant",
         "title": {
          "text": "Category"
         },
         "tracegroupgap": 0
        },
        "margin": {
         "t": 60
        },
        "template": {
         "data": {
          "bar": [
           {
            "error_x": {
             "color": "#2a3f5f"
            },
            "error_y": {
             "color": "#2a3f5f"
            },
            "marker": {
             "line": {
              "color": "#E5ECF6",
              "width": 0.5
             },
             "pattern": {
              "fillmode": "overlay",
              "size": 10,
              "solidity": 0.2
             }
            },
            "type": "bar"
           }
          ],
          "barpolar": [
           {
            "marker": {
             "line": {
              "color": "#E5ECF6",
              "width": 0.5
             },
             "pattern": {
              "fillmode": "overlay",
              "size": 10,
              "solidity": 0.2
             }
            },
            "type": "barpolar"
           }
          ],
          "carpet": [
           {
            "aaxis": {
             "endlinecolor": "#2a3f5f",
             "gridcolor": "white",
             "linecolor": "white",
             "minorgridcolor": "white",
             "startlinecolor": "#2a3f5f"
            },
            "baxis": {
             "endlinecolor": "#2a3f5f",
             "gridcolor": "white",
             "linecolor": "white",
             "minorgridcolor": "white",
             "startlinecolor": "#2a3f5f"
            },
            "type": "carpet"
           }
          ],
          "choropleth": [
           {
            "colorbar": {
             "outlinewidth": 0,
             "ticks": ""
            },
            "type": "choropleth"
           }
          ],
          "contour": [
           {
            "colorbar": {
             "outlinewidth": 0,
             "ticks": ""
            },
            "colorscale": [
             [
              0,
              "#0d0887"
             ],
             [
              0.1111111111111111,
              "#46039f"
             ],
             [
              0.2222222222222222,
              "#7201a8"
             ],
             [
              0.3333333333333333,
              "#9c179e"
             ],
             [
              0.4444444444444444,
              "#bd3786"
             ],
             [
              0.5555555555555556,
              "#d8576b"
             ],
             [
              0.6666666666666666,
              "#ed7953"
             ],
             [
              0.7777777777777778,
              "#fb9f3a"
             ],
             [
              0.8888888888888888,
              "#fdca26"
             ],
             [
              1,
              "#f0f921"
             ]
            ],
            "type": "contour"
           }
          ],
          "contourcarpet": [
           {
            "colorbar": {
             "outlinewidth": 0,
             "ticks": ""
            },
            "type": "contourcarpet"
           }
          ],
          "heatmap": [
           {
            "colorbar": {
             "outlinewidth": 0,
             "ticks": ""
            },
            "colorscale": [
             [
              0,
              "#0d0887"
             ],
             [
              0.1111111111111111,
              "#46039f"
             ],
             [
              0.2222222222222222,
              "#7201a8"
             ],
             [
              0.3333333333333333,
              "#9c179e"
             ],
             [
              0.4444444444444444,
              "#bd3786"
             ],
             [
              0.5555555555555556,
              "#d8576b"
             ],
             [
              0.6666666666666666,
              "#ed7953"
             ],
             [
              0.7777777777777778,
              "#fb9f3a"
             ],
             [
              0.8888888888888888,
              "#fdca26"
             ],
             [
              1,
              "#f0f921"
             ]
            ],
            "type": "heatmap"
           }
          ],
          "heatmapgl": [
           {
            "colorbar": {
             "outlinewidth": 0,
             "ticks": ""
            },
            "colorscale": [
             [
              0,
              "#0d0887"
             ],
             [
              0.1111111111111111,
              "#46039f"
             ],
             [
              0.2222222222222222,
              "#7201a8"
             ],
             [
              0.3333333333333333,
              "#9c179e"
             ],
             [
              0.4444444444444444,
              "#bd3786"
             ],
             [
              0.5555555555555556,
              "#d8576b"
             ],
             [
              0.6666666666666666,
              "#ed7953"
             ],
             [
              0.7777777777777778,
              "#fb9f3a"
             ],
             [
              0.8888888888888888,
              "#fdca26"
             ],
             [
              1,
              "#f0f921"
             ]
            ],
            "type": "heatmapgl"
           }
          ],
          "histogram": [
           {
            "marker": {
             "pattern": {
              "fillmode": "overlay",
              "size": 10,
              "solidity": 0.2
             }
            },
            "type": "histogram"
           }
          ],
          "histogram2d": [
           {
            "colorbar": {
             "outlinewidth": 0,
             "ticks": ""
            },
            "colorscale": [
             [
              0,
              "#0d0887"
             ],
             [
              0.1111111111111111,
              "#46039f"
             ],
             [
              0.2222222222222222,
              "#7201a8"
             ],
             [
              0.3333333333333333,
              "#9c179e"
             ],
             [
              0.4444444444444444,
              "#bd3786"
             ],
             [
              0.5555555555555556,
              "#d8576b"
             ],
             [
              0.6666666666666666,
              "#ed7953"
             ],
             [
              0.7777777777777778,
              "#fb9f3a"
             ],
             [
              0.8888888888888888,
              "#fdca26"
             ],
             [
              1,
              "#f0f921"
             ]
            ],
            "type": "histogram2d"
           }
          ],
          "histogram2dcontour": [
           {
            "colorbar": {
             "outlinewidth": 0,
             "ticks": ""
            },
            "colorscale": [
             [
              0,
              "#0d0887"
             ],
             [
              0.1111111111111111,
              "#46039f"
             ],
             [
              0.2222222222222222,
              "#7201a8"
             ],
             [
              0.3333333333333333,
              "#9c179e"
             ],
             [
              0.4444444444444444,
              "#bd3786"
             ],
             [
              0.5555555555555556,
              "#d8576b"
             ],
             [
              0.6666666666666666,
              "#ed7953"
             ],
             [
              0.7777777777777778,
              "#fb9f3a"
             ],
             [
              0.8888888888888888,
              "#fdca26"
             ],
             [
              1,
              "#f0f921"
             ]
            ],
            "type": "histogram2dcontour"
           }
          ],
          "mesh3d": [
           {
            "colorbar": {
             "outlinewidth": 0,
             "ticks": ""
            },
            "type": "mesh3d"
           }
          ],
          "parcoords": [
           {
            "line": {
             "colorbar": {
              "outlinewidth": 0,
              "ticks": ""
             }
            },
            "type": "parcoords"
           }
          ],
          "pie": [
           {
            "automargin": true,
            "type": "pie"
           }
          ],
          "scatter": [
           {
            "marker": {
             "colorbar": {
              "outlinewidth": 0,
              "ticks": ""
             }
            },
            "type": "scatter"
           }
          ],
          "scatter3d": [
           {
            "line": {
             "colorbar": {
              "outlinewidth": 0,
              "ticks": ""
             }
            },
            "marker": {
             "colorbar": {
              "outlinewidth": 0,
              "ticks": ""
             }
            },
            "type": "scatter3d"
           }
          ],
          "scattercarpet": [
           {
            "marker": {
             "colorbar": {
              "outlinewidth": 0,
              "ticks": ""
             }
            },
            "type": "scattercarpet"
           }
          ],
          "scattergeo": [
           {
            "marker": {
             "colorbar": {
              "outlinewidth": 0,
              "ticks": ""
             }
            },
            "type": "scattergeo"
           }
          ],
          "scattergl": [
           {
            "marker": {
             "colorbar": {
              "outlinewidth": 0,
              "ticks": ""
             }
            },
            "type": "scattergl"
           }
          ],
          "scattermapbox": [
           {
            "marker": {
             "colorbar": {
              "outlinewidth": 0,
              "ticks": ""
             }
            },
            "type": "scattermapbox"
           }
          ],
          "scatterpolar": [
           {
            "marker": {
             "colorbar": {
              "outlinewidth": 0,
              "ticks": ""
             }
            },
            "type": "scatterpolar"
           }
          ],
          "scatterpolargl": [
           {
            "marker": {
             "colorbar": {
              "outlinewidth": 0,
              "ticks": ""
             }
            },
            "type": "scatterpolargl"
           }
          ],
          "scatterternary": [
           {
            "marker": {
             "colorbar": {
              "outlinewidth": 0,
              "ticks": ""
             }
            },
            "type": "scatterternary"
           }
          ],
          "surface": [
           {
            "colorbar": {
             "outlinewidth": 0,
             "ticks": ""
            },
            "colorscale": [
             [
              0,
              "#0d0887"
             ],
             [
              0.1111111111111111,
              "#46039f"
             ],
             [
              0.2222222222222222,
              "#7201a8"
             ],
             [
              0.3333333333333333,
              "#9c179e"
             ],
             [
              0.4444444444444444,
              "#bd3786"
             ],
             [
              0.5555555555555556,
              "#d8576b"
             ],
             [
              0.6666666666666666,
              "#ed7953"
             ],
             [
              0.7777777777777778,
              "#fb9f3a"
             ],
             [
              0.8888888888888888,
              "#fdca26"
             ],
             [
              1,
              "#f0f921"
             ]
            ],
            "type": "surface"
           }
          ],
          "table": [
           {
            "cells": {
             "fill": {
              "color": "#EBF0F8"
             },
             "line": {
              "color": "white"
             }
            },
            "header": {
             "fill": {
              "color": "#C8D4E3"
             },
             "line": {
              "color": "white"
             }
            },
            "type": "table"
           }
          ]
         },
         "layout": {
          "annotationdefaults": {
           "arrowcolor": "#2a3f5f",
           "arrowhead": 0,
           "arrowwidth": 1
          },
          "autotypenumbers": "strict",
          "coloraxis": {
           "colorbar": {
            "outlinewidth": 0,
            "ticks": ""
           }
          },
          "colorscale": {
           "diverging": [
            [
             0,
             "#8e0152"
            ],
            [
             0.1,
             "#c51b7d"
            ],
            [
             0.2,
             "#de77ae"
            ],
            [
             0.3,
             "#f1b6da"
            ],
            [
             0.4,
             "#fde0ef"
            ],
            [
             0.5,
             "#f7f7f7"
            ],
            [
             0.6,
             "#e6f5d0"
            ],
            [
             0.7,
             "#b8e186"
            ],
            [
             0.8,
             "#7fbc41"
            ],
            [
             0.9,
             "#4d9221"
            ],
            [
             1,
             "#276419"
            ]
           ],
           "sequential": [
            [
             0,
             "#0d0887"
            ],
            [
             0.1111111111111111,
             "#46039f"
            ],
            [
             0.2222222222222222,
             "#7201a8"
            ],
            [
             0.3333333333333333,
             "#9c179e"
            ],
            [
             0.4444444444444444,
             "#bd3786"
            ],
            [
             0.5555555555555556,
             "#d8576b"
            ],
            [
             0.6666666666666666,
             "#ed7953"
            ],
            [
             0.7777777777777778,
             "#fb9f3a"
            ],
            [
             0.8888888888888888,
             "#fdca26"
            ],
            [
             1,
             "#f0f921"
            ]
           ],
           "sequentialminus": [
            [
             0,
             "#0d0887"
            ],
            [
             0.1111111111111111,
             "#46039f"
            ],
            [
             0.2222222222222222,
             "#7201a8"
            ],
            [
             0.3333333333333333,
             "#9c179e"
            ],
            [
             0.4444444444444444,
             "#bd3786"
            ],
            [
             0.5555555555555556,
             "#d8576b"
            ],
            [
             0.6666666666666666,
             "#ed7953"
            ],
            [
             0.7777777777777778,
             "#fb9f3a"
            ],
            [
             0.8888888888888888,
             "#fdca26"
            ],
            [
             1,
             "#f0f921"
            ]
           ]
          },
          "colorway": [
           "#636efa",
           "#EF553B",
           "#00cc96",
           "#ab63fa",
           "#FFA15A",
           "#19d3f3",
           "#FF6692",
           "#B6E880",
           "#FF97FF",
           "#FECB52"
          ],
          "font": {
           "color": "#2a3f5f"
          },
          "geo": {
           "bgcolor": "white",
           "lakecolor": "white",
           "landcolor": "#E5ECF6",
           "showlakes": true,
           "showland": true,
           "subunitcolor": "white"
          },
          "hoverlabel": {
           "align": "left"
          },
          "hovermode": "closest",
          "mapbox": {
           "style": "light"
          },
          "paper_bgcolor": "white",
          "plot_bgcolor": "#E5ECF6",
          "polar": {
           "angularaxis": {
            "gridcolor": "white",
            "linecolor": "white",
            "ticks": ""
           },
           "bgcolor": "#E5ECF6",
           "radialaxis": {
            "gridcolor": "white",
            "linecolor": "white",
            "ticks": ""
           }
          },
          "scene": {
           "xaxis": {
            "backgroundcolor": "#E5ECF6",
            "gridcolor": "white",
            "gridwidth": 2,
            "linecolor": "white",
            "showbackground": true,
            "ticks": "",
            "zerolinecolor": "white"
           },
           "yaxis": {
            "backgroundcolor": "#E5ECF6",
            "gridcolor": "white",
            "gridwidth": 2,
            "linecolor": "white",
            "showbackground": true,
            "ticks": "",
            "zerolinecolor": "white"
           },
           "zaxis": {
            "backgroundcolor": "#E5ECF6",
            "gridcolor": "white",
            "gridwidth": 2,
            "linecolor": "white",
            "showbackground": true,
            "ticks": "",
            "zerolinecolor": "white"
           }
          },
          "shapedefaults": {
           "line": {
            "color": "#2a3f5f"
           }
          },
          "ternary": {
           "aaxis": {
            "gridcolor": "white",
            "linecolor": "white",
            "ticks": ""
           },
           "baxis": {
            "gridcolor": "white",
            "linecolor": "white",
            "ticks": ""
           },
           "bgcolor": "#E5ECF6",
           "caxis": {
            "gridcolor": "white",
            "linecolor": "white",
            "ticks": ""
           }
          },
          "title": {
           "x": 0.05
          },
          "xaxis": {
           "automargin": true,
           "gridcolor": "white",
           "linecolor": "white",
           "ticks": "",
           "title": {
            "standoff": 15
           },
           "zerolinecolor": "white",
           "zerolinewidth": 2
          },
          "yaxis": {
           "automargin": true,
           "gridcolor": "white",
           "linecolor": "white",
           "ticks": "",
           "title": {
            "standoff": 15
           },
           "zerolinecolor": "white",
           "zerolinewidth": 2
          }
         }
        },
        "xaxis": {
         "anchor": "y",
         "domain": [
          0,
          1
         ],
         "title": {
          "text": "Reviews"
         }
        },
        "yaxis": {
         "anchor": "x",
         "domain": [
          0,
          1
         ],
         "title": {
          "text": "Cost"
         }
        }
       }
      },
      "text/html": [
       "<div>                            <div id=\"114b7bc0-1e93-4856-81dc-e0bf63a30e57\" class=\"plotly-graph-div\" style=\"height:525px; width:100%;\"></div>            <script type=\"text/javascript\">                require([\"plotly\"], function(Plotly) {                    window.PLOTLYENV=window.PLOTLYENV || {};                                    if (document.getElementById(\"114b7bc0-1e93-4856-81dc-e0bf63a30e57\")) {                    Plotly.newPlot(                        \"114b7bc0-1e93-4856-81dc-e0bf63a30e57\",                        [{\"customdata\":[[2992.0]],\"hovertemplate\":\"Category=Accessibility<br>Reviews=%{x}<br>Cost=%{y}<br>Value_By_Review=%{customdata[0]}<extra></extra>\",\"legendgroup\":\"Accessibility\",\"marker\":{\"color\":\"#636efa\",\"size\":[2992.0],\"sizemode\":\"area\",\"sizeref\":19.162525000000002,\"symbol\":\"circle\"},\"mode\":\"markers\",\"name\":\"Accessibility\",\"orientation\":\"v\",\"showlegend\":true,\"type\":\"scatter\",\"x\":[66],\"xaxis\":\"x\",\"y\":[45.33],\"yaxis\":\"y\"},{\"customdata\":[[4804.79]],\"hovertemplate\":\"Category=Animals<br>Reviews=%{x}<br>Cost=%{y}<br>Value_By_Review=%{customdata[0]}<extra></extra>\",\"legendgroup\":\"Animals\",\"marker\":{\"color\":\"#EF553B\",\"size\":[4804.79],\"sizemode\":\"area\",\"sizeref\":19.162525000000002,\"symbol\":\"circle\"},\"mode\":\"markers\",\"name\":\"Animals\",\"orientation\":\"v\",\"showlegend\":true,\"type\":\"scatter\",\"x\":[212],\"xaxis\":\"x\",\"y\":[22.64],\"yaxis\":\"y\"},{\"customdata\":[[2531.16]],\"hovertemplate\":\"Category=Art&Writing<br>Reviews=%{x}<br>Cost=%{y}<br>Value_By_Review=%{customdata[0]}<extra></extra>\",\"legendgroup\":\"Art&Writing\",\"marker\":{\"color\":\"#00cc96\",\"size\":[2531.16],\"sizemode\":\"area\",\"sizeref\":19.162525000000002,\"symbol\":\"circle\"},\"mode\":\"markers\",\"name\":\"Art&Writing\",\"orientation\":\"v\",\"showlegend\":true,\"type\":\"scatter\",\"x\":[115],\"xaxis\":\"x\",\"y\":[22.01],\"yaxis\":\"y\"},{\"customdata\":[[2507.38]],\"hovertemplate\":\"Category=Baking<br>Reviews=%{x}<br>Cost=%{y}<br>Value_By_Review=%{customdata[0]}<extra></extra>\",\"legendgroup\":\"Baking\",\"marker\":{\"color\":\"#ab63fa\",\"size\":[2507.38],\"sizemode\":\"area\",\"sizeref\":19.162525000000002,\"symbol\":\"circle\"},\"mode\":\"markers\",\"name\":\"Baking\",\"orientation\":\"v\",\"showlegend\":true,\"type\":\"scatter\",\"x\":[102],\"xaxis\":\"x\",\"y\":[24.44],\"yaxis\":\"y\"},{\"customdata\":[[5032.6]],\"hovertemplate\":\"Category=Cooking<br>Reviews=%{x}<br>Cost=%{y}<br>Value_By_Review=%{customdata[0]}<extra></extra>\",\"legendgroup\":\"Cooking\",\"marker\":{\"color\":\"#FFA15A\",\"size\":[5032.6],\"sizemode\":\"area\",\"sizeref\":19.162525000000002,\"symbol\":\"circle\"},\"mode\":\"markers\",\"name\":\"Cooking\",\"orientation\":\"v\",\"showlegend\":true,\"type\":\"scatter\",\"x\":[221],\"xaxis\":\"x\",\"y\":[22.76],\"yaxis\":\"y\"},{\"customdata\":[[1605.06]],\"hovertemplate\":\"Category=Dance<br>Reviews=%{x}<br>Cost=%{y}<br>Value_By_Review=%{customdata[0]}<extra></extra>\",\"legendgroup\":\"Dance\",\"marker\":{\"color\":\"#19d3f3\",\"size\":[1605.06],\"sizemode\":\"area\",\"sizeref\":19.162525000000002,\"symbol\":\"circle\"},\"mode\":\"markers\",\"name\":\"Dance\",\"orientation\":\"v\",\"showlegend\":true,\"type\":\"scatter\",\"x\":[98],\"xaxis\":\"x\",\"y\":[16.26],\"yaxis\":\"y\"},{\"customdata\":[[4079.14]],\"hovertemplate\":\"Category=Drinks<br>Reviews=%{x}<br>Cost=%{y}<br>Value_By_Review=%{customdata[0]}<extra></extra>\",\"legendgroup\":\"Drinks\",\"marker\":{\"color\":\"#FF6692\",\"size\":[4079.14],\"sizemode\":\"area\",\"sizeref\":19.162525000000002,\"symbol\":\"circle\"},\"mode\":\"markers\",\"name\":\"Drinks\",\"orientation\":\"v\",\"showlegend\":true,\"type\":\"scatter\",\"x\":[189],\"xaxis\":\"x\",\"y\":[21.52],\"yaxis\":\"y\"},{\"customdata\":[[4309.28]],\"hovertemplate\":\"Category=Entertainment<br>Reviews=%{x}<br>Cost=%{y}<br>Value_By_Review=%{customdata[0]}<extra></extra>\",\"legendgroup\":\"Entertainment\",\"marker\":{\"color\":\"#B6E880\",\"size\":[4309.28],\"sizemode\":\"area\",\"sizeref\":19.162525000000002,\"symbol\":\"circle\"},\"mode\":\"markers\",\"name\":\"Entertainment\",\"orientation\":\"v\",\"showlegend\":true,\"type\":\"scatter\",\"x\":[192],\"xaxis\":\"x\",\"y\":[22.39],\"yaxis\":\"y\"},{\"customdata\":[[6822.83]],\"hovertemplate\":\"Category=FamilyFriendly<br>Reviews=%{x}<br>Cost=%{y}<br>Value_By_Review=%{customdata[0]}<extra></extra>\",\"legendgroup\":\"FamilyFriendly\",\"marker\":{\"color\":\"#FF97FF\",\"size\":[6822.83],\"sizemode\":\"area\",\"sizeref\":19.162525000000002,\"symbol\":\"circle\"},\"mode\":\"markers\",\"name\":\"FamilyFriendly\",\"orientation\":\"v\",\"showlegend\":true,\"type\":\"scatter\",\"x\":[318],\"xaxis\":\"x\",\"y\":[21.39],\"yaxis\":\"y\"},{\"customdata\":[[1229.61]],\"hovertemplate\":\"Category=Fitness<br>Reviews=%{x}<br>Cost=%{y}<br>Value_By_Review=%{customdata[0]}<extra></extra>\",\"legendgroup\":\"Fitness\",\"marker\":{\"color\":\"#FECB52\",\"size\":[1229.61],\"sizemode\":\"area\",\"sizeref\":19.162525000000002,\"symbol\":\"circle\"},\"mode\":\"markers\",\"name\":\"Fitness\",\"orientation\":\"v\",\"showlegend\":true,\"type\":\"scatter\",\"x\":[49],\"xaxis\":\"x\",\"y\":[25.05],\"yaxis\":\"y\"},{\"customdata\":[[7665.01]],\"hovertemplate\":\"Category=Great4Groups<br>Reviews=%{x}<br>Cost=%{y}<br>Value_By_Review=%{customdata[0]}<extra></extra>\",\"legendgroup\":\"Great4Groups\",\"marker\":{\"color\":\"#636efa\",\"size\":[7665.01],\"sizemode\":\"area\",\"sizeref\":19.162525000000002,\"symbol\":\"circle\"},\"mode\":\"markers\",\"name\":\"Great4Groups\",\"orientation\":\"v\",\"showlegend\":true,\"type\":\"scatter\",\"x\":[341],\"xaxis\":\"x\",\"y\":[22.43],\"yaxis\":\"y\"},{\"customdata\":[[2465.11]],\"hovertemplate\":\"Category=History&Culture<br>Reviews=%{x}<br>Cost=%{y}<br>Value_By_Review=%{customdata[0]}<extra></extra>\",\"legendgroup\":\"History&Culture\",\"marker\":{\"color\":\"#EF553B\",\"size\":[2465.11],\"sizemode\":\"area\",\"sizeref\":19.162525000000002,\"symbol\":\"circle\"},\"mode\":\"markers\",\"name\":\"History&Culture\",\"orientation\":\"v\",\"showlegend\":true,\"type\":\"scatter\",\"x\":[125],\"xaxis\":\"x\",\"y\":[19.72],\"yaxis\":\"y\"},{\"customdata\":[[5000.38]],\"hovertemplate\":\"Category=Magic<br>Reviews=%{x}<br>Cost=%{y}<br>Value_By_Review=%{customdata[0]}<extra></extra>\",\"legendgroup\":\"Magic\",\"marker\":{\"color\":\"#00cc96\",\"size\":[5000.38],\"sizemode\":\"area\",\"sizeref\":19.162525000000002,\"symbol\":\"circle\"},\"mode\":\"markers\",\"name\":\"Magic\",\"orientation\":\"v\",\"showlegend\":true,\"type\":\"scatter\",\"x\":[190],\"xaxis\":\"x\",\"y\":[26.21],\"yaxis\":\"y\"},{\"customdata\":[[4219.78]],\"hovertemplate\":\"Category=Music<br>Reviews=%{x}<br>Cost=%{y}<br>Value_By_Review=%{customdata[0]}<extra></extra>\",\"legendgroup\":\"Music\",\"marker\":{\"color\":\"#ab63fa\",\"size\":[4219.78],\"sizemode\":\"area\",\"sizeref\":19.162525000000002,\"symbol\":\"circle\"},\"mode\":\"markers\",\"name\":\"Music\",\"orientation\":\"v\",\"showlegend\":true,\"type\":\"scatter\",\"x\":[153],\"xaxis\":\"x\",\"y\":[27.43],\"yaxis\":\"y\"},{\"customdata\":[[1329.79]],\"hovertemplate\":\"Category=Olympians&Paralympians<br>Reviews=%{x}<br>Cost=%{y}<br>Value_By_Review=%{customdata[0]}<extra></extra>\",\"legendgroup\":\"Olympians&Paralympians\",\"marker\":{\"color\":\"#FFA15A\",\"size\":[1329.79],\"sizemode\":\"area\",\"sizeref\":19.162525000000002,\"symbol\":\"circle\"},\"mode\":\"markers\",\"name\":\"Olympians&Paralympians\",\"orientation\":\"v\",\"showlegend\":true,\"type\":\"scatter\",\"x\":[41],\"xaxis\":\"x\",\"y\":[31.81],\"yaxis\":\"y\"},{\"customdata\":[[2990.28]],\"hovertemplate\":\"Category=Social&Impact<br>Reviews=%{x}<br>Cost=%{y}<br>Value_By_Review=%{customdata[0]}<extra></extra>\",\"legendgroup\":\"Social&Impact\",\"marker\":{\"color\":\"#19d3f3\",\"size\":[2990.28],\"sizemode\":\"area\",\"sizeref\":19.162525000000002,\"symbol\":\"circle\"},\"mode\":\"markers\",\"name\":\"Social&Impact\",\"orientation\":\"v\",\"showlegend\":true,\"type\":\"scatter\",\"x\":[156],\"xaxis\":\"x\",\"y\":[19.08],\"yaxis\":\"y\"},{\"customdata\":[[3217.82]],\"hovertemplate\":\"Category=Wellness<br>Reviews=%{x}<br>Cost=%{y}<br>Value_By_Review=%{customdata[0]}<extra></extra>\",\"legendgroup\":\"Wellness\",\"marker\":{\"color\":\"#FF6692\",\"size\":[3217.82],\"sizemode\":\"area\",\"sizeref\":19.162525000000002,\"symbol\":\"circle\"},\"mode\":\"markers\",\"name\":\"Wellness\",\"orientation\":\"v\",\"showlegend\":true,\"type\":\"scatter\",\"x\":[91],\"xaxis\":\"x\",\"y\":[35.16],\"yaxis\":\"y\"}],                        {\"legend\":{\"itemsizing\":\"constant\",\"title\":{\"text\":\"Category\"},\"tracegroupgap\":0},\"margin\":{\"t\":60},\"template\":{\"data\":{\"bar\":[{\"error_x\":{\"color\":\"#2a3f5f\"},\"error_y\":{\"color\":\"#2a3f5f\"},\"marker\":{\"line\":{\"color\":\"#E5ECF6\",\"width\":0.5},\"pattern\":{\"fillmode\":\"overlay\",\"size\":10,\"solidity\":0.2}},\"type\":\"bar\"}],\"barpolar\":[{\"marker\":{\"line\":{\"color\":\"#E5ECF6\",\"width\":0.5},\"pattern\":{\"fillmode\":\"overlay\",\"size\":10,\"solidity\":0.2}},\"type\":\"barpolar\"}],\"carpet\":[{\"aaxis\":{\"endlinecolor\":\"#2a3f5f\",\"gridcolor\":\"white\",\"linecolor\":\"white\",\"minorgridcolor\":\"white\",\"startlinecolor\":\"#2a3f5f\"},\"baxis\":{\"endlinecolor\":\"#2a3f5f\",\"gridcolor\":\"white\",\"linecolor\":\"white\",\"minorgridcolor\":\"white\",\"startlinecolor\":\"#2a3f5f\"},\"type\":\"carpet\"}],\"choropleth\":[{\"colorbar\":{\"outlinewidth\":0,\"ticks\":\"\"},\"type\":\"choropleth\"}],\"contour\":[{\"colorbar\":{\"outlinewidth\":0,\"ticks\":\"\"},\"colorscale\":[[0.0,\"#0d0887\"],[0.1111111111111111,\"#46039f\"],[0.2222222222222222,\"#7201a8\"],[0.3333333333333333,\"#9c179e\"],[0.4444444444444444,\"#bd3786\"],[0.5555555555555556,\"#d8576b\"],[0.6666666666666666,\"#ed7953\"],[0.7777777777777778,\"#fb9f3a\"],[0.8888888888888888,\"#fdca26\"],[1.0,\"#f0f921\"]],\"type\":\"contour\"}],\"contourcarpet\":[{\"colorbar\":{\"outlinewidth\":0,\"ticks\":\"\"},\"type\":\"contourcarpet\"}],\"heatmap\":[{\"colorbar\":{\"outlinewidth\":0,\"ticks\":\"\"},\"colorscale\":[[0.0,\"#0d0887\"],[0.1111111111111111,\"#46039f\"],[0.2222222222222222,\"#7201a8\"],[0.3333333333333333,\"#9c179e\"],[0.4444444444444444,\"#bd3786\"],[0.5555555555555556,\"#d8576b\"],[0.6666666666666666,\"#ed7953\"],[0.7777777777777778,\"#fb9f3a\"],[0.8888888888888888,\"#fdca26\"],[1.0,\"#f0f921\"]],\"type\":\"heatmap\"}],\"heatmapgl\":[{\"colorbar\":{\"outlinewidth\":0,\"ticks\":\"\"},\"colorscale\":[[0.0,\"#0d0887\"],[0.1111111111111111,\"#46039f\"],[0.2222222222222222,\"#7201a8\"],[0.3333333333333333,\"#9c179e\"],[0.4444444444444444,\"#bd3786\"],[0.5555555555555556,\"#d8576b\"],[0.6666666666666666,\"#ed7953\"],[0.7777777777777778,\"#fb9f3a\"],[0.8888888888888888,\"#fdca26\"],[1.0,\"#f0f921\"]],\"type\":\"heatmapgl\"}],\"histogram\":[{\"marker\":{\"pattern\":{\"fillmode\":\"overlay\",\"size\":10,\"solidity\":0.2}},\"type\":\"histogram\"}],\"histogram2d\":[{\"colorbar\":{\"outlinewidth\":0,\"ticks\":\"\"},\"colorscale\":[[0.0,\"#0d0887\"],[0.1111111111111111,\"#46039f\"],[0.2222222222222222,\"#7201a8\"],[0.3333333333333333,\"#9c179e\"],[0.4444444444444444,\"#bd3786\"],[0.5555555555555556,\"#d8576b\"],[0.6666666666666666,\"#ed7953\"],[0.7777777777777778,\"#fb9f3a\"],[0.8888888888888888,\"#fdca26\"],[1.0,\"#f0f921\"]],\"type\":\"histogram2d\"}],\"histogram2dcontour\":[{\"colorbar\":{\"outlinewidth\":0,\"ticks\":\"\"},\"colorscale\":[[0.0,\"#0d0887\"],[0.1111111111111111,\"#46039f\"],[0.2222222222222222,\"#7201a8\"],[0.3333333333333333,\"#9c179e\"],[0.4444444444444444,\"#bd3786\"],[0.5555555555555556,\"#d8576b\"],[0.6666666666666666,\"#ed7953\"],[0.7777777777777778,\"#fb9f3a\"],[0.8888888888888888,\"#fdca26\"],[1.0,\"#f0f921\"]],\"type\":\"histogram2dcontour\"}],\"mesh3d\":[{\"colorbar\":{\"outlinewidth\":0,\"ticks\":\"\"},\"type\":\"mesh3d\"}],\"parcoords\":[{\"line\":{\"colorbar\":{\"outlinewidth\":0,\"ticks\":\"\"}},\"type\":\"parcoords\"}],\"pie\":[{\"automargin\":true,\"type\":\"pie\"}],\"scatter\":[{\"marker\":{\"colorbar\":{\"outlinewidth\":0,\"ticks\":\"\"}},\"type\":\"scatter\"}],\"scatter3d\":[{\"line\":{\"colorbar\":{\"outlinewidth\":0,\"ticks\":\"\"}},\"marker\":{\"colorbar\":{\"outlinewidth\":0,\"ticks\":\"\"}},\"type\":\"scatter3d\"}],\"scattercarpet\":[{\"marker\":{\"colorbar\":{\"outlinewidth\":0,\"ticks\":\"\"}},\"type\":\"scattercarpet\"}],\"scattergeo\":[{\"marker\":{\"colorbar\":{\"outlinewidth\":0,\"ticks\":\"\"}},\"type\":\"scattergeo\"}],\"scattergl\":[{\"marker\":{\"colorbar\":{\"outlinewidth\":0,\"ticks\":\"\"}},\"type\":\"scattergl\"}],\"scattermapbox\":[{\"marker\":{\"colorbar\":{\"outlinewidth\":0,\"ticks\":\"\"}},\"type\":\"scattermapbox\"}],\"scatterpolar\":[{\"marker\":{\"colorbar\":{\"outlinewidth\":0,\"ticks\":\"\"}},\"type\":\"scatterpolar\"}],\"scatterpolargl\":[{\"marker\":{\"colorbar\":{\"outlinewidth\":0,\"ticks\":\"\"}},\"type\":\"scatterpolargl\"}],\"scatterternary\":[{\"marker\":{\"colorbar\":{\"outlinewidth\":0,\"ticks\":\"\"}},\"type\":\"scatterternary\"}],\"surface\":[{\"colorbar\":{\"outlinewidth\":0,\"ticks\":\"\"},\"colorscale\":[[0.0,\"#0d0887\"],[0.1111111111111111,\"#46039f\"],[0.2222222222222222,\"#7201a8\"],[0.3333333333333333,\"#9c179e\"],[0.4444444444444444,\"#bd3786\"],[0.5555555555555556,\"#d8576b\"],[0.6666666666666666,\"#ed7953\"],[0.7777777777777778,\"#fb9f3a\"],[0.8888888888888888,\"#fdca26\"],[1.0,\"#f0f921\"]],\"type\":\"surface\"}],\"table\":[{\"cells\":{\"fill\":{\"color\":\"#EBF0F8\"},\"line\":{\"color\":\"white\"}},\"header\":{\"fill\":{\"color\":\"#C8D4E3\"},\"line\":{\"color\":\"white\"}},\"type\":\"table\"}]},\"layout\":{\"annotationdefaults\":{\"arrowcolor\":\"#2a3f5f\",\"arrowhead\":0,\"arrowwidth\":1},\"autotypenumbers\":\"strict\",\"coloraxis\":{\"colorbar\":{\"outlinewidth\":0,\"ticks\":\"\"}},\"colorscale\":{\"diverging\":[[0,\"#8e0152\"],[0.1,\"#c51b7d\"],[0.2,\"#de77ae\"],[0.3,\"#f1b6da\"],[0.4,\"#fde0ef\"],[0.5,\"#f7f7f7\"],[0.6,\"#e6f5d0\"],[0.7,\"#b8e186\"],[0.8,\"#7fbc41\"],[0.9,\"#4d9221\"],[1,\"#276419\"]],\"sequential\":[[0.0,\"#0d0887\"],[0.1111111111111111,\"#46039f\"],[0.2222222222222222,\"#7201a8\"],[0.3333333333333333,\"#9c179e\"],[0.4444444444444444,\"#bd3786\"],[0.5555555555555556,\"#d8576b\"],[0.6666666666666666,\"#ed7953\"],[0.7777777777777778,\"#fb9f3a\"],[0.8888888888888888,\"#fdca26\"],[1.0,\"#f0f921\"]],\"sequentialminus\":[[0.0,\"#0d0887\"],[0.1111111111111111,\"#46039f\"],[0.2222222222222222,\"#7201a8\"],[0.3333333333333333,\"#9c179e\"],[0.4444444444444444,\"#bd3786\"],[0.5555555555555556,\"#d8576b\"],[0.6666666666666666,\"#ed7953\"],[0.7777777777777778,\"#fb9f3a\"],[0.8888888888888888,\"#fdca26\"],[1.0,\"#f0f921\"]]},\"colorway\":[\"#636efa\",\"#EF553B\",\"#00cc96\",\"#ab63fa\",\"#FFA15A\",\"#19d3f3\",\"#FF6692\",\"#B6E880\",\"#FF97FF\",\"#FECB52\"],\"font\":{\"color\":\"#2a3f5f\"},\"geo\":{\"bgcolor\":\"white\",\"lakecolor\":\"white\",\"landcolor\":\"#E5ECF6\",\"showlakes\":true,\"showland\":true,\"subunitcolor\":\"white\"},\"hoverlabel\":{\"align\":\"left\"},\"hovermode\":\"closest\",\"mapbox\":{\"style\":\"light\"},\"paper_bgcolor\":\"white\",\"plot_bgcolor\":\"#E5ECF6\",\"polar\":{\"angularaxis\":{\"gridcolor\":\"white\",\"linecolor\":\"white\",\"ticks\":\"\"},\"bgcolor\":\"#E5ECF6\",\"radialaxis\":{\"gridcolor\":\"white\",\"linecolor\":\"white\",\"ticks\":\"\"}},\"scene\":{\"xaxis\":{\"backgroundcolor\":\"#E5ECF6\",\"gridcolor\":\"white\",\"gridwidth\":2,\"linecolor\":\"white\",\"showbackground\":true,\"ticks\":\"\",\"zerolinecolor\":\"white\"},\"yaxis\":{\"backgroundcolor\":\"#E5ECF6\",\"gridcolor\":\"white\",\"gridwidth\":2,\"linecolor\":\"white\",\"showbackground\":true,\"ticks\":\"\",\"zerolinecolor\":\"white\"},\"zaxis\":{\"backgroundcolor\":\"#E5ECF6\",\"gridcolor\":\"white\",\"gridwidth\":2,\"linecolor\":\"white\",\"showbackground\":true,\"ticks\":\"\",\"zerolinecolor\":\"white\"}},\"shapedefaults\":{\"line\":{\"color\":\"#2a3f5f\"}},\"ternary\":{\"aaxis\":{\"gridcolor\":\"white\",\"linecolor\":\"white\",\"ticks\":\"\"},\"baxis\":{\"gridcolor\":\"white\",\"linecolor\":\"white\",\"ticks\":\"\"},\"bgcolor\":\"#E5ECF6\",\"caxis\":{\"gridcolor\":\"white\",\"linecolor\":\"white\",\"ticks\":\"\"}},\"title\":{\"x\":0.05},\"xaxis\":{\"automargin\":true,\"gridcolor\":\"white\",\"linecolor\":\"white\",\"ticks\":\"\",\"title\":{\"standoff\":15},\"zerolinecolor\":\"white\",\"zerolinewidth\":2},\"yaxis\":{\"automargin\":true,\"gridcolor\":\"white\",\"linecolor\":\"white\",\"ticks\":\"\",\"title\":{\"standoff\":15},\"zerolinecolor\":\"white\",\"zerolinewidth\":2}}},\"xaxis\":{\"anchor\":\"y\",\"domain\":[0.0,1.0],\"title\":{\"text\":\"Reviews\"}},\"yaxis\":{\"anchor\":\"x\",\"domain\":[0.0,1.0],\"title\":{\"text\":\"Cost\"}}},                        {\"responsive\": true}                    ).then(function(){\n",
       "                            \n",
       "var gd = document.getElementById('114b7bc0-1e93-4856-81dc-e0bf63a30e57');\n",
       "var x = new MutationObserver(function (mutations, observer) {{\n",
       "        var display = window.getComputedStyle(gd).display;\n",
       "        if (!display || display === 'none') {{\n",
       "            console.log([gd, 'removed!']);\n",
       "            Plotly.purge(gd);\n",
       "            observer.disconnect();\n",
       "        }}\n",
       "}});\n",
       "\n",
       "// Listen for the removal of the full notebook cells\n",
       "var notebookContainer = gd.closest('#notebook-container');\n",
       "if (notebookContainer) {{\n",
       "    x.observe(notebookContainer, {childList: true});\n",
       "}}\n",
       "\n",
       "// Listen for the clearing of the current output cell\n",
       "var outputEl = gd.closest('.output');\n",
       "if (outputEl) {{\n",
       "    x.observe(outputEl, {childList: true});\n",
       "}}\n",
       "\n",
       "                        })                };                });            </script>        </div>"
      ]
     },
     "metadata": {},
     "output_type": "display_data"
    }
   ],
   "source": [
    "x = categories['Reviews']\n",
    "y = categories['Cost']\n",
    "colors = categories['Category']\n",
    "size = categories['Value_By_Review']\n",
    "\n",
    "fig_3 = px.scatter(categories, x=x, y=y, color=colors,\n",
    "                 size=size, hover_data=['Value_By_Review'])\n",
    "fig_3.show()"
   ]
  },
  {
   "cell_type": "code",
   "execution_count": 77,
   "id": "6c771a65",
   "metadata": {},
   "outputs": [
    {
     "data": {
      "text/html": [
       "<div>\n",
       "<style scoped>\n",
       "    .dataframe tbody tr th:only-of-type {\n",
       "        vertical-align: middle;\n",
       "    }\n",
       "\n",
       "    .dataframe tbody tr th {\n",
       "        vertical-align: top;\n",
       "    }\n",
       "\n",
       "    .dataframe thead th {\n",
       "        text-align: right;\n",
       "    }\n",
       "</style>\n",
       "<table border=\"1\" class=\"dataframe\">\n",
       "  <thead>\n",
       "    <tr style=\"text-align: right;\">\n",
       "      <th></th>\n",
       "      <th>Category</th>\n",
       "      <th>Reviews</th>\n",
       "      <th>Duration</th>\n",
       "      <th>Cost</th>\n",
       "      <th>Value_By_Duration</th>\n",
       "    </tr>\n",
       "  </thead>\n",
       "  <tbody>\n",
       "    <tr>\n",
       "      <th>14</th>\n",
       "      <td>Olympians&amp;Paralympians</td>\n",
       "      <td>41</td>\n",
       "      <td>63.88</td>\n",
       "      <td>31.81</td>\n",
       "      <td>20.82</td>\n",
       "    </tr>\n",
       "    <tr>\n",
       "      <th>9</th>\n",
       "      <td>Fitness</td>\n",
       "      <td>49</td>\n",
       "      <td>58.64</td>\n",
       "      <td>25.05</td>\n",
       "      <td>20.97</td>\n",
       "    </tr>\n",
       "    <tr>\n",
       "      <th>5</th>\n",
       "      <td>Dance</td>\n",
       "      <td>98</td>\n",
       "      <td>62.42</td>\n",
       "      <td>16.26</td>\n",
       "      <td>25.71</td>\n",
       "    </tr>\n",
       "    <tr>\n",
       "      <th>3</th>\n",
       "      <td>Baking</td>\n",
       "      <td>102</td>\n",
       "      <td>75.35</td>\n",
       "      <td>24.44</td>\n",
       "      <td>33.28</td>\n",
       "    </tr>\n",
       "    <tr>\n",
       "      <th>2</th>\n",
       "      <td>Art&amp;Writing</td>\n",
       "      <td>115</td>\n",
       "      <td>70.03</td>\n",
       "      <td>22.01</td>\n",
       "      <td>36.15</td>\n",
       "    </tr>\n",
       "  </tbody>\n",
       "</table>\n",
       "</div>"
      ],
      "text/plain": [
       "                  Category  Reviews  Duration   Cost  Value_By_Duration\n",
       "14  Olympians&Paralympians       41     63.88  31.81              20.82\n",
       "9                  Fitness       49     58.64  25.05              20.97\n",
       "5                    Dance       98     62.42  16.26              25.71\n",
       "3                   Baking      102     75.35  24.44              33.28\n",
       "2              Art&Writing      115     70.03  22.01              36.15"
      ]
     },
     "execution_count": 77,
     "metadata": {},
     "output_type": "execute_result"
    }
   ],
   "source": [
    "bottom_5_categories_by_duration = categories.sort_values \\\n",
    "(by=['Value_By_Duration'])[['Category','Reviews','Duration','Cost','Value_By_Duration']].head(5)\n",
    "\n",
    "bottom_5_categories_by_duration"
   ]
  },
  {
   "cell_type": "code",
   "execution_count": 78,
   "id": "c3de786a",
   "metadata": {},
   "outputs": [
    {
     "data": {
      "text/html": [
       "<div>\n",
       "<style scoped>\n",
       "    .dataframe tbody tr th:only-of-type {\n",
       "        vertical-align: middle;\n",
       "    }\n",
       "\n",
       "    .dataframe tbody tr th {\n",
       "        vertical-align: top;\n",
       "    }\n",
       "\n",
       "    .dataframe thead th {\n",
       "        text-align: right;\n",
       "    }\n",
       "</style>\n",
       "<table border=\"1\" class=\"dataframe\">\n",
       "  <thead>\n",
       "    <tr style=\"text-align: right;\">\n",
       "      <th></th>\n",
       "      <th>Category</th>\n",
       "      <th>Reviews</th>\n",
       "      <th>Duration</th>\n",
       "      <th>Cost</th>\n",
       "      <th>Value_By_Duration</th>\n",
       "    </tr>\n",
       "  </thead>\n",
       "  <tbody>\n",
       "    <tr>\n",
       "      <th>10</th>\n",
       "      <td>Great4Groups</td>\n",
       "      <td>341</td>\n",
       "      <td>72.07</td>\n",
       "      <td>22.43</td>\n",
       "      <td>106.36</td>\n",
       "    </tr>\n",
       "    <tr>\n",
       "      <th>8</th>\n",
       "      <td>FamilyFriendly</td>\n",
       "      <td>318</td>\n",
       "      <td>69.82</td>\n",
       "      <td>21.39</td>\n",
       "      <td>97.72</td>\n",
       "    </tr>\n",
       "    <tr>\n",
       "      <th>12</th>\n",
       "      <td>Magic</td>\n",
       "      <td>190</td>\n",
       "      <td>60.00</td>\n",
       "      <td>26.21</td>\n",
       "      <td>83.34</td>\n",
       "    </tr>\n",
       "    <tr>\n",
       "      <th>1</th>\n",
       "      <td>Animals</td>\n",
       "      <td>212</td>\n",
       "      <td>66.15</td>\n",
       "      <td>22.64</td>\n",
       "      <td>72.63</td>\n",
       "    </tr>\n",
       "    <tr>\n",
       "      <th>7</th>\n",
       "      <td>Entertainment</td>\n",
       "      <td>192</td>\n",
       "      <td>62.97</td>\n",
       "      <td>22.39</td>\n",
       "      <td>68.44</td>\n",
       "    </tr>\n",
       "  </tbody>\n",
       "</table>\n",
       "</div>"
      ],
      "text/plain": [
       "          Category  Reviews  Duration   Cost  Value_By_Duration\n",
       "10    Great4Groups      341     72.07  22.43             106.36\n",
       "8   FamilyFriendly      318     69.82  21.39              97.72\n",
       "12           Magic      190     60.00  26.21              83.34\n",
       "1          Animals      212     66.15  22.64              72.63\n",
       "7    Entertainment      192     62.97  22.39              68.44"
      ]
     },
     "execution_count": 78,
     "metadata": {},
     "output_type": "execute_result"
    }
   ],
   "source": [
    "top_5_categories_by_duration = categories.sort_values \\\n",
    "(by=['Value_By_Duration'],ascending=False)[['Category','Reviews','Duration','Cost','Value_By_Duration']].head(5)\n",
    "\n",
    "top_5_categories_by_duration"
   ]
  },
  {
   "cell_type": "code",
   "execution_count": 79,
   "id": "496c335d",
   "metadata": {},
   "outputs": [
    {
     "data": {
      "application/vnd.plotly.v1+json": {
       "config": {
        "plotlyServerURL": "https://plot.ly"
       },
       "data": [
        {
         "customdata": [
          [
           43.79
          ]
         ],
         "hovertemplate": "Category=Accessibility<br>Duration=%{x}<br>Cost=%{y}<br>Value_By_Duration=%{customdata[0]}<extra></extra>",
         "legendgroup": "Accessibility",
         "marker": {
          "color": "#636efa",
          "size": [
           43.79
          ],
          "sizemode": "area",
          "sizeref": 0.2659,
          "symbol": "circle"
         },
         "mode": "markers",
         "name": "Accessibility",
         "orientation": "v",
         "showlegend": true,
         "type": "scatter",
         "x": [
          68.33
         ],
         "xaxis": "x",
         "y": [
          45.33
         ],
         "yaxis": "y"
        },
        {
         "customdata": [
          [
           72.63
          ]
         ],
         "hovertemplate": "Category=Animals<br>Duration=%{x}<br>Cost=%{y}<br>Value_By_Duration=%{customdata[0]}<extra></extra>",
         "legendgroup": "Animals",
         "marker": {
          "color": "#EF553B",
          "size": [
           72.63
          ],
          "sizemode": "area",
          "sizeref": 0.2659,
          "symbol": "circle"
         },
         "mode": "markers",
         "name": "Animals",
         "orientation": "v",
         "showlegend": true,
         "type": "scatter",
         "x": [
          66.15
         ],
         "xaxis": "x",
         "y": [
          22.64
         ],
         "yaxis": "y"
        },
        {
         "customdata": [
          [
           36.15
          ]
         ],
         "hovertemplate": "Category=Art&Writing<br>Duration=%{x}<br>Cost=%{y}<br>Value_By_Duration=%{customdata[0]}<extra></extra>",
         "legendgroup": "Art&Writing",
         "marker": {
          "color": "#00cc96",
          "size": [
           36.15
          ],
          "sizemode": "area",
          "sizeref": 0.2659,
          "symbol": "circle"
         },
         "mode": "markers",
         "name": "Art&Writing",
         "orientation": "v",
         "showlegend": true,
         "type": "scatter",
         "x": [
          70.03
         ],
         "xaxis": "x",
         "y": [
          22.01
         ],
         "yaxis": "y"
        },
        {
         "customdata": [
          [
           33.28
          ]
         ],
         "hovertemplate": "Category=Baking<br>Duration=%{x}<br>Cost=%{y}<br>Value_By_Duration=%{customdata[0]}<extra></extra>",
         "legendgroup": "Baking",
         "marker": {
          "color": "#ab63fa",
          "size": [
           33.28
          ],
          "sizemode": "area",
          "sizeref": 0.2659,
          "symbol": "circle"
         },
         "mode": "markers",
         "name": "Baking",
         "orientation": "v",
         "showlegend": true,
         "type": "scatter",
         "x": [
          75.35
         ],
         "xaxis": "x",
         "y": [
          24.44
         ],
         "yaxis": "y"
        },
        {
         "customdata": [
          [
           55.65
          ]
         ],
         "hovertemplate": "Category=Cooking<br>Duration=%{x}<br>Cost=%{y}<br>Value_By_Duration=%{customdata[0]}<extra></extra>",
         "legendgroup": "Cooking",
         "marker": {
          "color": "#FFA15A",
          "size": [
           55.65
          ],
          "sizemode": "area",
          "sizeref": 0.2659,
          "symbol": "circle"
         },
         "mode": "markers",
         "name": "Cooking",
         "orientation": "v",
         "showlegend": true,
         "type": "scatter",
         "x": [
          90.44
         ],
         "xaxis": "x",
         "y": [
          22.76
         ],
         "yaxis": "y"
        },
        {
         "customdata": [
          [
           25.71
          ]
         ],
         "hovertemplate": "Category=Dance<br>Duration=%{x}<br>Cost=%{y}<br>Value_By_Duration=%{customdata[0]}<extra></extra>",
         "legendgroup": "Dance",
         "marker": {
          "color": "#19d3f3",
          "size": [
           25.71
          ],
          "sizemode": "area",
          "sizeref": 0.2659,
          "symbol": "circle"
         },
         "mode": "markers",
         "name": "Dance",
         "orientation": "v",
         "showlegend": true,
         "type": "scatter",
         "x": [
          62.42
         ],
         "xaxis": "x",
         "y": [
          16.26
         ],
         "yaxis": "y"
        },
        {
         "customdata": [
          [
           56.26
          ]
         ],
         "hovertemplate": "Category=Drinks<br>Duration=%{x}<br>Cost=%{y}<br>Value_By_Duration=%{customdata[0]}<extra></extra>",
         "legendgroup": "Drinks",
         "marker": {
          "color": "#FF6692",
          "size": [
           56.26
          ],
          "sizemode": "area",
          "sizeref": 0.2659,
          "symbol": "circle"
         },
         "mode": "markers",
         "name": "Drinks",
         "orientation": "v",
         "showlegend": true,
         "type": "scatter",
         "x": [
          72.5
         ],
         "xaxis": "x",
         "y": [
          21.52
         ],
         "yaxis": "y"
        },
        {
         "customdata": [
          [
           68.44
          ]
         ],
         "hovertemplate": "Category=Entertainment<br>Duration=%{x}<br>Cost=%{y}<br>Value_By_Duration=%{customdata[0]}<extra></extra>",
         "legendgroup": "Entertainment",
         "marker": {
          "color": "#B6E880",
          "size": [
           68.44
          ],
          "sizemode": "area",
          "sizeref": 0.2659,
          "symbol": "circle"
         },
         "mode": "markers",
         "name": "Entertainment",
         "orientation": "v",
         "showlegend": true,
         "type": "scatter",
         "x": [
          62.97
         ],
         "xaxis": "x",
         "y": [
          22.39
         ],
         "yaxis": "y"
        },
        {
         "customdata": [
          [
           97.72
          ]
         ],
         "hovertemplate": "Category=FamilyFriendly<br>Duration=%{x}<br>Cost=%{y}<br>Value_By_Duration=%{customdata[0]}<extra></extra>",
         "legendgroup": "FamilyFriendly",
         "marker": {
          "color": "#FF97FF",
          "size": [
           97.72
          ],
          "sizemode": "area",
          "sizeref": 0.2659,
          "symbol": "circle"
         },
         "mode": "markers",
         "name": "FamilyFriendly",
         "orientation": "v",
         "showlegend": true,
         "type": "scatter",
         "x": [
          69.82
         ],
         "xaxis": "x",
         "y": [
          21.39
         ],
         "yaxis": "y"
        },
        {
         "customdata": [
          [
           20.97
          ]
         ],
         "hovertemplate": "Category=Fitness<br>Duration=%{x}<br>Cost=%{y}<br>Value_By_Duration=%{customdata[0]}<extra></extra>",
         "legendgroup": "Fitness",
         "marker": {
          "color": "#FECB52",
          "size": [
           20.97
          ],
          "sizemode": "area",
          "sizeref": 0.2659,
          "symbol": "circle"
         },
         "mode": "markers",
         "name": "Fitness",
         "orientation": "v",
         "showlegend": true,
         "type": "scatter",
         "x": [
          58.64
         ],
         "xaxis": "x",
         "y": [
          25.05
         ],
         "yaxis": "y"
        },
        {
         "customdata": [
          [
           106.36
          ]
         ],
         "hovertemplate": "Category=Great4Groups<br>Duration=%{x}<br>Cost=%{y}<br>Value_By_Duration=%{customdata[0]}<extra></extra>",
         "legendgroup": "Great4Groups",
         "marker": {
          "color": "#636efa",
          "size": [
           106.36
          ],
          "sizemode": "area",
          "sizeref": 0.2659,
          "symbol": "circle"
         },
         "mode": "markers",
         "name": "Great4Groups",
         "orientation": "v",
         "showlegend": true,
         "type": "scatter",
         "x": [
          72.07
         ],
         "xaxis": "x",
         "y": [
          22.43
         ],
         "yaxis": "y"
        },
        {
         "customdata": [
          [
           36.57
          ]
         ],
         "hovertemplate": "Category=History&Culture<br>Duration=%{x}<br>Cost=%{y}<br>Value_By_Duration=%{customdata[0]}<extra></extra>",
         "legendgroup": "History&Culture",
         "marker": {
          "color": "#EF553B",
          "size": [
           36.57
          ],
          "sizemode": "area",
          "sizeref": 0.2659,
          "symbol": "circle"
         },
         "mode": "markers",
         "name": "History&Culture",
         "orientation": "v",
         "showlegend": true,
         "type": "scatter",
         "x": [
          67.41
         ],
         "xaxis": "x",
         "y": [
          19.72
         ],
         "yaxis": "y"
        },
        {
         "customdata": [
          [
           83.34
          ]
         ],
         "hovertemplate": "Category=Magic<br>Duration=%{x}<br>Cost=%{y}<br>Value_By_Duration=%{customdata[0]}<extra></extra>",
         "legendgroup": "Magic",
         "marker": {
          "color": "#00cc96",
          "size": [
           83.34
          ],
          "sizemode": "area",
          "sizeref": 0.2659,
          "symbol": "circle"
         },
         "mode": "markers",
         "name": "Magic",
         "orientation": "v",
         "showlegend": true,
         "type": "scatter",
         "x": [
          60
         ],
         "xaxis": "x",
         "y": [
          26.21
         ],
         "yaxis": "y"
        },
        {
         "customdata": [
          [
           64.92
          ]
         ],
         "hovertemplate": "Category=Music<br>Duration=%{x}<br>Cost=%{y}<br>Value_By_Duration=%{customdata[0]}<extra></extra>",
         "legendgroup": "Music",
         "marker": {
          "color": "#ab63fa",
          "size": [
           64.92
          ],
          "sizemode": "area",
          "sizeref": 0.2659,
          "symbol": "circle"
         },
         "mode": "markers",
         "name": "Music",
         "orientation": "v",
         "showlegend": true,
         "type": "scatter",
         "x": [
          65
         ],
         "xaxis": "x",
         "y": [
          27.43
         ],
         "yaxis": "y"
        },
        {
         "customdata": [
          [
           20.82
          ]
         ],
         "hovertemplate": "Category=Olympians&Paralympians<br>Duration=%{x}<br>Cost=%{y}<br>Value_By_Duration=%{customdata[0]}<extra></extra>",
         "legendgroup": "Olympians&Paralympians",
         "marker": {
          "color": "#FFA15A",
          "size": [
           20.82
          ],
          "sizemode": "area",
          "sizeref": 0.2659,
          "symbol": "circle"
         },
         "mode": "markers",
         "name": "Olympians&Paralympians",
         "orientation": "v",
         "showlegend": true,
         "type": "scatter",
         "x": [
          63.88
         ],
         "xaxis": "x",
         "y": [
          31.81
         ],
         "yaxis": "y"
        },
        {
         "customdata": [
          [
           41.97
          ]
         ],
         "hovertemplate": "Category=Social&Impact<br>Duration=%{x}<br>Cost=%{y}<br>Value_By_Duration=%{customdata[0]}<extra></extra>",
         "legendgroup": "Social&Impact",
         "marker": {
          "color": "#19d3f3",
          "size": [
           41.97
          ],
          "sizemode": "area",
          "sizeref": 0.2659,
          "symbol": "circle"
         },
         "mode": "markers",
         "name": "Social&Impact",
         "orientation": "v",
         "showlegend": true,
         "type": "scatter",
         "x": [
          71.25
         ],
         "xaxis": "x",
         "y": [
          19.08
         ],
         "yaxis": "y"
        },
        {
         "customdata": [
          [
           49.13
          ]
         ],
         "hovertemplate": "Category=Wellness<br>Duration=%{x}<br>Cost=%{y}<br>Value_By_Duration=%{customdata[0]}<extra></extra>",
         "legendgroup": "Wellness",
         "marker": {
          "color": "#FF6692",
          "size": [
           49.13
          ],
          "sizemode": "area",
          "sizeref": 0.2659,
          "symbol": "circle"
         },
         "mode": "markers",
         "name": "Wellness",
         "orientation": "v",
         "showlegend": true,
         "type": "scatter",
         "x": [
          65.5
         ],
         "xaxis": "x",
         "y": [
          35.16
         ],
         "yaxis": "y"
        }
       ],
       "layout": {
        "legend": {
         "itemsizing": "constant",
         "title": {
          "text": "Category"
         },
         "tracegroupgap": 0
        },
        "margin": {
         "t": 60
        },
        "template": {
         "data": {
          "bar": [
           {
            "error_x": {
             "color": "#2a3f5f"
            },
            "error_y": {
             "color": "#2a3f5f"
            },
            "marker": {
             "line": {
              "color": "#E5ECF6",
              "width": 0.5
             },
             "pattern": {
              "fillmode": "overlay",
              "size": 10,
              "solidity": 0.2
             }
            },
            "type": "bar"
           }
          ],
          "barpolar": [
           {
            "marker": {
             "line": {
              "color": "#E5ECF6",
              "width": 0.5
             },
             "pattern": {
              "fillmode": "overlay",
              "size": 10,
              "solidity": 0.2
             }
            },
            "type": "barpolar"
           }
          ],
          "carpet": [
           {
            "aaxis": {
             "endlinecolor": "#2a3f5f",
             "gridcolor": "white",
             "linecolor": "white",
             "minorgridcolor": "white",
             "startlinecolor": "#2a3f5f"
            },
            "baxis": {
             "endlinecolor": "#2a3f5f",
             "gridcolor": "white",
             "linecolor": "white",
             "minorgridcolor": "white",
             "startlinecolor": "#2a3f5f"
            },
            "type": "carpet"
           }
          ],
          "choropleth": [
           {
            "colorbar": {
             "outlinewidth": 0,
             "ticks": ""
            },
            "type": "choropleth"
           }
          ],
          "contour": [
           {
            "colorbar": {
             "outlinewidth": 0,
             "ticks": ""
            },
            "colorscale": [
             [
              0,
              "#0d0887"
             ],
             [
              0.1111111111111111,
              "#46039f"
             ],
             [
              0.2222222222222222,
              "#7201a8"
             ],
             [
              0.3333333333333333,
              "#9c179e"
             ],
             [
              0.4444444444444444,
              "#bd3786"
             ],
             [
              0.5555555555555556,
              "#d8576b"
             ],
             [
              0.6666666666666666,
              "#ed7953"
             ],
             [
              0.7777777777777778,
              "#fb9f3a"
             ],
             [
              0.8888888888888888,
              "#fdca26"
             ],
             [
              1,
              "#f0f921"
             ]
            ],
            "type": "contour"
           }
          ],
          "contourcarpet": [
           {
            "colorbar": {
             "outlinewidth": 0,
             "ticks": ""
            },
            "type": "contourcarpet"
           }
          ],
          "heatmap": [
           {
            "colorbar": {
             "outlinewidth": 0,
             "ticks": ""
            },
            "colorscale": [
             [
              0,
              "#0d0887"
             ],
             [
              0.1111111111111111,
              "#46039f"
             ],
             [
              0.2222222222222222,
              "#7201a8"
             ],
             [
              0.3333333333333333,
              "#9c179e"
             ],
             [
              0.4444444444444444,
              "#bd3786"
             ],
             [
              0.5555555555555556,
              "#d8576b"
             ],
             [
              0.6666666666666666,
              "#ed7953"
             ],
             [
              0.7777777777777778,
              "#fb9f3a"
             ],
             [
              0.8888888888888888,
              "#fdca26"
             ],
             [
              1,
              "#f0f921"
             ]
            ],
            "type": "heatmap"
           }
          ],
          "heatmapgl": [
           {
            "colorbar": {
             "outlinewidth": 0,
             "ticks": ""
            },
            "colorscale": [
             [
              0,
              "#0d0887"
             ],
             [
              0.1111111111111111,
              "#46039f"
             ],
             [
              0.2222222222222222,
              "#7201a8"
             ],
             [
              0.3333333333333333,
              "#9c179e"
             ],
             [
              0.4444444444444444,
              "#bd3786"
             ],
             [
              0.5555555555555556,
              "#d8576b"
             ],
             [
              0.6666666666666666,
              "#ed7953"
             ],
             [
              0.7777777777777778,
              "#fb9f3a"
             ],
             [
              0.8888888888888888,
              "#fdca26"
             ],
             [
              1,
              "#f0f921"
             ]
            ],
            "type": "heatmapgl"
           }
          ],
          "histogram": [
           {
            "marker": {
             "pattern": {
              "fillmode": "overlay",
              "size": 10,
              "solidity": 0.2
             }
            },
            "type": "histogram"
           }
          ],
          "histogram2d": [
           {
            "colorbar": {
             "outlinewidth": 0,
             "ticks": ""
            },
            "colorscale": [
             [
              0,
              "#0d0887"
             ],
             [
              0.1111111111111111,
              "#46039f"
             ],
             [
              0.2222222222222222,
              "#7201a8"
             ],
             [
              0.3333333333333333,
              "#9c179e"
             ],
             [
              0.4444444444444444,
              "#bd3786"
             ],
             [
              0.5555555555555556,
              "#d8576b"
             ],
             [
              0.6666666666666666,
              "#ed7953"
             ],
             [
              0.7777777777777778,
              "#fb9f3a"
             ],
             [
              0.8888888888888888,
              "#fdca26"
             ],
             [
              1,
              "#f0f921"
             ]
            ],
            "type": "histogram2d"
           }
          ],
          "histogram2dcontour": [
           {
            "colorbar": {
             "outlinewidth": 0,
             "ticks": ""
            },
            "colorscale": [
             [
              0,
              "#0d0887"
             ],
             [
              0.1111111111111111,
              "#46039f"
             ],
             [
              0.2222222222222222,
              "#7201a8"
             ],
             [
              0.3333333333333333,
              "#9c179e"
             ],
             [
              0.4444444444444444,
              "#bd3786"
             ],
             [
              0.5555555555555556,
              "#d8576b"
             ],
             [
              0.6666666666666666,
              "#ed7953"
             ],
             [
              0.7777777777777778,
              "#fb9f3a"
             ],
             [
              0.8888888888888888,
              "#fdca26"
             ],
             [
              1,
              "#f0f921"
             ]
            ],
            "type": "histogram2dcontour"
           }
          ],
          "mesh3d": [
           {
            "colorbar": {
             "outlinewidth": 0,
             "ticks": ""
            },
            "type": "mesh3d"
           }
          ],
          "parcoords": [
           {
            "line": {
             "colorbar": {
              "outlinewidth": 0,
              "ticks": ""
             }
            },
            "type": "parcoords"
           }
          ],
          "pie": [
           {
            "automargin": true,
            "type": "pie"
           }
          ],
          "scatter": [
           {
            "marker": {
             "colorbar": {
              "outlinewidth": 0,
              "ticks": ""
             }
            },
            "type": "scatter"
           }
          ],
          "scatter3d": [
           {
            "line": {
             "colorbar": {
              "outlinewidth": 0,
              "ticks": ""
             }
            },
            "marker": {
             "colorbar": {
              "outlinewidth": 0,
              "ticks": ""
             }
            },
            "type": "scatter3d"
           }
          ],
          "scattercarpet": [
           {
            "marker": {
             "colorbar": {
              "outlinewidth": 0,
              "ticks": ""
             }
            },
            "type": "scattercarpet"
           }
          ],
          "scattergeo": [
           {
            "marker": {
             "colorbar": {
              "outlinewidth": 0,
              "ticks": ""
             }
            },
            "type": "scattergeo"
           }
          ],
          "scattergl": [
           {
            "marker": {
             "colorbar": {
              "outlinewidth": 0,
              "ticks": ""
             }
            },
            "type": "scattergl"
           }
          ],
          "scattermapbox": [
           {
            "marker": {
             "colorbar": {
              "outlinewidth": 0,
              "ticks": ""
             }
            },
            "type": "scattermapbox"
           }
          ],
          "scatterpolar": [
           {
            "marker": {
             "colorbar": {
              "outlinewidth": 0,
              "ticks": ""
             }
            },
            "type": "scatterpolar"
           }
          ],
          "scatterpolargl": [
           {
            "marker": {
             "colorbar": {
              "outlinewidth": 0,
              "ticks": ""
             }
            },
            "type": "scatterpolargl"
           }
          ],
          "scatterternary": [
           {
            "marker": {
             "colorbar": {
              "outlinewidth": 0,
              "ticks": ""
             }
            },
            "type": "scatterternary"
           }
          ],
          "surface": [
           {
            "colorbar": {
             "outlinewidth": 0,
             "ticks": ""
            },
            "colorscale": [
             [
              0,
              "#0d0887"
             ],
             [
              0.1111111111111111,
              "#46039f"
             ],
             [
              0.2222222222222222,
              "#7201a8"
             ],
             [
              0.3333333333333333,
              "#9c179e"
             ],
             [
              0.4444444444444444,
              "#bd3786"
             ],
             [
              0.5555555555555556,
              "#d8576b"
             ],
             [
              0.6666666666666666,
              "#ed7953"
             ],
             [
              0.7777777777777778,
              "#fb9f3a"
             ],
             [
              0.8888888888888888,
              "#fdca26"
             ],
             [
              1,
              "#f0f921"
             ]
            ],
            "type": "surface"
           }
          ],
          "table": [
           {
            "cells": {
             "fill": {
              "color": "#EBF0F8"
             },
             "line": {
              "color": "white"
             }
            },
            "header": {
             "fill": {
              "color": "#C8D4E3"
             },
             "line": {
              "color": "white"
             }
            },
            "type": "table"
           }
          ]
         },
         "layout": {
          "annotationdefaults": {
           "arrowcolor": "#2a3f5f",
           "arrowhead": 0,
           "arrowwidth": 1
          },
          "autotypenumbers": "strict",
          "coloraxis": {
           "colorbar": {
            "outlinewidth": 0,
            "ticks": ""
           }
          },
          "colorscale": {
           "diverging": [
            [
             0,
             "#8e0152"
            ],
            [
             0.1,
             "#c51b7d"
            ],
            [
             0.2,
             "#de77ae"
            ],
            [
             0.3,
             "#f1b6da"
            ],
            [
             0.4,
             "#fde0ef"
            ],
            [
             0.5,
             "#f7f7f7"
            ],
            [
             0.6,
             "#e6f5d0"
            ],
            [
             0.7,
             "#b8e186"
            ],
            [
             0.8,
             "#7fbc41"
            ],
            [
             0.9,
             "#4d9221"
            ],
            [
             1,
             "#276419"
            ]
           ],
           "sequential": [
            [
             0,
             "#0d0887"
            ],
            [
             0.1111111111111111,
             "#46039f"
            ],
            [
             0.2222222222222222,
             "#7201a8"
            ],
            [
             0.3333333333333333,
             "#9c179e"
            ],
            [
             0.4444444444444444,
             "#bd3786"
            ],
            [
             0.5555555555555556,
             "#d8576b"
            ],
            [
             0.6666666666666666,
             "#ed7953"
            ],
            [
             0.7777777777777778,
             "#fb9f3a"
            ],
            [
             0.8888888888888888,
             "#fdca26"
            ],
            [
             1,
             "#f0f921"
            ]
           ],
           "sequentialminus": [
            [
             0,
             "#0d0887"
            ],
            [
             0.1111111111111111,
             "#46039f"
            ],
            [
             0.2222222222222222,
             "#7201a8"
            ],
            [
             0.3333333333333333,
             "#9c179e"
            ],
            [
             0.4444444444444444,
             "#bd3786"
            ],
            [
             0.5555555555555556,
             "#d8576b"
            ],
            [
             0.6666666666666666,
             "#ed7953"
            ],
            [
             0.7777777777777778,
             "#fb9f3a"
            ],
            [
             0.8888888888888888,
             "#fdca26"
            ],
            [
             1,
             "#f0f921"
            ]
           ]
          },
          "colorway": [
           "#636efa",
           "#EF553B",
           "#00cc96",
           "#ab63fa",
           "#FFA15A",
           "#19d3f3",
           "#FF6692",
           "#B6E880",
           "#FF97FF",
           "#FECB52"
          ],
          "font": {
           "color": "#2a3f5f"
          },
          "geo": {
           "bgcolor": "white",
           "lakecolor": "white",
           "landcolor": "#E5ECF6",
           "showlakes": true,
           "showland": true,
           "subunitcolor": "white"
          },
          "hoverlabel": {
           "align": "left"
          },
          "hovermode": "closest",
          "mapbox": {
           "style": "light"
          },
          "paper_bgcolor": "white",
          "plot_bgcolor": "#E5ECF6",
          "polar": {
           "angularaxis": {
            "gridcolor": "white",
            "linecolor": "white",
            "ticks": ""
           },
           "bgcolor": "#E5ECF6",
           "radialaxis": {
            "gridcolor": "white",
            "linecolor": "white",
            "ticks": ""
           }
          },
          "scene": {
           "xaxis": {
            "backgroundcolor": "#E5ECF6",
            "gridcolor": "white",
            "gridwidth": 2,
            "linecolor": "white",
            "showbackground": true,
            "ticks": "",
            "zerolinecolor": "white"
           },
           "yaxis": {
            "backgroundcolor": "#E5ECF6",
            "gridcolor": "white",
            "gridwidth": 2,
            "linecolor": "white",
            "showbackground": true,
            "ticks": "",
            "zerolinecolor": "white"
           },
           "zaxis": {
            "backgroundcolor": "#E5ECF6",
            "gridcolor": "white",
            "gridwidth": 2,
            "linecolor": "white",
            "showbackground": true,
            "ticks": "",
            "zerolinecolor": "white"
           }
          },
          "shapedefaults": {
           "line": {
            "color": "#2a3f5f"
           }
          },
          "ternary": {
           "aaxis": {
            "gridcolor": "white",
            "linecolor": "white",
            "ticks": ""
           },
           "baxis": {
            "gridcolor": "white",
            "linecolor": "white",
            "ticks": ""
           },
           "bgcolor": "#E5ECF6",
           "caxis": {
            "gridcolor": "white",
            "linecolor": "white",
            "ticks": ""
           }
          },
          "title": {
           "x": 0.05
          },
          "xaxis": {
           "automargin": true,
           "gridcolor": "white",
           "linecolor": "white",
           "ticks": "",
           "title": {
            "standoff": 15
           },
           "zerolinecolor": "white",
           "zerolinewidth": 2
          },
          "yaxis": {
           "automargin": true,
           "gridcolor": "white",
           "linecolor": "white",
           "ticks": "",
           "title": {
            "standoff": 15
           },
           "zerolinecolor": "white",
           "zerolinewidth": 2
          }
         }
        },
        "xaxis": {
         "anchor": "y",
         "domain": [
          0,
          1
         ],
         "title": {
          "text": "Duration"
         }
        },
        "yaxis": {
         "anchor": "x",
         "domain": [
          0,
          1
         ],
         "title": {
          "text": "Cost"
         }
        }
       }
      },
      "text/html": [
       "<div>                            <div id=\"13e0d84b-be84-4a15-902a-cada71acef9a\" class=\"plotly-graph-div\" style=\"height:525px; width:100%;\"></div>            <script type=\"text/javascript\">                require([\"plotly\"], function(Plotly) {                    window.PLOTLYENV=window.PLOTLYENV || {};                                    if (document.getElementById(\"13e0d84b-be84-4a15-902a-cada71acef9a\")) {                    Plotly.newPlot(                        \"13e0d84b-be84-4a15-902a-cada71acef9a\",                        [{\"customdata\":[[43.79]],\"hovertemplate\":\"Category=Accessibility<br>Duration=%{x}<br>Cost=%{y}<br>Value_By_Duration=%{customdata[0]}<extra></extra>\",\"legendgroup\":\"Accessibility\",\"marker\":{\"color\":\"#636efa\",\"size\":[43.79],\"sizemode\":\"area\",\"sizeref\":0.2659,\"symbol\":\"circle\"},\"mode\":\"markers\",\"name\":\"Accessibility\",\"orientation\":\"v\",\"showlegend\":true,\"type\":\"scatter\",\"x\":[68.33],\"xaxis\":\"x\",\"y\":[45.33],\"yaxis\":\"y\"},{\"customdata\":[[72.63]],\"hovertemplate\":\"Category=Animals<br>Duration=%{x}<br>Cost=%{y}<br>Value_By_Duration=%{customdata[0]}<extra></extra>\",\"legendgroup\":\"Animals\",\"marker\":{\"color\":\"#EF553B\",\"size\":[72.63],\"sizemode\":\"area\",\"sizeref\":0.2659,\"symbol\":\"circle\"},\"mode\":\"markers\",\"name\":\"Animals\",\"orientation\":\"v\",\"showlegend\":true,\"type\":\"scatter\",\"x\":[66.15],\"xaxis\":\"x\",\"y\":[22.64],\"yaxis\":\"y\"},{\"customdata\":[[36.15]],\"hovertemplate\":\"Category=Art&Writing<br>Duration=%{x}<br>Cost=%{y}<br>Value_By_Duration=%{customdata[0]}<extra></extra>\",\"legendgroup\":\"Art&Writing\",\"marker\":{\"color\":\"#00cc96\",\"size\":[36.15],\"sizemode\":\"area\",\"sizeref\":0.2659,\"symbol\":\"circle\"},\"mode\":\"markers\",\"name\":\"Art&Writing\",\"orientation\":\"v\",\"showlegend\":true,\"type\":\"scatter\",\"x\":[70.03],\"xaxis\":\"x\",\"y\":[22.01],\"yaxis\":\"y\"},{\"customdata\":[[33.28]],\"hovertemplate\":\"Category=Baking<br>Duration=%{x}<br>Cost=%{y}<br>Value_By_Duration=%{customdata[0]}<extra></extra>\",\"legendgroup\":\"Baking\",\"marker\":{\"color\":\"#ab63fa\",\"size\":[33.28],\"sizemode\":\"area\",\"sizeref\":0.2659,\"symbol\":\"circle\"},\"mode\":\"markers\",\"name\":\"Baking\",\"orientation\":\"v\",\"showlegend\":true,\"type\":\"scatter\",\"x\":[75.35],\"xaxis\":\"x\",\"y\":[24.44],\"yaxis\":\"y\"},{\"customdata\":[[55.65]],\"hovertemplate\":\"Category=Cooking<br>Duration=%{x}<br>Cost=%{y}<br>Value_By_Duration=%{customdata[0]}<extra></extra>\",\"legendgroup\":\"Cooking\",\"marker\":{\"color\":\"#FFA15A\",\"size\":[55.65],\"sizemode\":\"area\",\"sizeref\":0.2659,\"symbol\":\"circle\"},\"mode\":\"markers\",\"name\":\"Cooking\",\"orientation\":\"v\",\"showlegend\":true,\"type\":\"scatter\",\"x\":[90.44],\"xaxis\":\"x\",\"y\":[22.76],\"yaxis\":\"y\"},{\"customdata\":[[25.71]],\"hovertemplate\":\"Category=Dance<br>Duration=%{x}<br>Cost=%{y}<br>Value_By_Duration=%{customdata[0]}<extra></extra>\",\"legendgroup\":\"Dance\",\"marker\":{\"color\":\"#19d3f3\",\"size\":[25.71],\"sizemode\":\"area\",\"sizeref\":0.2659,\"symbol\":\"circle\"},\"mode\":\"markers\",\"name\":\"Dance\",\"orientation\":\"v\",\"showlegend\":true,\"type\":\"scatter\",\"x\":[62.42],\"xaxis\":\"x\",\"y\":[16.26],\"yaxis\":\"y\"},{\"customdata\":[[56.26]],\"hovertemplate\":\"Category=Drinks<br>Duration=%{x}<br>Cost=%{y}<br>Value_By_Duration=%{customdata[0]}<extra></extra>\",\"legendgroup\":\"Drinks\",\"marker\":{\"color\":\"#FF6692\",\"size\":[56.26],\"sizemode\":\"area\",\"sizeref\":0.2659,\"symbol\":\"circle\"},\"mode\":\"markers\",\"name\":\"Drinks\",\"orientation\":\"v\",\"showlegend\":true,\"type\":\"scatter\",\"x\":[72.5],\"xaxis\":\"x\",\"y\":[21.52],\"yaxis\":\"y\"},{\"customdata\":[[68.44]],\"hovertemplate\":\"Category=Entertainment<br>Duration=%{x}<br>Cost=%{y}<br>Value_By_Duration=%{customdata[0]}<extra></extra>\",\"legendgroup\":\"Entertainment\",\"marker\":{\"color\":\"#B6E880\",\"size\":[68.44],\"sizemode\":\"area\",\"sizeref\":0.2659,\"symbol\":\"circle\"},\"mode\":\"markers\",\"name\":\"Entertainment\",\"orientation\":\"v\",\"showlegend\":true,\"type\":\"scatter\",\"x\":[62.97],\"xaxis\":\"x\",\"y\":[22.39],\"yaxis\":\"y\"},{\"customdata\":[[97.72]],\"hovertemplate\":\"Category=FamilyFriendly<br>Duration=%{x}<br>Cost=%{y}<br>Value_By_Duration=%{customdata[0]}<extra></extra>\",\"legendgroup\":\"FamilyFriendly\",\"marker\":{\"color\":\"#FF97FF\",\"size\":[97.72],\"sizemode\":\"area\",\"sizeref\":0.2659,\"symbol\":\"circle\"},\"mode\":\"markers\",\"name\":\"FamilyFriendly\",\"orientation\":\"v\",\"showlegend\":true,\"type\":\"scatter\",\"x\":[69.82],\"xaxis\":\"x\",\"y\":[21.39],\"yaxis\":\"y\"},{\"customdata\":[[20.97]],\"hovertemplate\":\"Category=Fitness<br>Duration=%{x}<br>Cost=%{y}<br>Value_By_Duration=%{customdata[0]}<extra></extra>\",\"legendgroup\":\"Fitness\",\"marker\":{\"color\":\"#FECB52\",\"size\":[20.97],\"sizemode\":\"area\",\"sizeref\":0.2659,\"symbol\":\"circle\"},\"mode\":\"markers\",\"name\":\"Fitness\",\"orientation\":\"v\",\"showlegend\":true,\"type\":\"scatter\",\"x\":[58.64],\"xaxis\":\"x\",\"y\":[25.05],\"yaxis\":\"y\"},{\"customdata\":[[106.36]],\"hovertemplate\":\"Category=Great4Groups<br>Duration=%{x}<br>Cost=%{y}<br>Value_By_Duration=%{customdata[0]}<extra></extra>\",\"legendgroup\":\"Great4Groups\",\"marker\":{\"color\":\"#636efa\",\"size\":[106.36],\"sizemode\":\"area\",\"sizeref\":0.2659,\"symbol\":\"circle\"},\"mode\":\"markers\",\"name\":\"Great4Groups\",\"orientation\":\"v\",\"showlegend\":true,\"type\":\"scatter\",\"x\":[72.07],\"xaxis\":\"x\",\"y\":[22.43],\"yaxis\":\"y\"},{\"customdata\":[[36.57]],\"hovertemplate\":\"Category=History&Culture<br>Duration=%{x}<br>Cost=%{y}<br>Value_By_Duration=%{customdata[0]}<extra></extra>\",\"legendgroup\":\"History&Culture\",\"marker\":{\"color\":\"#EF553B\",\"size\":[36.57],\"sizemode\":\"area\",\"sizeref\":0.2659,\"symbol\":\"circle\"},\"mode\":\"markers\",\"name\":\"History&Culture\",\"orientation\":\"v\",\"showlegend\":true,\"type\":\"scatter\",\"x\":[67.41],\"xaxis\":\"x\",\"y\":[19.72],\"yaxis\":\"y\"},{\"customdata\":[[83.34]],\"hovertemplate\":\"Category=Magic<br>Duration=%{x}<br>Cost=%{y}<br>Value_By_Duration=%{customdata[0]}<extra></extra>\",\"legendgroup\":\"Magic\",\"marker\":{\"color\":\"#00cc96\",\"size\":[83.34],\"sizemode\":\"area\",\"sizeref\":0.2659,\"symbol\":\"circle\"},\"mode\":\"markers\",\"name\":\"Magic\",\"orientation\":\"v\",\"showlegend\":true,\"type\":\"scatter\",\"x\":[60.0],\"xaxis\":\"x\",\"y\":[26.21],\"yaxis\":\"y\"},{\"customdata\":[[64.92]],\"hovertemplate\":\"Category=Music<br>Duration=%{x}<br>Cost=%{y}<br>Value_By_Duration=%{customdata[0]}<extra></extra>\",\"legendgroup\":\"Music\",\"marker\":{\"color\":\"#ab63fa\",\"size\":[64.92],\"sizemode\":\"area\",\"sizeref\":0.2659,\"symbol\":\"circle\"},\"mode\":\"markers\",\"name\":\"Music\",\"orientation\":\"v\",\"showlegend\":true,\"type\":\"scatter\",\"x\":[65.0],\"xaxis\":\"x\",\"y\":[27.43],\"yaxis\":\"y\"},{\"customdata\":[[20.82]],\"hovertemplate\":\"Category=Olympians&Paralympians<br>Duration=%{x}<br>Cost=%{y}<br>Value_By_Duration=%{customdata[0]}<extra></extra>\",\"legendgroup\":\"Olympians&Paralympians\",\"marker\":{\"color\":\"#FFA15A\",\"size\":[20.82],\"sizemode\":\"area\",\"sizeref\":0.2659,\"symbol\":\"circle\"},\"mode\":\"markers\",\"name\":\"Olympians&Paralympians\",\"orientation\":\"v\",\"showlegend\":true,\"type\":\"scatter\",\"x\":[63.88],\"xaxis\":\"x\",\"y\":[31.81],\"yaxis\":\"y\"},{\"customdata\":[[41.97]],\"hovertemplate\":\"Category=Social&Impact<br>Duration=%{x}<br>Cost=%{y}<br>Value_By_Duration=%{customdata[0]}<extra></extra>\",\"legendgroup\":\"Social&Impact\",\"marker\":{\"color\":\"#19d3f3\",\"size\":[41.97],\"sizemode\":\"area\",\"sizeref\":0.2659,\"symbol\":\"circle\"},\"mode\":\"markers\",\"name\":\"Social&Impact\",\"orientation\":\"v\",\"showlegend\":true,\"type\":\"scatter\",\"x\":[71.25],\"xaxis\":\"x\",\"y\":[19.08],\"yaxis\":\"y\"},{\"customdata\":[[49.13]],\"hovertemplate\":\"Category=Wellness<br>Duration=%{x}<br>Cost=%{y}<br>Value_By_Duration=%{customdata[0]}<extra></extra>\",\"legendgroup\":\"Wellness\",\"marker\":{\"color\":\"#FF6692\",\"size\":[49.13],\"sizemode\":\"area\",\"sizeref\":0.2659,\"symbol\":\"circle\"},\"mode\":\"markers\",\"name\":\"Wellness\",\"orientation\":\"v\",\"showlegend\":true,\"type\":\"scatter\",\"x\":[65.5],\"xaxis\":\"x\",\"y\":[35.16],\"yaxis\":\"y\"}],                        {\"legend\":{\"itemsizing\":\"constant\",\"title\":{\"text\":\"Category\"},\"tracegroupgap\":0},\"margin\":{\"t\":60},\"template\":{\"data\":{\"bar\":[{\"error_x\":{\"color\":\"#2a3f5f\"},\"error_y\":{\"color\":\"#2a3f5f\"},\"marker\":{\"line\":{\"color\":\"#E5ECF6\",\"width\":0.5},\"pattern\":{\"fillmode\":\"overlay\",\"size\":10,\"solidity\":0.2}},\"type\":\"bar\"}],\"barpolar\":[{\"marker\":{\"line\":{\"color\":\"#E5ECF6\",\"width\":0.5},\"pattern\":{\"fillmode\":\"overlay\",\"size\":10,\"solidity\":0.2}},\"type\":\"barpolar\"}],\"carpet\":[{\"aaxis\":{\"endlinecolor\":\"#2a3f5f\",\"gridcolor\":\"white\",\"linecolor\":\"white\",\"minorgridcolor\":\"white\",\"startlinecolor\":\"#2a3f5f\"},\"baxis\":{\"endlinecolor\":\"#2a3f5f\",\"gridcolor\":\"white\",\"linecolor\":\"white\",\"minorgridcolor\":\"white\",\"startlinecolor\":\"#2a3f5f\"},\"type\":\"carpet\"}],\"choropleth\":[{\"colorbar\":{\"outlinewidth\":0,\"ticks\":\"\"},\"type\":\"choropleth\"}],\"contour\":[{\"colorbar\":{\"outlinewidth\":0,\"ticks\":\"\"},\"colorscale\":[[0.0,\"#0d0887\"],[0.1111111111111111,\"#46039f\"],[0.2222222222222222,\"#7201a8\"],[0.3333333333333333,\"#9c179e\"],[0.4444444444444444,\"#bd3786\"],[0.5555555555555556,\"#d8576b\"],[0.6666666666666666,\"#ed7953\"],[0.7777777777777778,\"#fb9f3a\"],[0.8888888888888888,\"#fdca26\"],[1.0,\"#f0f921\"]],\"type\":\"contour\"}],\"contourcarpet\":[{\"colorbar\":{\"outlinewidth\":0,\"ticks\":\"\"},\"type\":\"contourcarpet\"}],\"heatmap\":[{\"colorbar\":{\"outlinewidth\":0,\"ticks\":\"\"},\"colorscale\":[[0.0,\"#0d0887\"],[0.1111111111111111,\"#46039f\"],[0.2222222222222222,\"#7201a8\"],[0.3333333333333333,\"#9c179e\"],[0.4444444444444444,\"#bd3786\"],[0.5555555555555556,\"#d8576b\"],[0.6666666666666666,\"#ed7953\"],[0.7777777777777778,\"#fb9f3a\"],[0.8888888888888888,\"#fdca26\"],[1.0,\"#f0f921\"]],\"type\":\"heatmap\"}],\"heatmapgl\":[{\"colorbar\":{\"outlinewidth\":0,\"ticks\":\"\"},\"colorscale\":[[0.0,\"#0d0887\"],[0.1111111111111111,\"#46039f\"],[0.2222222222222222,\"#7201a8\"],[0.3333333333333333,\"#9c179e\"],[0.4444444444444444,\"#bd3786\"],[0.5555555555555556,\"#d8576b\"],[0.6666666666666666,\"#ed7953\"],[0.7777777777777778,\"#fb9f3a\"],[0.8888888888888888,\"#fdca26\"],[1.0,\"#f0f921\"]],\"type\":\"heatmapgl\"}],\"histogram\":[{\"marker\":{\"pattern\":{\"fillmode\":\"overlay\",\"size\":10,\"solidity\":0.2}},\"type\":\"histogram\"}],\"histogram2d\":[{\"colorbar\":{\"outlinewidth\":0,\"ticks\":\"\"},\"colorscale\":[[0.0,\"#0d0887\"],[0.1111111111111111,\"#46039f\"],[0.2222222222222222,\"#7201a8\"],[0.3333333333333333,\"#9c179e\"],[0.4444444444444444,\"#bd3786\"],[0.5555555555555556,\"#d8576b\"],[0.6666666666666666,\"#ed7953\"],[0.7777777777777778,\"#fb9f3a\"],[0.8888888888888888,\"#fdca26\"],[1.0,\"#f0f921\"]],\"type\":\"histogram2d\"}],\"histogram2dcontour\":[{\"colorbar\":{\"outlinewidth\":0,\"ticks\":\"\"},\"colorscale\":[[0.0,\"#0d0887\"],[0.1111111111111111,\"#46039f\"],[0.2222222222222222,\"#7201a8\"],[0.3333333333333333,\"#9c179e\"],[0.4444444444444444,\"#bd3786\"],[0.5555555555555556,\"#d8576b\"],[0.6666666666666666,\"#ed7953\"],[0.7777777777777778,\"#fb9f3a\"],[0.8888888888888888,\"#fdca26\"],[1.0,\"#f0f921\"]],\"type\":\"histogram2dcontour\"}],\"mesh3d\":[{\"colorbar\":{\"outlinewidth\":0,\"ticks\":\"\"},\"type\":\"mesh3d\"}],\"parcoords\":[{\"line\":{\"colorbar\":{\"outlinewidth\":0,\"ticks\":\"\"}},\"type\":\"parcoords\"}],\"pie\":[{\"automargin\":true,\"type\":\"pie\"}],\"scatter\":[{\"marker\":{\"colorbar\":{\"outlinewidth\":0,\"ticks\":\"\"}},\"type\":\"scatter\"}],\"scatter3d\":[{\"line\":{\"colorbar\":{\"outlinewidth\":0,\"ticks\":\"\"}},\"marker\":{\"colorbar\":{\"outlinewidth\":0,\"ticks\":\"\"}},\"type\":\"scatter3d\"}],\"scattercarpet\":[{\"marker\":{\"colorbar\":{\"outlinewidth\":0,\"ticks\":\"\"}},\"type\":\"scattercarpet\"}],\"scattergeo\":[{\"marker\":{\"colorbar\":{\"outlinewidth\":0,\"ticks\":\"\"}},\"type\":\"scattergeo\"}],\"scattergl\":[{\"marker\":{\"colorbar\":{\"outlinewidth\":0,\"ticks\":\"\"}},\"type\":\"scattergl\"}],\"scattermapbox\":[{\"marker\":{\"colorbar\":{\"outlinewidth\":0,\"ticks\":\"\"}},\"type\":\"scattermapbox\"}],\"scatterpolar\":[{\"marker\":{\"colorbar\":{\"outlinewidth\":0,\"ticks\":\"\"}},\"type\":\"scatterpolar\"}],\"scatterpolargl\":[{\"marker\":{\"colorbar\":{\"outlinewidth\":0,\"ticks\":\"\"}},\"type\":\"scatterpolargl\"}],\"scatterternary\":[{\"marker\":{\"colorbar\":{\"outlinewidth\":0,\"ticks\":\"\"}},\"type\":\"scatterternary\"}],\"surface\":[{\"colorbar\":{\"outlinewidth\":0,\"ticks\":\"\"},\"colorscale\":[[0.0,\"#0d0887\"],[0.1111111111111111,\"#46039f\"],[0.2222222222222222,\"#7201a8\"],[0.3333333333333333,\"#9c179e\"],[0.4444444444444444,\"#bd3786\"],[0.5555555555555556,\"#d8576b\"],[0.6666666666666666,\"#ed7953\"],[0.7777777777777778,\"#fb9f3a\"],[0.8888888888888888,\"#fdca26\"],[1.0,\"#f0f921\"]],\"type\":\"surface\"}],\"table\":[{\"cells\":{\"fill\":{\"color\":\"#EBF0F8\"},\"line\":{\"color\":\"white\"}},\"header\":{\"fill\":{\"color\":\"#C8D4E3\"},\"line\":{\"color\":\"white\"}},\"type\":\"table\"}]},\"layout\":{\"annotationdefaults\":{\"arrowcolor\":\"#2a3f5f\",\"arrowhead\":0,\"arrowwidth\":1},\"autotypenumbers\":\"strict\",\"coloraxis\":{\"colorbar\":{\"outlinewidth\":0,\"ticks\":\"\"}},\"colorscale\":{\"diverging\":[[0,\"#8e0152\"],[0.1,\"#c51b7d\"],[0.2,\"#de77ae\"],[0.3,\"#f1b6da\"],[0.4,\"#fde0ef\"],[0.5,\"#f7f7f7\"],[0.6,\"#e6f5d0\"],[0.7,\"#b8e186\"],[0.8,\"#7fbc41\"],[0.9,\"#4d9221\"],[1,\"#276419\"]],\"sequential\":[[0.0,\"#0d0887\"],[0.1111111111111111,\"#46039f\"],[0.2222222222222222,\"#7201a8\"],[0.3333333333333333,\"#9c179e\"],[0.4444444444444444,\"#bd3786\"],[0.5555555555555556,\"#d8576b\"],[0.6666666666666666,\"#ed7953\"],[0.7777777777777778,\"#fb9f3a\"],[0.8888888888888888,\"#fdca26\"],[1.0,\"#f0f921\"]],\"sequentialminus\":[[0.0,\"#0d0887\"],[0.1111111111111111,\"#46039f\"],[0.2222222222222222,\"#7201a8\"],[0.3333333333333333,\"#9c179e\"],[0.4444444444444444,\"#bd3786\"],[0.5555555555555556,\"#d8576b\"],[0.6666666666666666,\"#ed7953\"],[0.7777777777777778,\"#fb9f3a\"],[0.8888888888888888,\"#fdca26\"],[1.0,\"#f0f921\"]]},\"colorway\":[\"#636efa\",\"#EF553B\",\"#00cc96\",\"#ab63fa\",\"#FFA15A\",\"#19d3f3\",\"#FF6692\",\"#B6E880\",\"#FF97FF\",\"#FECB52\"],\"font\":{\"color\":\"#2a3f5f\"},\"geo\":{\"bgcolor\":\"white\",\"lakecolor\":\"white\",\"landcolor\":\"#E5ECF6\",\"showlakes\":true,\"showland\":true,\"subunitcolor\":\"white\"},\"hoverlabel\":{\"align\":\"left\"},\"hovermode\":\"closest\",\"mapbox\":{\"style\":\"light\"},\"paper_bgcolor\":\"white\",\"plot_bgcolor\":\"#E5ECF6\",\"polar\":{\"angularaxis\":{\"gridcolor\":\"white\",\"linecolor\":\"white\",\"ticks\":\"\"},\"bgcolor\":\"#E5ECF6\",\"radialaxis\":{\"gridcolor\":\"white\",\"linecolor\":\"white\",\"ticks\":\"\"}},\"scene\":{\"xaxis\":{\"backgroundcolor\":\"#E5ECF6\",\"gridcolor\":\"white\",\"gridwidth\":2,\"linecolor\":\"white\",\"showbackground\":true,\"ticks\":\"\",\"zerolinecolor\":\"white\"},\"yaxis\":{\"backgroundcolor\":\"#E5ECF6\",\"gridcolor\":\"white\",\"gridwidth\":2,\"linecolor\":\"white\",\"showbackground\":true,\"ticks\":\"\",\"zerolinecolor\":\"white\"},\"zaxis\":{\"backgroundcolor\":\"#E5ECF6\",\"gridcolor\":\"white\",\"gridwidth\":2,\"linecolor\":\"white\",\"showbackground\":true,\"ticks\":\"\",\"zerolinecolor\":\"white\"}},\"shapedefaults\":{\"line\":{\"color\":\"#2a3f5f\"}},\"ternary\":{\"aaxis\":{\"gridcolor\":\"white\",\"linecolor\":\"white\",\"ticks\":\"\"},\"baxis\":{\"gridcolor\":\"white\",\"linecolor\":\"white\",\"ticks\":\"\"},\"bgcolor\":\"#E5ECF6\",\"caxis\":{\"gridcolor\":\"white\",\"linecolor\":\"white\",\"ticks\":\"\"}},\"title\":{\"x\":0.05},\"xaxis\":{\"automargin\":true,\"gridcolor\":\"white\",\"linecolor\":\"white\",\"ticks\":\"\",\"title\":{\"standoff\":15},\"zerolinecolor\":\"white\",\"zerolinewidth\":2},\"yaxis\":{\"automargin\":true,\"gridcolor\":\"white\",\"linecolor\":\"white\",\"ticks\":\"\",\"title\":{\"standoff\":15},\"zerolinecolor\":\"white\",\"zerolinewidth\":2}}},\"xaxis\":{\"anchor\":\"y\",\"domain\":[0.0,1.0],\"title\":{\"text\":\"Duration\"}},\"yaxis\":{\"anchor\":\"x\",\"domain\":[0.0,1.0],\"title\":{\"text\":\"Cost\"}}},                        {\"responsive\": true}                    ).then(function(){\n",
       "                            \n",
       "var gd = document.getElementById('13e0d84b-be84-4a15-902a-cada71acef9a');\n",
       "var x = new MutationObserver(function (mutations, observer) {{\n",
       "        var display = window.getComputedStyle(gd).display;\n",
       "        if (!display || display === 'none') {{\n",
       "            console.log([gd, 'removed!']);\n",
       "            Plotly.purge(gd);\n",
       "            observer.disconnect();\n",
       "        }}\n",
       "}});\n",
       "\n",
       "// Listen for the removal of the full notebook cells\n",
       "var notebookContainer = gd.closest('#notebook-container');\n",
       "if (notebookContainer) {{\n",
       "    x.observe(notebookContainer, {childList: true});\n",
       "}}\n",
       "\n",
       "// Listen for the clearing of the current output cell\n",
       "var outputEl = gd.closest('.output');\n",
       "if (outputEl) {{\n",
       "    x.observe(outputEl, {childList: true});\n",
       "}}\n",
       "\n",
       "                        })                };                });            </script>        </div>"
      ]
     },
     "metadata": {},
     "output_type": "display_data"
    }
   ],
   "source": [
    "x = categories['Duration']\n",
    "y = categories['Cost']\n",
    "colors = categories['Category']\n",
    "size = categories['Value_By_Duration']\n",
    "\n",
    "fig_4 = px.scatter(categories, x=x, y=y, color=colors,\n",
    "                 size=size, hover_data=['Value_By_Duration'])\n",
    "fig_4.show()"
   ]
  },
  {
   "cell_type": "code",
   "execution_count": 91,
   "id": "17fb9eac",
   "metadata": {},
   "outputs": [
    {
     "data": {
      "text/html": [
       "<div>\n",
       "<style scoped>\n",
       "    .dataframe tbody tr th:only-of-type {\n",
       "        vertical-align: middle;\n",
       "    }\n",
       "\n",
       "    .dataframe tbody tr th {\n",
       "        vertical-align: top;\n",
       "    }\n",
       "\n",
       "    .dataframe thead th {\n",
       "        text-align: right;\n",
       "    }\n",
       "</style>\n",
       "<table border=\"1\" class=\"dataframe\">\n",
       "  <thead>\n",
       "    <tr style=\"text-align: right;\">\n",
       "      <th></th>\n",
       "      <th>Experience_Name</th>\n",
       "      <th>Rating</th>\n",
       "      <th>Reviews</th>\n",
       "      <th>Cost</th>\n",
       "      <th>Duration</th>\n",
       "    </tr>\n",
       "  </thead>\n",
       "  <tbody>\n",
       "    <tr>\n",
       "      <th>375</th>\n",
       "      <td>Make Mexican Fiesta Essentials with Chef</td>\n",
       "      <td>4.96</td>\n",
       "      <td>144.0</td>\n",
       "      <td>21</td>\n",
       "      <td>175</td>\n",
       "    </tr>\n",
       "    <tr>\n",
       "      <th>305</th>\n",
       "      <td>Chinese Dim Sum and Street Food Cooking</td>\n",
       "      <td>5.00</td>\n",
       "      <td>8.0</td>\n",
       "      <td>16</td>\n",
       "      <td>175</td>\n",
       "    </tr>\n",
       "    <tr>\n",
       "      <th>346</th>\n",
       "      <td>Cook gyoza from scratch</td>\n",
       "      <td>4.99</td>\n",
       "      <td>217.0</td>\n",
       "      <td>18</td>\n",
       "      <td>175</td>\n",
       "    </tr>\n",
       "    <tr>\n",
       "      <th>404</th>\n",
       "      <td>Japanese curry bread from scratch</td>\n",
       "      <td>5.00</td>\n",
       "      <td>6.0</td>\n",
       "      <td>18</td>\n",
       "      <td>175</td>\n",
       "    </tr>\n",
       "    <tr>\n",
       "      <th>407</th>\n",
       "      <td>Advanced Taco Tuesday with a Pro Chef</td>\n",
       "      <td>4.99</td>\n",
       "      <td>299.0</td>\n",
       "      <td>21</td>\n",
       "      <td>175</td>\n",
       "    </tr>\n",
       "    <tr>\n",
       "      <th>325</th>\n",
       "      <td>Prepare delicious Churros with a Chef</td>\n",
       "      <td>4.94</td>\n",
       "      <td>209.0</td>\n",
       "      <td>21</td>\n",
       "      <td>175</td>\n",
       "    </tr>\n",
       "    <tr>\n",
       "      <th>409</th>\n",
       "      <td>Cooking the most famous Moroccan Dish with a M...</td>\n",
       "      <td>5.00</td>\n",
       "      <td>4.0</td>\n",
       "      <td>11</td>\n",
       "      <td>175</td>\n",
       "    </tr>\n",
       "    <tr>\n",
       "      <th>442</th>\n",
       "      <td>Traditional paella with a local</td>\n",
       "      <td>5.00</td>\n",
       "      <td>3.0</td>\n",
       "      <td>18</td>\n",
       "      <td>175</td>\n",
       "    </tr>\n",
       "  </tbody>\n",
       "</table>\n",
       "</div>"
      ],
      "text/plain": [
       "                                       Experience_Name  Rating  Reviews  Cost  \\\n",
       "375           Make Mexican Fiesta Essentials with Chef    4.96    144.0    21   \n",
       "305            Chinese Dim Sum and Street Food Cooking    5.00      8.0    16   \n",
       "346                            Cook gyoza from scratch    4.99    217.0    18   \n",
       "404                  Japanese curry bread from scratch    5.00      6.0    18   \n",
       "407              Advanced Taco Tuesday with a Pro Chef    4.99    299.0    21   \n",
       "325              Prepare delicious Churros with a Chef    4.94    209.0    21   \n",
       "409  Cooking the most famous Moroccan Dish with a M...    5.00      4.0    11   \n",
       "442                    Traditional paella with a local    5.00      3.0    18   \n",
       "\n",
       "     Duration  \n",
       "375       175  \n",
       "305       175  \n",
       "346       175  \n",
       "404       175  \n",
       "407       175  \n",
       "325       175  \n",
       "409       175  \n",
       "442       175  "
      ]
     },
     "execution_count": 91,
     "metadata": {},
     "output_type": "execute_result"
    }
   ],
   "source": [
    "cooking_by_duration = unfiltered[unfiltered['Category'] == 'Cooking'].sort_values('Duration',ascending = False)\n",
    "cooking_by_duration[['Experience_Name','Rating','Reviews','Cost','Duration']].head(8)"
   ]
  }
 ],
 "metadata": {
  "kernelspec": {
   "display_name": "Python 3",
   "language": "python",
   "name": "python3"
  },
  "language_info": {
   "codemirror_mode": {
    "name": "ipython",
    "version": 3
   },
   "file_extension": ".py",
   "mimetype": "text/x-python",
   "name": "python",
   "nbconvert_exporter": "python",
   "pygments_lexer": "ipython3",
   "version": "3.8.8"
  }
 },
 "nbformat": 4,
 "nbformat_minor": 5
}
